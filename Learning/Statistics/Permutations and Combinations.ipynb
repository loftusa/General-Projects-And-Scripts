{
 "cells": [
  {
   "cell_type": "markdown",
   "metadata": {},
   "source": [
    "# A Brief Break for Counting Rules"
   ]
  },
  {
   "cell_type": "code",
   "execution_count": 2,
   "metadata": {
    "collapsed": true
   },
   "outputs": [],
   "source": [
    "%matplotlib inline\n",
    "import numpy as np\n",
    "import pandas as pd\n",
    "import matplotlib.pyplot as plt\n",
    "from IPython.core.interactiveshell import InteractiveShell\n",
    "InteractiveShell.ast_node_interactivity = 'all'"
   ]
  },
  {
   "cell_type": "markdown",
   "metadata": {},
   "source": [
    "## Rule 1: The General Rule"
   ]
  },
  {
   "cell_type": "markdown",
   "metadata": {},
   "source": [
    "Number of sequences\n",
    "\n",
    "$=k_1\\times k_2 \\times\\dots\\times k_n$\n",
    "\n",
    "General rule for counting sequences. It's just the multiplication probability rule."
   ]
  },
  {
   "cell_type": "markdown",
   "metadata": {},
   "source": [
    "## Rule 2: What Happens When All K's are Equal"
   ]
  },
  {
   "cell_type": "markdown",
   "metadata": {},
   "source": [
    "$k\\times k\\times\\dots\\times k_n = k^n$\n",
    "\n",
    "Intuition: It's the general rule, but because everything is equal you can just use an exponent"
   ]
  },
  {
   "cell_type": "markdown",
   "metadata": {},
   "source": [
    "## Rule 3: Permutation"
   ]
  },
  {
   "cell_type": "markdown",
   "metadata": {},
   "source": [
    "Number of permutations \n",
    "\n",
    "$=N \\times (N-1) \\times\\dots\\times 1$\n",
    "\n",
    "$ = N!$\n",
    "\n",
    "Applicable whenever you're trying to arrange things a specific way. Suppose we have $N$ things; how many ways can these $N$ things be arranged in a sequence?\n",
    "\n",
    "Intuition: For a specific arrangement, the first thing has $N$ potential outcomes, the second has $N-1$ (because the first thing is used up) and so on."
   ]
  },
  {
   "cell_type": "markdown",
   "metadata": {},
   "source": [
    "## Rule 4: Ordered combinations"
   ]
  },
  {
   "cell_type": "markdown",
   "metadata": {},
   "source": [
    "Number of ordered combinations\n",
    "\n",
    "$=\\Large\\frac{N!}{(N-r)!}$\n",
    "\n",
    "Suppose we have $N$ things, and out of these $N$ things we are going to select and order $r$ of them. How many ways can we do it?\n",
    "\n",
    "Intuition: It's the Permutation rule, but now $N$ is bigger than the number of stuff you're combining ($r$), so you have to cancel out the smaller numbers you would have multiplied in the normal Permutation rule "
   ]
  },
  {
   "cell_type": "markdown",
   "metadata": {},
   "source": [
    "## Rule 5: Unordered combinations"
   ]
  },
  {
   "cell_type": "markdown",
   "metadata": {},
   "source": [
    "Number of unordered combinations\n",
    "\n",
    "$=\\Large\\frac{N!}{r!(N-r)!}$ $=\\Large\\binom{N}{r}$\n",
    "\n",
    "Suppose we have $N$ things, and out of those $N$ things we are going to select $r$ of them and it doesn't matter what the order is. How many ways can we do it?\n",
    "\n",
    "*Intuition*: For every unordered combination there are r! times as many combinations in its ordered counterpart. Once you pull out $r$, you can notice its permutation count with the Permutation rules and then use inversion."
   ]
  },
  {
   "cell_type": "code",
   "execution_count": null,
   "metadata": {
    "collapsed": true
   },
   "outputs": [],
   "source": []
  }
 ],
 "metadata": {
  "kernelspec": {
   "display_name": "Python 3",
   "language": "python",
   "name": "python3"
  },
  "language_info": {
   "codemirror_mode": {
    "name": "ipython",
    "version": 3
   },
   "file_extension": ".py",
   "mimetype": "text/x-python",
   "name": "python",
   "nbconvert_exporter": "python",
   "pygments_lexer": "ipython3",
   "version": "3.6.3"
  }
 },
 "nbformat": 4,
 "nbformat_minor": 2
}
