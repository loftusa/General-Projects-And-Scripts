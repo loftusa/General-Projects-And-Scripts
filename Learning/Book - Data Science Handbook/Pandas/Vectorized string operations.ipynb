{
 "cells": [
  {
   "cell_type": "markdown",
   "metadata": {},
   "source": [
    "# Vectorized String Operations"
   ]
  },
  {
   "cell_type": "code",
<<<<<<< HEAD
   "execution_count": 1,
=======
   "execution_count": 11,
>>>>>>> refs/remotes/origin/master
   "metadata": {},
   "outputs": [],
   "source": [
    "import numpy as np\n",
    "import pandas as pd"
   ]
  },
  {
   "cell_type": "markdown",
   "metadata": {},
   "source": [
    "## Intro stuff"
   ]
  },
  {
   "cell_type": "code",
<<<<<<< HEAD
   "execution_count": 2,
=======
   "execution_count": 31,
>>>>>>> refs/remotes/origin/master
   "metadata": {},
   "outputs": [],
   "source": [
    "names = pd.Series(['ALEX Loftus', 'DEVIN', 'robert', 'savanna', 'calyn', 'elena', 'GeoFf'])"
   ]
  },
  {
   "cell_type": "code",
<<<<<<< HEAD
   "execution_count": 3,
=======
   "execution_count": 26,
>>>>>>> refs/remotes/origin/master
   "metadata": {},
   "outputs": [
    {
     "data": {
      "text/plain": [
<<<<<<< HEAD
       "0    alex loftus\n",
       "1          devin\n",
       "2         robert\n",
       "3        savanna\n",
       "4          calyn\n",
       "5          elena\n",
       "6          geoff\n",
       "dtype: object"
      ]
     },
     "execution_count": 3,
=======
       "0       alex\n",
       "1      devin\n",
       "2     robert\n",
       "3    savanna\n",
       "4      calyn\n",
       "5      elena\n",
       "6      geoff\n",
       "dtype: object"
      ]
     },
     "execution_count": 26,
>>>>>>> refs/remotes/origin/master
     "metadata": {},
     "output_type": "execute_result"
    }
   ],
   "source": [
    "names.str.lower()"
   ]
  },
  {
   "cell_type": "code",
<<<<<<< HEAD
   "execution_count": 4,
=======
   "execution_count": 27,
>>>>>>> refs/remotes/origin/master
   "metadata": {},
   "outputs": [
    {
     "data": {
      "text/plain": [
<<<<<<< HEAD
       "0    11\n",
       "1     5\n",
       "2     6\n",
       "3     7\n",
       "4     5\n",
       "5     5\n",
       "6     5\n",
       "dtype: int64"
      ]
     },
     "execution_count": 4,
=======
       "0    4\n",
       "1    5\n",
       "2    6\n",
       "3    7\n",
       "4    5\n",
       "5    5\n",
       "6    5\n",
       "dtype: int64"
      ]
     },
     "execution_count": 27,
>>>>>>> refs/remotes/origin/master
     "metadata": {},
     "output_type": "execute_result"
    }
   ],
   "source": [
    "names.str.len()"
   ]
  },
  {
   "cell_type": "code",
<<<<<<< HEAD
   "execution_count": 5,
=======
   "execution_count": 45,
>>>>>>> refs/remotes/origin/master
   "metadata": {},
   "outputs": [
    {
     "data": {
      "text/plain": [
       "['ALEX']"
      ]
     },
<<<<<<< HEAD
     "execution_count": 5,
=======
     "execution_count": 45,
>>>>>>> refs/remotes/origin/master
     "metadata": {},
     "output_type": "execute_result"
    }
   ],
   "source": [
    "names.str.findall('ALEX')[0]"
   ]
  },
  {
   "cell_type": "code",
<<<<<<< HEAD
   "execution_count": 6,
=======
   "execution_count": 48,
>>>>>>> refs/remotes/origin/master
   "metadata": {},
   "outputs": [
    {
     "data": {
      "text/plain": [
       "0    ALEX Loftus\n",
       "1          DEVIN\n",
       "2         robert\n",
       "3        savanna\n",
       "4          calyn\n",
       "5          elena\n",
       "6          GeoFf\n",
       "dtype: object"
      ]
     },
<<<<<<< HEAD
     "execution_count": 6,
=======
     "execution_count": 48,
>>>>>>> refs/remotes/origin/master
     "metadata": {},
     "output_type": "execute_result"
    }
   ],
   "source": [
    "names"
   ]
  },
  {
   "cell_type": "code",
<<<<<<< HEAD
   "execution_count": 7,
=======
   "execution_count": 47,
>>>>>>> refs/remotes/origin/master
   "metadata": {},
   "outputs": [
    {
     "name": "stderr",
     "output_type": "stream",
     "text": [
      "C:\\Anaconda\\lib\\site-packages\\ipykernel_launcher.py:1: FutureWarning: currently extract(expand=None) means expand=False (return Index/Series/DataFrame) but in a future version of pandas this will be changed to expand=True (return DataFrame)\n",
      "  \"\"\"Entry point for launching an IPython kernel.\n"
     ]
    },
    {
     "data": {
      "text/plain": [
       "0       ALEX\n",
       "1      DEVIN\n",
       "2     robert\n",
       "3    savanna\n",
       "4      calyn\n",
       "5      elena\n",
       "6      GeoFf\n",
       "dtype: object"
      ]
     },
<<<<<<< HEAD
     "execution_count": 7,
=======
     "execution_count": 47,
>>>>>>> refs/remotes/origin/master
     "metadata": {},
     "output_type": "execute_result"
    }
   ],
   "source": [
    "names.str.extract('([A-Za-z]+)')"
   ]
  },
  {
   "cell_type": "code",
<<<<<<< HEAD
   "execution_count": 8,
=======
   "execution_count": 105,
>>>>>>> refs/remotes/origin/master
   "metadata": {},
   "outputs": [
    {
     "data": {
      "text/plain": [
       "0          []\n",
       "1     [DEVIN]\n",
       "2    [robert]\n",
       "3          []\n",
       "4     [calyn]\n",
       "5          []\n",
       "6     [GeoFf]\n",
       "dtype: object"
      ]
     },
<<<<<<< HEAD
     "execution_count": 8,
=======
     "execution_count": 105,
>>>>>>> refs/remotes/origin/master
     "metadata": {},
     "output_type": "execute_result"
    }
   ],
   "source": [
    "# Find all names that start and end with a consonant\n",
    "names.str.findall(r'^[^AEIOU].*[^aeiou]$')"
   ]
  },
  {
   "cell_type": "code",
<<<<<<< HEAD
   "execution_count": 9,
=======
   "execution_count": 106,
>>>>>>> refs/remotes/origin/master
   "metadata": {},
   "outputs": [
    {
     "data": {
      "text/plain": [
       "0    A\n",
       "1    D\n",
       "2    r\n",
       "3    s\n",
       "4    c\n",
       "5    e\n",
       "6    G\n",
       "dtype: object"
      ]
     },
<<<<<<< HEAD
     "execution_count": 9,
=======
     "execution_count": 106,
>>>>>>> refs/remotes/origin/master
     "metadata": {},
     "output_type": "execute_result"
    }
   ],
   "source": [
    "# Return series with first letter of each name\n",
    "names.str.get(0)"
   ]
  },
  {
   "cell_type": "code",
<<<<<<< HEAD
   "execution_count": 10,
=======
   "execution_count": 107,
>>>>>>> refs/remotes/origin/master
   "metadata": {},
   "outputs": [
    {
     "data": {
      "text/plain": [
       "0    ALE\n",
       "1    DEV\n",
       "2    rob\n",
       "3    sav\n",
       "4    cal\n",
       "5    ele\n",
       "6    Geo\n",
       "dtype: object"
      ]
     },
<<<<<<< HEAD
     "execution_count": 10,
=======
     "execution_count": 107,
>>>>>>> refs/remotes/origin/master
     "metadata": {},
     "output_type": "execute_result"
    }
   ],
   "source": [
    "# Return series with first 3 letters of each name\n",
    "# Do this in two different ways\n",
    "names.str[0:3]"
   ]
  },
  {
   "cell_type": "code",
<<<<<<< HEAD
   "execution_count": 11,
=======
   "execution_count": 67,
>>>>>>> refs/remotes/origin/master
   "metadata": {},
   "outputs": [
    {
     "data": {
      "text/html": [
       "<div>\n",
       "<style scoped>\n",
       "    .dataframe tbody tr th:only-of-type {\n",
       "        vertical-align: middle;\n",
       "    }\n",
       "\n",
       "    .dataframe tbody tr th {\n",
       "        vertical-align: top;\n",
       "    }\n",
       "\n",
       "    .dataframe thead th {\n",
       "        text-align: right;\n",
       "    }\n",
       "</style>\n",
       "<table border=\"1\" class=\"dataframe\">\n",
       "  <thead>\n",
       "    <tr style=\"text-align: right;\">\n",
       "      <th></th>\n",
       "      <th>names</th>\n",
       "      <th>nums</th>\n",
       "    </tr>\n",
       "  </thead>\n",
       "  <tbody>\n",
       "    <tr>\n",
       "      <th>0</th>\n",
       "      <td>ALEX Loftus</td>\n",
       "      <td>0</td>\n",
       "    </tr>\n",
       "    <tr>\n",
       "      <th>1</th>\n",
       "      <td>DEVIN</td>\n",
       "      <td>1</td>\n",
       "    </tr>\n",
       "    <tr>\n",
       "      <th>2</th>\n",
       "      <td>robert</td>\n",
       "      <td>2</td>\n",
       "    </tr>\n",
       "    <tr>\n",
       "      <th>3</th>\n",
       "      <td>savanna</td>\n",
       "      <td>3</td>\n",
       "    </tr>\n",
       "    <tr>\n",
       "      <th>4</th>\n",
       "      <td>calyn</td>\n",
       "      <td>4</td>\n",
       "    </tr>\n",
       "    <tr>\n",
       "      <th>5</th>\n",
       "      <td>elena</td>\n",
       "      <td>5</td>\n",
       "    </tr>\n",
       "    <tr>\n",
       "      <th>6</th>\n",
       "      <td>GeoFf</td>\n",
       "      <td>6</td>\n",
       "    </tr>\n",
       "  </tbody>\n",
       "</table>\n",
       "</div>"
      ],
      "text/plain": [
       "         names  nums\n",
       "0  ALEX Loftus     0\n",
       "1        DEVIN     1\n",
       "2       robert     2\n",
       "3      savanna     3\n",
       "4        calyn     4\n",
       "5        elena     5\n",
       "6        GeoFf     6"
      ]
     },
<<<<<<< HEAD
     "execution_count": 11,
=======
     "execution_count": 67,
>>>>>>> refs/remotes/origin/master
     "metadata": {},
     "output_type": "execute_result"
    }
   ],
   "source": [
    "df = pd.DataFrame({'names': names, 'nums': list(range(7))})\n",
    "df"
   ]
  },
  {
   "cell_type": "code",
<<<<<<< HEAD
   "execution_count": 12,
=======
   "execution_count": 98,
>>>>>>> refs/remotes/origin/master
   "metadata": {},
   "outputs": [],
   "source": [
    "full_names = pd.DataFrame({'names': names, 'info': ['A', 'A', 'A', 'A', 'B', 'B', 'F']}, columns=['info', 'names'])"
   ]
  },
  {
   "cell_type": "code",
<<<<<<< HEAD
   "execution_count": 13,
=======
   "execution_count": 99,
>>>>>>> refs/remotes/origin/master
   "metadata": {},
   "outputs": [
    {
     "data": {
      "text/html": [
       "<div>\n",
       "<style scoped>\n",
       "    .dataframe tbody tr th:only-of-type {\n",
       "        vertical-align: middle;\n",
       "    }\n",
       "\n",
       "    .dataframe tbody tr th {\n",
       "        vertical-align: top;\n",
       "    }\n",
       "\n",
       "    .dataframe thead th {\n",
       "        text-align: right;\n",
       "    }\n",
       "</style>\n",
       "<table border=\"1\" class=\"dataframe\">\n",
       "  <thead>\n",
       "    <tr style=\"text-align: right;\">\n",
       "      <th></th>\n",
       "      <th>info</th>\n",
       "      <th>names</th>\n",
       "    </tr>\n",
       "  </thead>\n",
       "  <tbody>\n",
       "    <tr>\n",
       "      <th>0</th>\n",
       "      <td>A</td>\n",
       "      <td>ALEX Loftus</td>\n",
       "    </tr>\n",
       "    <tr>\n",
       "      <th>1</th>\n",
       "      <td>A</td>\n",
       "      <td>DEVIN</td>\n",
       "    </tr>\n",
       "    <tr>\n",
       "      <th>2</th>\n",
       "      <td>A</td>\n",
       "      <td>robert</td>\n",
       "    </tr>\n",
       "    <tr>\n",
       "      <th>3</th>\n",
       "      <td>A</td>\n",
       "      <td>savanna</td>\n",
       "    </tr>\n",
       "    <tr>\n",
       "      <th>4</th>\n",
       "      <td>B</td>\n",
       "      <td>calyn</td>\n",
       "    </tr>\n",
       "  </tbody>\n",
       "</table>\n",
       "</div>"
      ],
      "text/plain": [
       "  info        names\n",
       "0    A  ALEX Loftus\n",
       "1    A        DEVIN\n",
       "2    A       robert\n",
       "3    A      savanna\n",
       "4    B        calyn"
      ]
     },
<<<<<<< HEAD
     "execution_count": 13,
=======
     "execution_count": 99,
>>>>>>> refs/remotes/origin/master
     "metadata": {},
     "output_type": "execute_result"
    }
   ],
   "source": [
    "full_names.head()"
   ]
  },
  {
   "cell_type": "code",
<<<<<<< HEAD
   "execution_count": 14,
=======
   "execution_count": 87,
>>>>>>> refs/remotes/origin/master
   "metadata": {},
   "outputs": [
    {
     "data": {
      "text/html": [
       "<div>\n",
       "<style scoped>\n",
       "    .dataframe tbody tr th:only-of-type {\n",
       "        vertical-align: middle;\n",
       "    }\n",
       "\n",
       "    .dataframe tbody tr th {\n",
       "        vertical-align: top;\n",
       "    }\n",
       "\n",
       "    .dataframe thead th {\n",
       "        text-align: right;\n",
       "    }\n",
       "</style>\n",
       "<table border=\"1\" class=\"dataframe\">\n",
       "  <thead>\n",
       "    <tr style=\"text-align: right;\">\n",
       "      <th></th>\n",
       "      <th>A</th>\n",
       "      <th>B</th>\n",
       "      <th>F</th>\n",
       "    </tr>\n",
       "  </thead>\n",
       "  <tbody>\n",
       "    <tr>\n",
       "      <th>0</th>\n",
       "      <td>1</td>\n",
       "      <td>0</td>\n",
       "      <td>0</td>\n",
       "    </tr>\n",
       "    <tr>\n",
       "      <th>1</th>\n",
       "      <td>1</td>\n",
       "      <td>0</td>\n",
       "      <td>0</td>\n",
       "    </tr>\n",
       "    <tr>\n",
       "      <th>2</th>\n",
       "      <td>1</td>\n",
       "      <td>0</td>\n",
       "      <td>0</td>\n",
       "    </tr>\n",
       "    <tr>\n",
       "      <th>3</th>\n",
       "      <td>1</td>\n",
       "      <td>0</td>\n",
       "      <td>0</td>\n",
       "    </tr>\n",
       "    <tr>\n",
       "      <th>4</th>\n",
       "      <td>0</td>\n",
       "      <td>1</td>\n",
       "      <td>0</td>\n",
       "    </tr>\n",
       "    <tr>\n",
       "      <th>5</th>\n",
       "      <td>0</td>\n",
       "      <td>1</td>\n",
       "      <td>0</td>\n",
       "    </tr>\n",
       "    <tr>\n",
       "      <th>6</th>\n",
       "      <td>0</td>\n",
       "      <td>0</td>\n",
       "      <td>1</td>\n",
       "    </tr>\n",
       "  </tbody>\n",
       "</table>\n",
       "</div>"
      ],
      "text/plain": [
       "   A  B  F\n",
       "0  1  0  0\n",
       "1  1  0  0\n",
       "2  1  0  0\n",
       "3  1  0  0\n",
       "4  0  1  0\n",
       "5  0  1  0\n",
       "6  0  0  1"
      ]
     },
<<<<<<< HEAD
     "execution_count": 14,
=======
     "execution_count": 87,
>>>>>>> refs/remotes/origin/master
     "metadata": {},
     "output_type": "execute_result"
    }
   ],
   "source": [
    "full_names['info'].str.get_dummies()"
   ]
  },
  {
   "cell_type": "markdown",
   "metadata": {},
   "source": [
    "## Recipe Database"
   ]
  },
  {
   "cell_type": "code",
<<<<<<< HEAD
   "execution_count": 15,
   "metadata": {},
   "outputs": [],
   "source": [
    "# Can't recipes from amazon cause cold turkey?\n",
    "#!curl -O https://s3.amazonaws.com/openrecipes/20170107-061401-recipeitems.json.gz"
=======
   "execution_count": 9,
   "metadata": {},
   "outputs": [
    {
     "name": "stderr",
     "output_type": "stream",
     "text": [
      "  % Total    % Received % Xferd  Average Speed   Time    Time     Time  Current\n",
      "                                 Dload  Upload   Total   Spent    Left  Speed\n",
      "\n",
      "  0     0    0     0    0     0      0      0 --:--:-- --:--:-- --:--:--     0\n",
      "  0 29.3M    0 50808    0     0  50808      0  0:10:06 --:--:--  0:10:06 59147\n",
      "  1 29.3M    1  543k    0     0   543k      0  0:00:55  0:00:01  0:00:54  292k\n",
      "  5 29.3M    5 1801k    0     0   900k      0  0:00:33  0:00:02  0:00:31  644k\n",
      " 16 29.3M   16 5082k    0     0  1694k      0  0:00:17  0:00:03  0:00:14 1338k\n",
      " 36 29.3M   36 10.5M    0     0  2708k      0  0:00:11  0:00:04  0:00:07 2258k\n",
      " 61 29.3M   61 18.2M    0     0  3728k      0  0:00:08  0:00:05  0:00:03 3765k\n",
      " 94 29.3M   94 27.8M    0     0  4749k      0  0:00:06  0:00:06 --:--:-- 5660k\n",
      "100 29.3M  100 29.3M    0     0  5012k      0  0:00:06  0:00:06 --:--:-- 6802k\n"
     ]
    }
   ],
   "source": [
    "# Can't recipes from amazon cause cold turkey?\n",
    "!curl -O https://s3.amazonaws.com/openrecipes/20170107-061401-recipeitems.json.gz"
>>>>>>> refs/remotes/origin/master
   ]
  },
  {
   "cell_type": "code",
<<<<<<< HEAD
   "execution_count": 16,
=======
   "execution_count": 14,
>>>>>>> refs/remotes/origin/master
   "metadata": {},
   "outputs": [],
   "source": [
    "df = pd.read_json('recipe-items.json', lines=True)"
   ]
  },
  {
   "cell_type": "code",
<<<<<<< HEAD
   "execution_count": 17,
=======
   "execution_count": 16,
>>>>>>> refs/remotes/origin/master
   "metadata": {},
   "outputs": [],
   "source": [
    "recipes = df"
   ]
  },
  {
   "cell_type": "code",
<<<<<<< HEAD
   "execution_count": 18,
=======
   "execution_count": 17,
>>>>>>> refs/remotes/origin/master
   "metadata": {},
   "outputs": [
    {
     "data": {
      "text/html": [
       "<div>\n",
       "<style scoped>\n",
       "    .dataframe tbody tr th:only-of-type {\n",
       "        vertical-align: middle;\n",
       "    }\n",
       "\n",
       "    .dataframe tbody tr th {\n",
       "        vertical-align: top;\n",
       "    }\n",
       "\n",
       "    .dataframe thead th {\n",
       "        text-align: right;\n",
       "    }\n",
       "</style>\n",
       "<table border=\"1\" class=\"dataframe\">\n",
       "  <thead>\n",
       "    <tr style=\"text-align: right;\">\n",
       "      <th></th>\n",
       "      <th>_id</th>\n",
       "      <th>cookTime</th>\n",
       "      <th>creator</th>\n",
       "      <th>dateModified</th>\n",
       "      <th>datePublished</th>\n",
       "      <th>description</th>\n",
       "      <th>image</th>\n",
       "      <th>ingredients</th>\n",
       "      <th>name</th>\n",
       "      <th>prepTime</th>\n",
       "      <th>recipeCategory</th>\n",
       "      <th>recipeInstructions</th>\n",
       "      <th>recipeYield</th>\n",
       "      <th>source</th>\n",
       "      <th>totalTime</th>\n",
       "      <th>ts</th>\n",
       "      <th>url</th>\n",
       "    </tr>\n",
       "  </thead>\n",
       "  <tbody>\n",
       "    <tr>\n",
       "      <th>0</th>\n",
       "      <td>{'$oid': '5160756b96cc62079cc2db15'}</td>\n",
       "      <td>PT30M</td>\n",
       "      <td>NaN</td>\n",
       "      <td>NaN</td>\n",
       "      <td>2013-03-11</td>\n",
       "      <td>Late Saturday afternoon, after Marlboro Man ha...</td>\n",
       "      <td>http://static.thepioneerwoman.com/cooking/file...</td>\n",
       "      <td>Biscuits\\n3 cups All-purpose Flour\\n2 Tablespo...</td>\n",
       "      <td>Drop Biscuits and Sausage Gravy</td>\n",
       "      <td>PT10M</td>\n",
       "      <td>NaN</td>\n",
       "      <td>NaN</td>\n",
       "      <td>12</td>\n",
       "      <td>thepioneerwoman</td>\n",
       "      <td>NaN</td>\n",
       "      <td>{'$date': 1365276011104}</td>\n",
       "      <td>http://thepioneerwoman.com/cooking/2013/03/dro...</td>\n",
       "    </tr>\n",
       "    <tr>\n",
       "      <th>1</th>\n",
       "      <td>{'$oid': '5160756d96cc62079cc2db16'}</td>\n",
       "      <td>PT20M</td>\n",
       "      <td>NaN</td>\n",
       "      <td>NaN</td>\n",
       "      <td>2013-03-13</td>\n",
       "      <td>When I was growing up, I participated in my Ep...</td>\n",
       "      <td>http://static.thepioneerwoman.com/cooking/file...</td>\n",
       "      <td>12 whole Dinner Rolls Or Small Sandwich Buns (...</td>\n",
       "      <td>Hot Roast Beef Sandwiches</td>\n",
       "      <td>PT20M</td>\n",
       "      <td>NaN</td>\n",
       "      <td>NaN</td>\n",
       "      <td>12</td>\n",
       "      <td>thepioneerwoman</td>\n",
       "      <td>NaN</td>\n",
       "      <td>{'$date': 1365276013902}</td>\n",
       "      <td>http://thepioneerwoman.com/cooking/2013/03/hot...</td>\n",
       "    </tr>\n",
       "    <tr>\n",
       "      <th>2</th>\n",
       "      <td>{'$oid': '5160756f96cc6207a37ff777'}</td>\n",
       "      <td>NaN</td>\n",
       "      <td>NaN</td>\n",
       "      <td>NaN</td>\n",
       "      <td>2013-01-07</td>\n",
       "      <td>A beauty of a carrot salad - tricked out with ...</td>\n",
       "      <td>http://www.101cookbooks.com/mt-static/images/f...</td>\n",
       "      <td>Dressing:\\n1 tablespoon cumin seeds\\n1/3 cup /...</td>\n",
       "      <td>Morrocan Carrot and Chickpea Salad</td>\n",
       "      <td>PT15M</td>\n",
       "      <td>NaN</td>\n",
       "      <td>NaN</td>\n",
       "      <td>NaN</td>\n",
       "      <td>101cookbooks</td>\n",
       "      <td>NaN</td>\n",
       "      <td>{'$date': 1365276015332}</td>\n",
       "      <td>http://www.101cookbooks.com/archives/moroccan-...</td>\n",
       "    </tr>\n",
       "    <tr>\n",
       "      <th>3</th>\n",
       "      <td>{'$oid': '5160757096cc62079cc2db17'}</td>\n",
       "      <td>PT15M</td>\n",
       "      <td>NaN</td>\n",
       "      <td>NaN</td>\n",
       "      <td>2013-03-18</td>\n",
       "      <td>It's Monday! It's a brand new week! The birds ...</td>\n",
       "      <td>http://static.thepioneerwoman.com/cooking/file...</td>\n",
       "      <td>Biscuits\\n3 cups All-purpose Flour\\n2 Tablespo...</td>\n",
       "      <td>Mixed Berry Shortcake</td>\n",
       "      <td>PT15M</td>\n",
       "      <td>NaN</td>\n",
       "      <td>NaN</td>\n",
       "      <td>8</td>\n",
       "      <td>thepioneerwoman</td>\n",
       "      <td>NaN</td>\n",
       "      <td>{'$date': 1365276016700}</td>\n",
       "      <td>http://thepioneerwoman.com/cooking/2013/03/mix...</td>\n",
       "    </tr>\n",
       "    <tr>\n",
       "      <th>4</th>\n",
       "      <td>{'$oid': '5160757496cc6207a37ff778'}</td>\n",
       "      <td>NaN</td>\n",
       "      <td>NaN</td>\n",
       "      <td>NaN</td>\n",
       "      <td>2013-01-20</td>\n",
       "      <td>A simple breakfast bowl made with Greek yogurt...</td>\n",
       "      <td>http://www.101cookbooks.com/mt-static/images/f...</td>\n",
       "      <td>For each bowl: \\na big dollop of Greek yogurt\\...</td>\n",
       "      <td>Pomegranate Yogurt Bowl</td>\n",
       "      <td>PT5M</td>\n",
       "      <td>NaN</td>\n",
       "      <td>NaN</td>\n",
       "      <td>Serves 1.</td>\n",
       "      <td>101cookbooks</td>\n",
       "      <td>NaN</td>\n",
       "      <td>{'$date': 1365276020318}</td>\n",
       "      <td>http://www.101cookbooks.com/archives/pomegrana...</td>\n",
       "    </tr>\n",
       "  </tbody>\n",
       "</table>\n",
       "</div>"
      ],
      "text/plain": [
       "                                    _id cookTime creator dateModified  \\\n",
       "0  {'$oid': '5160756b96cc62079cc2db15'}    PT30M     NaN          NaN   \n",
       "1  {'$oid': '5160756d96cc62079cc2db16'}    PT20M     NaN          NaN   \n",
       "2  {'$oid': '5160756f96cc6207a37ff777'}      NaN     NaN          NaN   \n",
       "3  {'$oid': '5160757096cc62079cc2db17'}    PT15M     NaN          NaN   \n",
       "4  {'$oid': '5160757496cc6207a37ff778'}      NaN     NaN          NaN   \n",
       "\n",
       "  datePublished                                        description  \\\n",
       "0    2013-03-11  Late Saturday afternoon, after Marlboro Man ha...   \n",
       "1    2013-03-13  When I was growing up, I participated in my Ep...   \n",
       "2    2013-01-07  A beauty of a carrot salad - tricked out with ...   \n",
       "3    2013-03-18  It's Monday! It's a brand new week! The birds ...   \n",
       "4    2013-01-20  A simple breakfast bowl made with Greek yogurt...   \n",
       "\n",
       "                                               image  \\\n",
       "0  http://static.thepioneerwoman.com/cooking/file...   \n",
       "1  http://static.thepioneerwoman.com/cooking/file...   \n",
       "2  http://www.101cookbooks.com/mt-static/images/f...   \n",
       "3  http://static.thepioneerwoman.com/cooking/file...   \n",
       "4  http://www.101cookbooks.com/mt-static/images/f...   \n",
       "\n",
       "                                         ingredients  \\\n",
       "0  Biscuits\\n3 cups All-purpose Flour\\n2 Tablespo...   \n",
       "1  12 whole Dinner Rolls Or Small Sandwich Buns (...   \n",
       "2  Dressing:\\n1 tablespoon cumin seeds\\n1/3 cup /...   \n",
       "3  Biscuits\\n3 cups All-purpose Flour\\n2 Tablespo...   \n",
       "4  For each bowl: \\na big dollop of Greek yogurt\\...   \n",
       "\n",
       "                                 name prepTime recipeCategory  \\\n",
       "0     Drop Biscuits and Sausage Gravy    PT10M            NaN   \n",
       "1           Hot Roast Beef Sandwiches    PT20M            NaN   \n",
       "2  Morrocan Carrot and Chickpea Salad    PT15M            NaN   \n",
       "3               Mixed Berry Shortcake    PT15M            NaN   \n",
       "4             Pomegranate Yogurt Bowl     PT5M            NaN   \n",
       "\n",
       "  recipeInstructions recipeYield           source totalTime  \\\n",
       "0                NaN          12  thepioneerwoman       NaN   \n",
       "1                NaN          12  thepioneerwoman       NaN   \n",
       "2                NaN         NaN     101cookbooks       NaN   \n",
       "3                NaN           8  thepioneerwoman       NaN   \n",
       "4                NaN   Serves 1.     101cookbooks       NaN   \n",
       "\n",
       "                         ts                                                url  \n",
       "0  {'$date': 1365276011104}  http://thepioneerwoman.com/cooking/2013/03/dro...  \n",
       "1  {'$date': 1365276013902}  http://thepioneerwoman.com/cooking/2013/03/hot...  \n",
       "2  {'$date': 1365276015332}  http://www.101cookbooks.com/archives/moroccan-...  \n",
       "3  {'$date': 1365276016700}  http://thepioneerwoman.com/cooking/2013/03/mix...  \n",
       "4  {'$date': 1365276020318}  http://www.101cookbooks.com/archives/pomegrana...  "
      ]
     },
<<<<<<< HEAD
     "execution_count": 18,
=======
     "execution_count": 17,
>>>>>>> refs/remotes/origin/master
     "metadata": {},
     "output_type": "execute_result"
    }
   ],
   "source": [
    "recipes.head()"
   ]
  },
  {
   "cell_type": "code",
<<<<<<< HEAD
   "execution_count": 19,
=======
   "execution_count": 20,
>>>>>>> refs/remotes/origin/master
   "metadata": {},
   "outputs": [
    {
     "data": {
      "text/plain": [
       "count    173278.000000\n",
       "mean        247.425992\n",
       "std         147.080372\n",
       "min           0.000000\n",
       "25%         151.000000\n",
       "50%         224.000000\n",
       "75%         317.000000\n",
       "max        9083.000000\n",
       "Name: ingredients, dtype: float64"
      ]
     },
<<<<<<< HEAD
     "execution_count": 19,
=======
     "execution_count": 20,
>>>>>>> refs/remotes/origin/master
     "metadata": {},
     "output_type": "execute_result"
    }
   ],
   "source": [
    "# Get a description of the length of the strings in the 'ingredients' column\n",
    "recipes.ingredients.str.len().describe()"
   ]
  },
  {
   "cell_type": "code",
<<<<<<< HEAD
   "execution_count": 20,
   "metadata": {},
   "outputs": [
    {
     "data": {
      "text/plain": [
       "'Carrot Pineapple Spice &amp; Brownie Layer Cake with Whipped Cream &amp; Cream Cheese Frosting and Marzipan Carrots'"
      ]
     },
     "execution_count": 20,
=======
   "execution_count": 30,
   "metadata": {},
   "outputs": [
    {
     "name": "stderr",
     "output_type": "stream",
     "text": [
      "C:\\Anaconda\\lib\\site-packages\\numpy\\core\\fromnumeric.py:57: FutureWarning: 'argmax' is deprecated. Use 'idxmax' instead. The behavior of 'argmax' will be corrected to return the positional maximum in the future. Use 'series.values.argmax' to get the position of the maximum now.\n",
      "  return getattr(obj, method)(*args, **kwds)\n"
     ]
    },
    {
     "data": {
      "text/plain": [
       "135598"
      ]
     },
     "execution_count": 30,
>>>>>>> refs/remotes/origin/master
     "metadata": {},
     "output_type": "execute_result"
    }
   ],
   "source": [
    "# figure out which recipe has the most ingredients\n",
<<<<<<< HEAD
    "recipes['name'].iloc[recipes.ingredients.str.len().values.argmax()]"
=======
    "np.argmax(recipes['ingredients'].str.len())"
>>>>>>> refs/remotes/origin/master
   ]
  },
  {
   "cell_type": "code",
<<<<<<< HEAD
   "execution_count": null,
=======
   "execution_count": 39,
>>>>>>> refs/remotes/origin/master
   "metadata": {},
   "outputs": [
    {
     "data": {
      "text/plain": [
<<<<<<< HEAD
       "114"
      ]
     },
     "execution_count": 21,
=======
       "'Carrot Pineapple Spice &amp; Brownie Layer Cake with Whipped Cream &amp; Cream Cheese Frosting and Marzipan Carrots'"
      ]
     },
     "execution_count": 39,
>>>>>>> refs/remotes/origin/master
     "metadata": {},
     "output_type": "execute_result"
    }
   ],
   "source": [
<<<<<<< HEAD
    "# Figure out how many of the recipes list cinnamon as an ingredient\n",
    "recipes.ingredients.str.contains('ingredient').sum()"
   ]
  },
  {
   "cell_type": "code",
   "execution_count": null,
   "metadata": {},
   "outputs": [],
   "source": [
    "recipes.ingredients.sum()"
=======
    "# Get the name of that recipe\n",
    "recipes.name[recipes['ingredients'].str.len().values.argmax()]"
>>>>>>> refs/remotes/origin/master
   ]
  },
  {
   "cell_type": "code",
<<<<<<< HEAD
   "execution_count": null,
   "metadata": {},
   "outputs": [],
   "source": [
    "# Get ratio of descriptions that contain the word 'breakfast' to descriptions that don't\n",
    "recipes.name.str.contains('[Bb]reakfast').sum() / recipes.ingredients.sum()"
=======
   "execution_count": 53,
   "metadata": {},
   "outputs": [
    {
     "data": {
      "text/plain": [
       "0.020337261510405245"
      ]
     },
     "execution_count": 53,
     "metadata": {},
     "output_type": "execute_result"
    }
   ],
   "source": [
    "# Get ratio of descriptions that contain the word 'breakfast' to descriptions that don't\n",
    "len(recipes.name[recipes.description.str.contains('[Bb]reakfast').fillna(False)].index) / len(recipes.index)"
>>>>>>> refs/remotes/origin/master
   ]
  },
  {
   "cell_type": "code",
<<<<<<< HEAD
   "execution_count": null,
   "metadata": {},
   "outputs": [],
   "source": [
    "# Get total number of rows containing the word 'breakfast'"
=======
   "execution_count": 54,
   "metadata": {},
   "outputs": [
    {
     "data": {
      "text/plain": [
       "3524"
      ]
     },
     "execution_count": 54,
     "metadata": {},
     "output_type": "execute_result"
    }
   ],
   "source": [
    "# Get total number of rows containing the word 'breakfast'\n",
    "recipes.description.str.contains('[Bb]reakfast').fillna(False).sum()"
>>>>>>> refs/remotes/origin/master
   ]
  },
  {
   "cell_type": "code",
<<<<<<< HEAD
   "execution_count": null,
=======
   "execution_count": 58,
>>>>>>> refs/remotes/origin/master
   "metadata": {},
   "outputs": [],
   "source": [
    "import re\n",
    "spice_list = ['salt', 'pepper', 'oregano', 'sage', 'parsley', 'rosemary', 'tarragon', 'thyme', 'paprika', 'cumin']"
   ]
  },
  {
   "cell_type": "code",
<<<<<<< HEAD
   "execution_count": null,
   "metadata": {},
   "outputs": [],
   "source": [
    "# Build a boolean DataFrame indicating whether each ingredient in spice_list appears"
=======
   "execution_count": 64,
   "metadata": {},
   "outputs": [
    {
     "data": {
      "text/html": [
       "<div>\n",
       "<style scoped>\n",
       "    .dataframe tbody tr th:only-of-type {\n",
       "        vertical-align: middle;\n",
       "    }\n",
       "\n",
       "    .dataframe tbody tr th {\n",
       "        vertical-align: top;\n",
       "    }\n",
       "\n",
       "    .dataframe thead th {\n",
       "        text-align: right;\n",
       "    }\n",
       "</style>\n",
       "<table border=\"1\" class=\"dataframe\">\n",
       "  <thead>\n",
       "    <tr style=\"text-align: right;\">\n",
       "      <th></th>\n",
       "      <th>cumin</th>\n",
       "      <th>oregano</th>\n",
       "      <th>paprika</th>\n",
       "      <th>parsley</th>\n",
       "      <th>pepper</th>\n",
       "      <th>rosemary</th>\n",
       "      <th>sage</th>\n",
       "      <th>salt</th>\n",
       "      <th>tarragon</th>\n",
       "      <th>thyme</th>\n",
       "    </tr>\n",
       "  </thead>\n",
       "  <tbody>\n",
       "    <tr>\n",
       "      <th>0</th>\n",
       "      <td>False</td>\n",
       "      <td>False</td>\n",
       "      <td>False</td>\n",
       "      <td>False</td>\n",
       "      <td>False</td>\n",
       "      <td>False</td>\n",
       "      <td>True</td>\n",
       "      <td>False</td>\n",
       "      <td>False</td>\n",
       "      <td>False</td>\n",
       "    </tr>\n",
       "    <tr>\n",
       "      <th>1</th>\n",
       "      <td>False</td>\n",
       "      <td>False</td>\n",
       "      <td>False</td>\n",
       "      <td>False</td>\n",
       "      <td>False</td>\n",
       "      <td>False</td>\n",
       "      <td>False</td>\n",
       "      <td>False</td>\n",
       "      <td>False</td>\n",
       "      <td>False</td>\n",
       "    </tr>\n",
       "    <tr>\n",
       "      <th>2</th>\n",
       "      <td>True</td>\n",
       "      <td>False</td>\n",
       "      <td>False</td>\n",
       "      <td>False</td>\n",
       "      <td>True</td>\n",
       "      <td>False</td>\n",
       "      <td>False</td>\n",
       "      <td>True</td>\n",
       "      <td>False</td>\n",
       "      <td>False</td>\n",
       "    </tr>\n",
       "    <tr>\n",
       "      <th>3</th>\n",
       "      <td>False</td>\n",
       "      <td>False</td>\n",
       "      <td>False</td>\n",
       "      <td>False</td>\n",
       "      <td>False</td>\n",
       "      <td>False</td>\n",
       "      <td>False</td>\n",
       "      <td>False</td>\n",
       "      <td>False</td>\n",
       "      <td>False</td>\n",
       "    </tr>\n",
       "    <tr>\n",
       "      <th>4</th>\n",
       "      <td>False</td>\n",
       "      <td>False</td>\n",
       "      <td>False</td>\n",
       "      <td>False</td>\n",
       "      <td>False</td>\n",
       "      <td>False</td>\n",
       "      <td>False</td>\n",
       "      <td>False</td>\n",
       "      <td>False</td>\n",
       "      <td>False</td>\n",
       "    </tr>\n",
       "  </tbody>\n",
       "</table>\n",
       "</div>"
      ],
      "text/plain": [
       "   cumin  oregano  paprika  parsley  pepper  rosemary   sage   salt  tarragon  \\\n",
       "0  False    False    False    False   False     False   True  False     False   \n",
       "1  False    False    False    False   False     False  False  False     False   \n",
       "2   True    False    False    False    True     False  False   True     False   \n",
       "3  False    False    False    False   False     False  False  False     False   \n",
       "4  False    False    False    False   False     False  False  False     False   \n",
       "\n",
       "   thyme  \n",
       "0  False  \n",
       "1  False  \n",
       "2  False  \n",
       "3  False  \n",
       "4  False  "
      ]
     },
     "execution_count": 64,
     "metadata": {},
     "output_type": "execute_result"
    }
   ],
   "source": [
    "# Build a boolean DataFrame indicating whether each ingredient in spice_list appears\n",
    "spice_df = pd.DataFrame(dict((spice, recipes.ingredients.str.contains(spice, re.IGNORECASE)) for spice in spice_list))\n",
    "spice_df.head()"
>>>>>>> refs/remotes/origin/master
   ]
  },
  {
   "cell_type": "code",
<<<<<<< HEAD
   "execution_count": null,
   "metadata": {},
   "outputs": [],
   "source": [
    "# Get the names of every recipe in recipes that contains 'parsley & paprika & cumin'"
=======
   "execution_count": 68,
   "metadata": {},
   "outputs": [
    {
     "data": {
      "text/plain": [
       "847                 Dukkah lamb cutlets with quinoa salad\n",
       "1841    Roast pork loin with black pudding and celeria...\n",
       "2483    Chermoula-baked sea bass with quinoa, tomatill...\n",
       "3521                    Spicy lamb albondigas (meatballs)\n",
       "3730                   Spicy chicken with vegetable ragÃ¹\n",
       "Name: name, dtype: object"
      ]
     },
     "execution_count": 68,
     "metadata": {},
     "output_type": "execute_result"
    }
   ],
   "source": [
    "# Get the names of every recipe in recipes that contains 'parsley & paprika & cumin'\n",
    "recipes.name[spice_df.query('parsley & paprika & cumin').index].head()"
>>>>>>> refs/remotes/origin/master
   ]
  },
  {
   "cell_type": "code",
   "execution_count": null,
   "metadata": {},
   "outputs": [],
   "source": []
  }
 ],
 "metadata": {
  "kernelspec": {
   "display_name": "Python 3",
   "language": "python",
   "name": "python3"
  },
  "language_info": {
   "codemirror_mode": {
    "name": "ipython",
    "version": 3
   },
   "file_extension": ".py",
   "mimetype": "text/x-python",
   "name": "python",
   "nbconvert_exporter": "python",
   "pygments_lexer": "ipython3",
   "version": "3.6.6"
  }
 },
 "nbformat": 4,
 "nbformat_minor": 2
}
