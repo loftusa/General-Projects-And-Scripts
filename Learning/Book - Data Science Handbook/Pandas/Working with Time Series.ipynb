{
 "cells": [
  {
   "cell_type": "markdown",
   "metadata": {},
   "source": [
    "# Working with Time Series"
   ]
  },
  {
   "cell_type": "code",
<<<<<<< HEAD
<<<<<<< HEAD
   "execution_count": 1,
=======
   "execution_count": 309,
>>>>>>> refs/remotes/origin/master
=======
   "execution_count": 309,
>>>>>>> e70aabfc5f7c1034a47bd8890afa68afb59d1c3e
   "metadata": {},
   "outputs": [],
   "source": [
    "import pandas as pd\n",
    "import numpy as np\n",
    "from datetime import datetime\n",
    "from dateutil import parser\n",
    "import matplotlib.pyplot as plt\n",
    "import seaborn; seaborn.set()\n",
    "%matplotlib inline"
   ]
  },
  {
   "cell_type": "markdown",
   "metadata": {},
   "source": [
    "## Manipulating with python standard library"
   ]
  },
  {
   "cell_type": "code",
<<<<<<< HEAD
<<<<<<< HEAD
   "execution_count": 52,
   "metadata": {},
   "outputs": [
    {
     "data": {
      "text/plain": [
       "<module 'pandas' from 'C:\\\\Anaconda\\\\lib\\\\site-packages\\\\pandas\\\\__init__.py'>"
      ]
     },
     "execution_count": 52,
     "metadata": {},
     "output_type": "execute_result"
    }
   ],
   "source": [
    "pd"
   ]
  },
  {
   "cell_type": "code",
   "execution_count": 2,
=======
   "execution_count": 247,
>>>>>>> refs/remotes/origin/master
=======
   "execution_count": 247,
>>>>>>> e70aabfc5f7c1034a47bd8890afa68afb59d1c3e
   "metadata": {},
   "outputs": [
    {
     "data": {
      "text/plain": [
       "datetime.datetime(2018, 6, 26, 0, 0)"
      ]
     },
<<<<<<< HEAD
<<<<<<< HEAD
     "execution_count": 2,
=======
     "execution_count": 247,
>>>>>>> refs/remotes/origin/master
=======
     "execution_count": 247,
>>>>>>> e70aabfc5f7c1034a47bd8890afa68afb59d1c3e
     "metadata": {},
     "output_type": "execute_result"
    }
   ],
   "source": [
<<<<<<< HEAD
<<<<<<< HEAD
    "\n",
=======
>>>>>>> refs/remotes/origin/master
=======
>>>>>>> e70aabfc5f7c1034a47bd8890afa68afb59d1c3e
    "# Build the datetime for 6/26/2018\n",
    "datetime(2018, 6, 26)"
   ]
  },
  {
   "cell_type": "code",
<<<<<<< HEAD
<<<<<<< HEAD
   "execution_count": 3,
=======
   "execution_count": 248,
>>>>>>> refs/remotes/origin/master
=======
   "execution_count": 248,
>>>>>>> e70aabfc5f7c1034a47bd8890afa68afb59d1c3e
   "metadata": {},
   "outputs": [],
   "source": [
    "# Save current date into the variable \"date\", as a datetime object, created from the string 'June 26, 2018'\n",
    "date = parser.parse('June 26, 2018')"
   ]
  },
  {
   "cell_type": "code",
<<<<<<< HEAD
<<<<<<< HEAD
   "execution_count": 4,
=======
   "execution_count": 249,
>>>>>>> refs/remotes/origin/master
=======
   "execution_count": 249,
>>>>>>> e70aabfc5f7c1034a47bd8890afa68afb59d1c3e
   "metadata": {},
   "outputs": [
    {
     "data": {
      "text/plain": [
       "'Tuesday'"
      ]
     },
<<<<<<< HEAD
<<<<<<< HEAD
     "execution_count": 4,
=======
     "execution_count": 249,
>>>>>>> refs/remotes/origin/master
=======
     "execution_count": 249,
>>>>>>> e70aabfc5f7c1034a47bd8890afa68afb59d1c3e
     "metadata": {},
     "output_type": "execute_result"
    }
   ],
   "source": [
    "# Get the day of the week of 'date'\n",
    "date.strftime('%A')"
   ]
  },
  {
   "cell_type": "markdown",
   "metadata": {},
   "source": [
    "## Manipulating with np"
   ]
  },
  {
   "cell_type": "code",
<<<<<<< HEAD
<<<<<<< HEAD
   "execution_count": 5,
=======
   "execution_count": 250,
>>>>>>> refs/remotes/origin/master
=======
   "execution_count": 250,
>>>>>>> e70aabfc5f7c1034a47bd8890afa68afb59d1c3e
   "metadata": {},
   "outputs": [],
   "source": [
    "# Make 'date' a numpy object\n",
    "date = np.array('2018-06-26', dtype=np.datetime64)"
   ]
  },
  {
   "cell_type": "code",
<<<<<<< HEAD
<<<<<<< HEAD
   "execution_count": 6,
=======
   "execution_count": 251,
>>>>>>> refs/remotes/origin/master
=======
   "execution_count": 251,
>>>>>>> e70aabfc5f7c1034a47bd8890afa68afb59d1c3e
   "metadata": {},
   "outputs": [
    {
     "data": {
      "text/plain": [
       "array(['2018-06-26', '2018-06-27', '2018-06-28', '2018-06-29',\n",
       "       '2018-06-30', '2018-07-01', '2018-07-02', '2018-07-03',\n",
       "       '2018-07-04', '2018-07-05', '2018-07-06', '2018-07-07'], dtype='datetime64[D]')"
      ]
     },
<<<<<<< HEAD
<<<<<<< HEAD
     "execution_count": 6,
=======
     "execution_count": 251,
>>>>>>> refs/remotes/origin/master
=======
     "execution_count": 251,
>>>>>>> e70aabfc5f7c1034a47bd8890afa68afb59d1c3e
     "metadata": {},
     "output_type": "execute_result"
    }
   ],
   "source": [
    "# Make an array with the 12 days after 'date'\n",
    "date + np.arange(12)"
   ]
  },
  {
   "cell_type": "code",
<<<<<<< HEAD
<<<<<<< HEAD
   "execution_count": 7,
=======
   "execution_count": 252,
>>>>>>> refs/remotes/origin/master
=======
   "execution_count": 252,
>>>>>>> e70aabfc5f7c1034a47bd8890afa68afb59d1c3e
   "metadata": {},
   "outputs": [],
   "source": [
    "# Make 'date' the current time down to the minute as a np array\n",
    "date = np.datetime64('2018-06-26 01:32', 'm')"
   ]
  },
  {
   "cell_type": "markdown",
   "metadata": {},
   "source": [
    "## Manipulating with pandas"
   ]
  },
  {
   "cell_type": "code",
<<<<<<< HEAD
<<<<<<< HEAD
   "execution_count": 56,
=======
   "execution_count": 103,
>>>>>>> refs/remotes/origin/master
=======
   "execution_count": 103,
>>>>>>> e70aabfc5f7c1034a47bd8890afa68afb59d1c3e
   "metadata": {},
   "outputs": [
    {
     "data": {
      "text/plain": [
       "Timestamp('2018-06-26 13:39:00')"
      ]
     },
<<<<<<< HEAD
<<<<<<< HEAD
     "execution_count": 56,
=======
     "execution_count": 103,
>>>>>>> refs/remotes/origin/master
=======
     "execution_count": 103,
>>>>>>> e70aabfc5f7c1034a47bd8890afa68afb59d1c3e
     "metadata": {},
     "output_type": "execute_result"
    }
   ],
   "source": [
<<<<<<< HEAD
<<<<<<< HEAD
    "# Convert the string '2018-06-26 1:39pm' to a datetime with pandas\n",
    "date = pd.to_datetime('2018-06-26 1:39pm')\n",
=======
    "# Convert a string to a datetime with pandas\n",
    "date = pd.to_datetime('2018-06-26 1:39pm')  # Able to use 'am' and 'pm' in the string\n",
>>>>>>> refs/remotes/origin/master
=======
    "# Convert a string to a datetime with pandas\n",
    "date = pd.to_datetime('2018-06-26 1:39pm')  # Able to use 'am' and 'pm' in the string\n",
>>>>>>> e70aabfc5f7c1034a47bd8890afa68afb59d1c3e
    "date"
   ]
  },
  {
   "cell_type": "code",
<<<<<<< HEAD
<<<<<<< HEAD
   "execution_count": 63,
=======
   "execution_count": 259,
>>>>>>> refs/remotes/origin/master
=======
   "execution_count": 259,
>>>>>>> e70aabfc5f7c1034a47bd8890afa68afb59d1c3e
   "metadata": {},
   "outputs": [
    {
     "data": {
      "text/plain": [
<<<<<<< HEAD
<<<<<<< HEAD
       "TimedeltaIndex([ '1 days',  '2 days',  '3 days',  '4 days',  '5 days',\n",
       "                 '6 days',  '7 days',  '8 days',  '9 days', '10 days',\n",
       "                '11 days', '12 days'],\n",
       "               dtype='timedelta64[ns]', freq=None)"
      ]
     },
     "execution_count": 63,
=======
=======
>>>>>>> e70aabfc5f7c1034a47bd8890afa68afb59d1c3e
       "TimedeltaIndex([ '0 days',  '1 days',  '2 days',  '3 days',  '4 days',\n",
       "                 '5 days',  '6 days',  '7 days',  '8 days',  '9 days',\n",
       "                '10 days', '11 days'],\n",
       "               dtype='timedelta64[ns]', freq=None)"
      ]
     },
     "execution_count": 259,
<<<<<<< HEAD
>>>>>>> refs/remotes/origin/master
=======
>>>>>>> e70aabfc5f7c1034a47bd8890afa68afb59d1c3e
     "metadata": {},
     "output_type": "execute_result"
    }
   ],
   "source": [
    "# Make a timedelta object with 12 days\n",
<<<<<<< HEAD
<<<<<<< HEAD
    "pd.to_timedelta(np.arange(1, 13),  'D')"
=======
    "delta = pd.to_timedelta(np.arange(12), unit='D')\n",
    "delta"
>>>>>>> refs/remotes/origin/master
=======
    "delta = pd.to_timedelta(np.arange(12), unit='D')\n",
    "delta"
>>>>>>> e70aabfc5f7c1034a47bd8890afa68afb59d1c3e
   ]
  },
  {
   "cell_type": "code",
<<<<<<< HEAD
<<<<<<< HEAD
   "execution_count": 74,
=======
   "execution_count": 260,
>>>>>>> refs/remotes/origin/master
=======
   "execution_count": 260,
>>>>>>> e70aabfc5f7c1034a47bd8890afa68afb59d1c3e
   "metadata": {},
   "outputs": [
    {
     "data": {
      "text/plain": [
<<<<<<< HEAD
<<<<<<< HEAD
       "DatetimeIndex(['2018-06-26 13:39:00', '2018-06-27 13:39:00',\n",
       "               '2018-06-28 13:39:00', '2018-06-29 13:39:00',\n",
       "               '2018-06-30 13:39:00', '2018-07-01 13:39:00',\n",
       "               '2018-07-02 13:39:00', '2018-07-03 13:39:00',\n",
       "               '2018-07-04 13:39:00', '2018-07-05 13:39:00',\n",
       "               '2018-07-06 13:39:00', '2018-07-07 13:39:00'],\n",
       "              dtype='datetime64[ns]', freq=None)"
      ]
     },
     "execution_count": 74,
=======
=======
>>>>>>> e70aabfc5f7c1034a47bd8890afa68afb59d1c3e
       "DatetimeIndex(['2018-06-26 01:32:00', '2018-06-27 01:32:00',\n",
       "               '2018-06-28 01:32:00', '2018-06-29 01:32:00',\n",
       "               '2018-06-30 01:32:00', '2018-07-01 01:32:00',\n",
       "               '2018-07-02 01:32:00', '2018-07-03 01:32:00',\n",
       "               '2018-07-04 01:32:00', '2018-07-05 01:32:00',\n",
       "               '2018-07-06 01:32:00', '2018-07-07 01:32:00'],\n",
       "              dtype='datetime64[ns]', freq=None)"
      ]
     },
     "execution_count": 260,
<<<<<<< HEAD
>>>>>>> refs/remotes/origin/master
=======
>>>>>>> e70aabfc5f7c1034a47bd8890afa68afb59d1c3e
     "metadata": {},
     "output_type": "execute_result"
    }
   ],
   "source": [
    "# Get the 12 days after 'date'\n",
<<<<<<< HEAD
<<<<<<< HEAD
    "date + pd.to_timedelta(np.arange(12), 'D')"
=======
    "date + delta"
>>>>>>> refs/remotes/origin/master
=======
    "date + delta"
>>>>>>> e70aabfc5f7c1034a47bd8890afa68afb59d1c3e
   ]
  },
  {
   "cell_type": "code",
<<<<<<< HEAD
<<<<<<< HEAD
   "execution_count": 75,
=======
   "execution_count": 275,
>>>>>>> refs/remotes/origin/master
=======
   "execution_count": 275,
>>>>>>> e70aabfc5f7c1034a47bd8890afa68afb59d1c3e
   "metadata": {},
   "outputs": [
    {
     "data": {
      "text/plain": [
       "DatetimeIndex(['2018-06-26', '2018-06-27', '2018-06-28', '2018-06-29',\n",
       "               '2018-06-30', '2018-07-01', '2018-07-02', '2018-07-03',\n",
       "               '2018-07-04', '2018-07-05', '2018-07-06', '2018-07-07'],\n",
       "              dtype='datetime64[ns]', freq='D')"
      ]
     },
<<<<<<< HEAD
<<<<<<< HEAD
     "execution_count": 75,
=======
     "execution_count": 275,
>>>>>>> refs/remotes/origin/master
=======
     "execution_count": 275,
>>>>>>> e70aabfc5f7c1034a47bd8890afa68afb59d1c3e
     "metadata": {},
     "output_type": "execute_result"
    }
   ],
   "source": [
<<<<<<< HEAD
<<<<<<< HEAD
    "# Get a date range after june 26th\n",
    "pd.date_range('2018-06-26', periods=12, freq='D')\n"
=======
    "# Another way to do it\n",
    "pd.date_range('2018-06-26', periods=12, freq='D')"
>>>>>>> refs/remotes/origin/master
=======
    "# Another way to do it\n",
    "pd.date_range('2018-06-26', periods=12, freq='D')"
>>>>>>> e70aabfc5f7c1034a47bd8890afa68afb59d1c3e
   ]
  },
  {
   "cell_type": "code",
<<<<<<< HEAD
<<<<<<< HEAD
   "execution_count": 80,
=======
   "execution_count": 276,
>>>>>>> refs/remotes/origin/master
=======
   "execution_count": 276,
>>>>>>> e70aabfc5f7c1034a47bd8890afa68afb59d1c3e
   "metadata": {},
   "outputs": [
    {
     "data": {
      "text/plain": [
       "PeriodIndex(['2018-06-26', '2018-06-27', '2018-06-28', '2018-06-29',\n",
       "             '2018-06-30', '2018-07-01', '2018-07-02', '2018-07-03',\n",
       "             '2018-07-04', '2018-07-05', '2018-07-06', '2018-07-07'],\n",
       "            dtype='period[D]', freq='D')"
      ]
     },
<<<<<<< HEAD
<<<<<<< HEAD
     "execution_count": 80,
=======
     "execution_count": 276,
>>>>>>> refs/remotes/origin/master
=======
     "execution_count": 276,
>>>>>>> e70aabfc5f7c1034a47bd8890afa68afb59d1c3e
     "metadata": {},
     "output_type": "execute_result"
    }
   ],
   "source": [
<<<<<<< HEAD
<<<<<<< HEAD
    "# Get a period index of the 12 days after date\n",
=======
>>>>>>> refs/remotes/origin/master
=======
>>>>>>> e70aabfc5f7c1034a47bd8890afa68afb59d1c3e
    "pd.period_range('2018-06-26', periods=12, freq='D')"
   ]
  },
  {
   "cell_type": "code",
<<<<<<< HEAD
<<<<<<< HEAD
   "execution_count": 81,
=======
   "execution_count": 282,
>>>>>>> refs/remotes/origin/master
=======
   "execution_count": 282,
>>>>>>> e70aabfc5f7c1034a47bd8890afa68afb59d1c3e
   "metadata": {},
   "outputs": [
    {
     "data": {
      "text/plain": [
       "TimedeltaIndex([ '0 days',  '1 days',  '2 days',  '3 days',  '4 days',\n",
       "                 '5 days',  '6 days',  '7 days',  '8 days',  '9 days',\n",
       "                '10 days', '11 days'],\n",
       "               dtype='timedelta64[ns]', freq='D')"
      ]
     },
<<<<<<< HEAD
<<<<<<< HEAD
     "execution_count": 81,
=======
     "execution_count": 282,
>>>>>>> refs/remotes/origin/master
=======
     "execution_count": 282,
>>>>>>> e70aabfc5f7c1034a47bd8890afa68afb59d1c3e
     "metadata": {},
     "output_type": "execute_result"
    }
   ],
   "source": [
<<<<<<< HEAD
<<<<<<< HEAD
    "# Get Timedelta range of 12 days\n",
    "pd.to_timedelta(np.arange(12), 'D')\n",
=======
>>>>>>> refs/remotes/origin/master
=======
>>>>>>> e70aabfc5f7c1034a47bd8890afa68afb59d1c3e
    "pd.timedelta_range(start=0, periods=12, freq='D')"
   ]
  },
  {
   "cell_type": "markdown",
   "metadata": {},
   "source": [
    "## Indexing data by timestamps in pandas"
   ]
  },
  {
   "cell_type": "code",
<<<<<<< HEAD
<<<<<<< HEAD
   "execution_count": 82,
   "metadata": {},
   "outputs": [
    {
     "data": {
      "text/plain": [
       "DatetimeIndex(['2018-06-26', '2018-06-27', '2018-06-28', '2018-06-29',\n",
       "               '2018-06-30', '2018-07-01', '2018-07-02', '2018-07-03',\n",
       "               '2018-07-04', '2018-07-05', '2018-07-06', '2018-07-07'],\n",
       "              dtype='datetime64[ns]', freq=None)"
      ]
     },
     "execution_count": 82,
     "metadata": {},
     "output_type": "execute_result"
    }
   ],
   "source": [
    "dt_index = pd.to_datetime('2018-06-26') + pd.to_timedelta(np.arange(12), unit='D')\n",
    "dt_index"
=======
=======
>>>>>>> e70aabfc5f7c1034a47bd8890afa68afb59d1c3e
   "execution_count": 266,
   "metadata": {},
   "outputs": [],
   "source": [
    "dt_index = pd.to_datetime('2018-06-26') + pd.to_timedelta(np.arange(12), unit='D')"
<<<<<<< HEAD
>>>>>>> refs/remotes/origin/master
=======
>>>>>>> e70aabfc5f7c1034a47bd8890afa68afb59d1c3e
   ]
  },
  {
   "cell_type": "code",
<<<<<<< HEAD
<<<<<<< HEAD
   "execution_count": 83,
=======
   "execution_count": 268,
>>>>>>> refs/remotes/origin/master
=======
   "execution_count": 268,
>>>>>>> e70aabfc5f7c1034a47bd8890afa68afb59d1c3e
   "metadata": {},
   "outputs": [
    {
     "data": {
      "text/plain": [
       "2018-06-26     0\n",
       "2018-06-27     1\n",
       "2018-06-28     2\n",
       "2018-06-29     3\n",
       "2018-06-30     4\n",
       "2018-07-01     5\n",
       "2018-07-02     6\n",
       "2018-07-03     7\n",
       "2018-07-04     8\n",
       "2018-07-05     9\n",
       "2018-07-06    10\n",
       "2018-07-07    11\n",
       "dtype: int32"
      ]
     },
<<<<<<< HEAD
<<<<<<< HEAD
     "execution_count": 83,
=======
     "execution_count": 268,
>>>>>>> refs/remotes/origin/master
=======
     "execution_count": 268,
>>>>>>> e70aabfc5f7c1034a47bd8890afa68afb59d1c3e
     "metadata": {},
     "output_type": "execute_result"
    }
   ],
   "source": [
    "# Stick the datetime index into a series\n",
    "srs = pd.Series(np.arange(12), index=dt_index)\n",
    "srs"
   ]
  },
  {
   "cell_type": "code",
<<<<<<< HEAD
<<<<<<< HEAD
   "execution_count": 86,
=======
   "execution_count": 269,
>>>>>>> refs/remotes/origin/master
=======
   "execution_count": 269,
>>>>>>> e70aabfc5f7c1034a47bd8890afa68afb59d1c3e
   "metadata": {},
   "outputs": [
    {
     "data": {
      "text/plain": [
       "2018-06-26    0\n",
       "2018-06-27    1\n",
       "2018-06-28    2\n",
       "2018-06-29    3\n",
       "2018-06-30    4\n",
       "dtype: int32"
      ]
     },
<<<<<<< HEAD
<<<<<<< HEAD
     "execution_count": 86,
=======
     "execution_count": 269,
>>>>>>> refs/remotes/origin/master
=======
     "execution_count": 269,
>>>>>>> e70aabfc5f7c1034a47bd8890afa68afb59d1c3e
     "metadata": {},
     "output_type": "execute_result"
    }
   ],
   "source": [
    "# Get data from the 26th to the 30th\n",
<<<<<<< HEAD
<<<<<<< HEAD
    "srs['2018-06-26': '2018-06-30']"
=======
    "srs['2018-06-26' : '2018-06-30']"
>>>>>>> refs/remotes/origin/master
=======
    "srs['2018-06-26' : '2018-06-30']"
>>>>>>> e70aabfc5f7c1034a47bd8890afa68afb59d1c3e
   ]
  },
  {
   "cell_type": "markdown",
   "metadata": {},
   "source": [
    "## Time Series Data Structures in Pandas"
   ]
  },
  {
   "cell_type": "code",
<<<<<<< HEAD
<<<<<<< HEAD
   "execution_count": 17,
=======
   "execution_count": 270,
>>>>>>> refs/remotes/origin/master
=======
   "execution_count": 270,
>>>>>>> e70aabfc5f7c1034a47bd8890afa68afb59d1c3e
   "metadata": {},
   "outputs": [
    {
     "data": {
      "text/plain": [
       "pandas._libs.tslib.Timestamp"
      ]
     },
<<<<<<< HEAD
<<<<<<< HEAD
     "execution_count": 17,
=======
     "execution_count": 270,
>>>>>>> refs/remotes/origin/master
=======
     "execution_count": 270,
>>>>>>> e70aabfc5f7c1034a47bd8890afa68afb59d1c3e
     "metadata": {},
     "output_type": "execute_result"
    }
   ],
   "source": [
    "# For timestamps: pd.TimeStamp\n",
    "pd.Timestamp"
   ]
  },
  {
   "cell_type": "code",
<<<<<<< HEAD
<<<<<<< HEAD
   "execution_count": 18,
=======
   "execution_count": 271,
>>>>>>> refs/remotes/origin/master
=======
   "execution_count": 271,
>>>>>>> e70aabfc5f7c1034a47bd8890afa68afb59d1c3e
   "metadata": {},
   "outputs": [
    {
     "data": {
      "text/plain": [
       "pandas._libs.period.Period"
      ]
     },
<<<<<<< HEAD
<<<<<<< HEAD
     "execution_count": 18,
=======
     "execution_count": 271,
>>>>>>> refs/remotes/origin/master
=======
     "execution_count": 271,
>>>>>>> e70aabfc5f7c1034a47bd8890afa68afb59d1c3e
     "metadata": {},
     "output_type": "execute_result"
    }
   ],
   "source": [
    "# For time periods: pd.Period\n",
    "pd.Period"
   ]
  },
  {
   "cell_type": "code",
<<<<<<< HEAD
<<<<<<< HEAD
   "execution_count": 93,
=======
   "execution_count": 272,
>>>>>>> refs/remotes/origin/master
=======
   "execution_count": 272,
>>>>>>> e70aabfc5f7c1034a47bd8890afa68afb59d1c3e
   "metadata": {},
   "outputs": [
    {
     "data": {
      "text/plain": [
<<<<<<< HEAD
<<<<<<< HEAD
       "Timedelta('12 days 00:00:00')"
      ]
     },
     "execution_count": 93,
=======
=======
>>>>>>> e70aabfc5f7c1034a47bd8890afa68afb59d1c3e
       "pandas._libs.tslib.Timedelta"
      ]
     },
     "execution_count": 272,
<<<<<<< HEAD
>>>>>>> refs/remotes/origin/master
=======
>>>>>>> e70aabfc5f7c1034a47bd8890afa68afb59d1c3e
     "metadata": {},
     "output_type": "execute_result"
    }
   ],
   "source": [
    "# For time durations: pd.TimeDelta\n",
<<<<<<< HEAD
<<<<<<< HEAD
    "pd.Timedelta(12, 'D')"
=======
    "pd.Timedelta"
>>>>>>> refs/remotes/origin/master
=======
    "pd.Timedelta"
>>>>>>> e70aabfc5f7c1034a47bd8890afa68afb59d1c3e
   ]
  },
  {
   "cell_type": "code",
<<<<<<< HEAD
<<<<<<< HEAD
   "execution_count": 124,
=======
   "execution_count": 178,
>>>>>>> refs/remotes/origin/master
=======
   "execution_count": 178,
>>>>>>> e70aabfc5f7c1034a47bd8890afa68afb59d1c3e
   "metadata": {},
   "outputs": [
    {
     "data": {
      "text/plain": [
       "DatetimeIndex(['2018-06-26', '2018-06-27', '2018-06-28', '2018-06-29',\n",
       "               '2018-06-30', '2018-07-01'],\n",
       "              dtype='datetime64[ns]', freq=None)"
      ]
     },
<<<<<<< HEAD
<<<<<<< HEAD
     "execution_count": 124,
=======
     "execution_count": 178,
>>>>>>> refs/remotes/origin/master
=======
     "execution_count": 178,
>>>>>>> e70aabfc5f7c1034a47bd8890afa68afb59d1c3e
     "metadata": {},
     "output_type": "execute_result"
    }
   ],
   "source": [
    "# Make 'dates', a DateTime index, which is created by passing a list of a bunch of different kinds of strings \n",
    "# that could conceivably be seen as dates\n",
    "\n",
    "dates = pd.to_datetime(['06-26-2018', '6/27/2018', '6-28-18', '6.29.2018', '20180630', 'July 1st, 2018'])\n",
    "\n",
    "dates  # That's an impressive as hell parser"
   ]
  },
  {
   "cell_type": "code",
<<<<<<< HEAD
<<<<<<< HEAD
   "execution_count": 21,
=======
   "execution_count": 283,
>>>>>>> refs/remotes/origin/master
=======
   "execution_count": 283,
>>>>>>> e70aabfc5f7c1034a47bd8890afa68afb59d1c3e
   "metadata": {},
   "outputs": [
    {
     "data": {
      "text/plain": [
       "PeriodIndex(['2018-06-26', '2018-06-27', '2018-06-28', '2018-06-29',\n",
       "             '2018-06-30', '2018-07-01'],\n",
       "            dtype='period[D]', freq='D')"
      ]
     },
<<<<<<< HEAD
<<<<<<< HEAD
     "execution_count": 21,
=======
     "execution_count": 283,
>>>>>>> refs/remotes/origin/master
=======
     "execution_count": 283,
>>>>>>> e70aabfc5f7c1034a47bd8890afa68afb59d1c3e
     "metadata": {},
     "output_type": "execute_result"
    }
   ],
   "source": [
    "# Send dates to a period index, separated by day\n",
    "pd.PeriodIndex(dates, freq='D')"
   ]
  },
  {
   "cell_type": "code",
<<<<<<< HEAD
<<<<<<< HEAD
   "execution_count": 98,
=======
   "execution_count": 285,
>>>>>>> refs/remotes/origin/master
=======
   "execution_count": 285,
>>>>>>> e70aabfc5f7c1034a47bd8890afa68afb59d1c3e
   "metadata": {},
   "outputs": [
    {
     "data": {
      "text/plain": [
       "TimedeltaIndex(['0 days', '1 days', '2 days', '3 days', '4 days', '5 days'], dtype='timedelta64[ns]', freq=None)"
      ]
     },
<<<<<<< HEAD
<<<<<<< HEAD
     "execution_count": 98,
=======
     "execution_count": 285,
>>>>>>> refs/remotes/origin/master
=======
     "execution_count": 285,
>>>>>>> e70aabfc5f7c1034a47bd8890afa68afb59d1c3e
     "metadata": {},
     "output_type": "execute_result"
    }
   ],
   "source": [
    "# Get TimeDelta that has the difference between every date and june 26th, 2017\n",
    "dates - dates[0]"
   ]
  },
  {
   "cell_type": "markdown",
   "metadata": {},
   "source": [
    "### Ranges"
   ]
  },
  {
   "cell_type": "code",
<<<<<<< HEAD
<<<<<<< HEAD
   "execution_count": 130,
   "metadata": {},
   "outputs": [],
   "source": [
    "# Get date range from june 26th, 2018 to july 26th, 2018 (e.g. multiple points in time)\n",
    "dates = pd.date_range('06-26-2018', '07-26-2018')"
   ]
  },
  {
   "cell_type": "code",
   "execution_count": 106,
=======
   "execution_count": 200,
>>>>>>> refs/remotes/origin/master
=======
   "execution_count": 200,
>>>>>>> e70aabfc5f7c1034a47bd8890afa68afb59d1c3e
   "metadata": {},
   "outputs": [
    {
     "data": {
      "text/plain": [
<<<<<<< HEAD
<<<<<<< HEAD
       "TimedeltaIndex([ '0 days',  '1 days',  '2 days',  '3 days',  '4 days',\n",
       "                 '5 days',  '6 days',  '7 days',  '8 days',  '9 days',\n",
       "                '10 days', '11 days', '12 days', '13 days', '14 days',\n",
       "                '15 days', '16 days', '17 days', '18 days', '19 days',\n",
       "                '20 days', '21 days', '22 days', '23 days', '24 days',\n",
       "                '25 days', '26 days', '27 days', '28 days', '29 days',\n",
       "                '30 days'],\n",
       "               dtype='timedelta64[ns]', freq=None)"
      ]
     },
     "execution_count": 106,
=======
=======
>>>>>>> e70aabfc5f7c1034a47bd8890afa68afb59d1c3e
       "DatetimeIndex(['2018-06-26', '2018-06-27', '2018-06-28', '2018-06-29',\n",
       "               '2018-06-30', '2018-07-01', '2018-07-02', '2018-07-03',\n",
       "               '2018-07-04', '2018-07-05', '2018-07-06', '2018-07-07',\n",
       "               '2018-07-08', '2018-07-09', '2018-07-10', '2018-07-11',\n",
       "               '2018-07-12', '2018-07-13', '2018-07-14', '2018-07-15',\n",
       "               '2018-07-16', '2018-07-17', '2018-07-18', '2018-07-19',\n",
       "               '2018-07-20', '2018-07-21', '2018-07-22', '2018-07-23',\n",
       "               '2018-07-24', '2018-07-25', '2018-07-26'],\n",
       "              dtype='datetime64[ns]', freq='D')"
      ]
     },
     "execution_count": 200,
<<<<<<< HEAD
>>>>>>> refs/remotes/origin/master
=======
>>>>>>> e70aabfc5f7c1034a47bd8890afa68afb59d1c3e
     "metadata": {},
     "output_type": "execute_result"
    }
   ],
   "source": [
<<<<<<< HEAD
<<<<<<< HEAD
    "# Get a 31-day timedelta range\n",
    "pd.to_timedelta(np.arange(31), 'D')"
=======
    "# Get date range from june 26th, 2018 to july 26th, 2018 (e.g. multiple points in time)\n"
>>>>>>> refs/remotes/origin/master
=======
    "# Get date range from june 26th, 2018 to july 26th, 2018 (e.g. multiple points in time)\n"
>>>>>>> e70aabfc5f7c1034a47bd8890afa68afb59d1c3e
   ]
  },
  {
   "cell_type": "code",
<<<<<<< HEAD
<<<<<<< HEAD
   "execution_count": 131,
=======
   "execution_count": 201,
>>>>>>> refs/remotes/origin/master
=======
   "execution_count": 201,
>>>>>>> e70aabfc5f7c1034a47bd8890afa68afb59d1c3e
   "metadata": {},
   "outputs": [
    {
     "data": {
      "text/plain": [
<<<<<<< HEAD
<<<<<<< HEAD
       "PeriodIndex(['2018-06-26', '2018-06-27', '2018-06-28', '2018-06-29',\n",
       "             '2018-06-30', '2018-07-01', '2018-07-02', '2018-07-03',\n",
       "             '2018-07-04', '2018-07-05', '2018-07-06', '2018-07-07',\n",
       "             '2018-07-08', '2018-07-09', '2018-07-10', '2018-07-11',\n",
       "             '2018-07-12', '2018-07-13', '2018-07-14', '2018-07-15',\n",
       "             '2018-07-16', '2018-07-17', '2018-07-18', '2018-07-19',\n",
       "             '2018-07-20', '2018-07-21', '2018-07-22', '2018-07-23',\n",
       "             '2018-07-24', '2018-07-25', '2018-07-26'],\n",
       "            dtype='period[D]', freq='D')"
      ]
     },
     "execution_count": 131,
=======
=======
>>>>>>> e70aabfc5f7c1034a47bd8890afa68afb59d1c3e
       "TimedeltaIndex([ '1 days',  '2 days',  '3 days',  '4 days',  '5 days',\n",
       "                 '6 days',  '7 days',  '8 days',  '9 days', '10 days',\n",
       "                '11 days', '12 days', '13 days', '14 days', '15 days',\n",
       "                '16 days', '17 days', '18 days', '19 days', '20 days',\n",
       "                '21 days', '22 days', '23 days', '24 days', '25 days',\n",
       "                '26 days', '27 days', '28 days', '29 days', '30 days',\n",
       "                '31 days'],\n",
       "               dtype='timedelta64[ns]', freq='D')"
      ]
     },
     "execution_count": 201,
<<<<<<< HEAD
>>>>>>> refs/remotes/origin/master
=======
>>>>>>> e70aabfc5f7c1034a47bd8890afa68afb59d1c3e
     "metadata": {},
     "output_type": "execute_result"
    }
   ],
   "source": [
<<<<<<< HEAD
<<<<<<< HEAD
    "# Convert dates to a 31-day period (e.g. can be used to check if a time is in this timeframe)\n",
    "dates.to_period('D')"
=======
    "# Get a 31-day timedelta range\n"
>>>>>>> refs/remotes/origin/master
=======
    "# Get a 31-day timedelta range\n"
>>>>>>> e70aabfc5f7c1034a47bd8890afa68afb59d1c3e
   ]
  },
  {
   "cell_type": "code",
<<<<<<< HEAD
<<<<<<< HEAD
   "execution_count": 116,
=======
   "execution_count": 203,
>>>>>>> refs/remotes/origin/master
=======
   "execution_count": 203,
>>>>>>> e70aabfc5f7c1034a47bd8890afa68afb59d1c3e
   "metadata": {},
   "outputs": [
    {
     "data": {
      "text/plain": [
       "PeriodIndex(['2018-06-26', '2018-06-27', '2018-06-28', '2018-06-29',\n",
       "             '2018-06-30', '2018-07-01', '2018-07-02', '2018-07-03',\n",
       "             '2018-07-04', '2018-07-05', '2018-07-06', '2018-07-07',\n",
       "             '2018-07-08', '2018-07-09', '2018-07-10', '2018-07-11',\n",
       "             '2018-07-12', '2018-07-13', '2018-07-14', '2018-07-15',\n",
       "             '2018-07-16', '2018-07-17', '2018-07-18', '2018-07-19',\n",
       "             '2018-07-20', '2018-07-21', '2018-07-22', '2018-07-23',\n",
       "             '2018-07-24', '2018-07-25', '2018-07-26'],\n",
       "            dtype='period[D]', freq='D')"
      ]
     },
<<<<<<< HEAD
<<<<<<< HEAD
     "execution_count": 116,
=======
     "execution_count": 203,
>>>>>>> refs/remotes/origin/master
=======
     "execution_count": 203,
>>>>>>> e70aabfc5f7c1034a47bd8890afa68afb59d1c3e
     "metadata": {},
     "output_type": "execute_result"
    }
   ],
   "source": [
<<<<<<< HEAD
<<<<<<< HEAD
    "prange"
=======
    "# Get a 31-day period (e.g. can be used to check if a time is in this timeframe)\n"
>>>>>>> refs/remotes/origin/master
=======
    "# Get a 31-day period (e.g. can be used to check if a time is in this timeframe)\n"
>>>>>>> e70aabfc5f7c1034a47bd8890afa68afb59d1c3e
   ]
  },
  {
   "cell_type": "code",
<<<<<<< HEAD
<<<<<<< HEAD
   "execution_count": 126,
=======
   "execution_count": 219,
>>>>>>> refs/remotes/origin/master
=======
   "execution_count": 219,
>>>>>>> e70aabfc5f7c1034a47bd8890afa68afb59d1c3e
   "metadata": {},
   "outputs": [
    {
     "data": {
      "text/plain": [
<<<<<<< HEAD
<<<<<<< HEAD
       "DatetimeIndex(['2018-07-04'], dtype='datetime64[ns]', freq=None)"
      ]
     },
     "execution_count": 126,
=======
=======
>>>>>>> e70aabfc5f7c1034a47bd8890afa68afb59d1c3e
       "True"
      ]
     },
     "execution_count": 219,
<<<<<<< HEAD
>>>>>>> refs/remotes/origin/master
=======
>>>>>>> e70aabfc5f7c1034a47bd8890afa68afb59d1c3e
     "metadata": {},
     "output_type": "execute_result"
    }
   ],
   "source": [
<<<<<<< HEAD
<<<<<<< HEAD
    "pd.to_datetime(['july 4th, 2018'])"
=======
    "# Check if august 1st is in the above period range (Can just use a string - cool!!)\n"
>>>>>>> refs/remotes/origin/master
=======
    "# Check if august 1st is in the above period range (Can just use a string - cool!!)\n"
>>>>>>> e70aabfc5f7c1034a47bd8890afa68afb59d1c3e
   ]
  },
  {
   "cell_type": "code",
<<<<<<< HEAD
<<<<<<< HEAD
   "execution_count": 128,
=======
   "execution_count": 223,
>>>>>>> refs/remotes/origin/master
=======
   "execution_count": 223,
>>>>>>> e70aabfc5f7c1034a47bd8890afa68afb59d1c3e
   "metadata": {},
   "outputs": [
    {
     "data": {
      "text/plain": [
<<<<<<< HEAD
<<<<<<< HEAD
       "True"
      ]
     },
     "execution_count": 128,
=======
=======
>>>>>>> e70aabfc5f7c1034a47bd8890afa68afb59d1c3e
       "TimedeltaIndex(['00:00:00', '01:30:00'], dtype='timedelta64[ns]', freq='90T')"
      ]
     },
     "execution_count": 223,
<<<<<<< HEAD
>>>>>>> refs/remotes/origin/master
=======
>>>>>>> e70aabfc5f7c1034a47bd8890afa68afb59d1c3e
     "metadata": {},
     "output_type": "execute_result"
    }
   ],
   "source": [
<<<<<<< HEAD
<<<<<<< HEAD
    "# Check if 4th of july is in the above period range (Can just use a string - cool!!)\n",
    "pd.to_datetime('4th of july, 2018') in prange"
=======
    "# Get a timedelta range of in increments of an hour 30 minutes\n"
>>>>>>> refs/remotes/origin/master
=======
    "# Get a timedelta range of in increments of an hour 30 minutes\n"
>>>>>>> e70aabfc5f7c1034a47bd8890afa68afb59d1c3e
   ]
  },
  {
   "cell_type": "markdown",
   "metadata": {},
   "source": [
    "### Resampling, Shifting, Windowing"
   ]
  },
  {
   "cell_type": "code",
<<<<<<< HEAD
<<<<<<< HEAD
   "execution_count": 133,
=======
   "execution_count": 232,
>>>>>>> refs/remotes/origin/master
=======
   "execution_count": 232,
>>>>>>> e70aabfc5f7c1034a47bd8890afa68afb59d1c3e
   "metadata": {},
   "outputs": [],
   "source": [
    "from pandas_datareader import data"
   ]
  },
  {
   "cell_type": "code",
<<<<<<< HEAD
<<<<<<< HEAD
   "execution_count": 140,
   "metadata": {},
   "outputs": [
    {
     "name": "stdout",
     "output_type": "stream",
     "text": [
      "[*********************100%***********************]  1 of 1 downloaded\n"
     ]
    }
   ],
   "source": [
    "import pandas as pd\n",
    "pd.core.common.is_list_like = pd.api.types.is_list_like\n",
    "from pandas_datareader import data, wb\n",
    "import fix_yahoo_finance as yf\n",
    "yf.pdr_override()\n",
    "import numpy as np\n",
    "import datetime\n",
    "\n",
    "#To get data:\n",
    "\n",
    "start = datetime.datetime(2006, 1, 1)\n",
    "end = datetime.datetime(2016, 1, 1)\n",
    "df = data.get_data_yahoo('TSLA', start, end)"
=======
=======
>>>>>>> e70aabfc5f7c1034a47bd8890afa68afb59d1c3e
   "execution_count": 286,
   "metadata": {},
   "outputs": [],
   "source": [
    "# goog = data.DataReader('GOOG', start='2004', end='2016', data_source='google')"
   ]
  },
  {
   "cell_type": "code",
   "execution_count": null,
   "metadata": {},
   "outputs": [],
   "source": [
    "# goog.head()"
   ]
  },
  {
   "cell_type": "code",
   "execution_count": null,
   "metadata": {},
   "outputs": [],
   "source": [
    "# goog = only the 'close' column"
   ]
  },
  {
   "cell_type": "code",
   "execution_count": 287,
   "metadata": {},
   "outputs": [],
   "source": [
    "# plot 'close' as a line graph across dates"
   ]
  },
  {
   "cell_type": "code",
   "execution_count": null,
   "metadata": {},
   "outputs": [],
   "source": [
    "# resample() is a data aggregation (e.g. could report average of a year)\n",
    "# asfreq() is a data selection (e.g. could report value at end of a year)"
   ]
  },
  {
   "cell_type": "code",
   "execution_count": 289,
   "metadata": {},
   "outputs": [],
   "source": [
    "# Plot average data resampled by business year, style=':'\n",
    "# On top of that, plot data by frequency of business year, style='--'"
   ]
  },
  {
   "cell_type": "code",
   "execution_count": null,
   "metadata": {},
   "outputs": [],
   "source": [
    "# Resample business day data at a daily frequency, then plot data from September, 2004"
   ]
  },
  {
   "cell_type": "code",
   "execution_count": null,
   "metadata": {},
   "outputs": [],
   "source": [
    "# Plot data from 900 days after september, 2004 by shifting the data and index forward"
   ]
  },
  {
   "cell_type": "code",
   "execution_count": null,
   "metadata": {},
   "outputs": [],
   "source": [
    "# Use tshift to calculate the % return on investment for google stock over 900 days\n",
    "# Also, figure out how you'd calculate this math..."
   ]
  },
  {
   "cell_type": "markdown",
   "metadata": {},
   "source": [
    "### Rolling windows"
   ]
  },
  {
   "cell_type": "code",
   "execution_count": null,
   "metadata": {},
   "outputs": [],
   "source": [
    "# Calculate rolling mean and standard deviation of Google stock prices, then plot"
   ]
  },
  {
   "cell_type": "markdown",
   "metadata": {},
   "source": [
    "## Visualizing Seattle bike counts"
   ]
  },
  {
   "cell_type": "code",
   "execution_count": 294,
   "metadata": {},
   "outputs": [],
   "source": [
    "data = pd.read_csv('data/Fremont.csv', index_col = 'Date', parse_dates=True)"
<<<<<<< HEAD
>>>>>>> refs/remotes/origin/master
=======
>>>>>>> e70aabfc5f7c1034a47bd8890afa68afb59d1c3e
   ]
  },
  {
   "cell_type": "code",
<<<<<<< HEAD
<<<<<<< HEAD
   "execution_count": 151,
=======
   "execution_count": 295,
>>>>>>> refs/remotes/origin/master
=======
   "execution_count": 295,
>>>>>>> e70aabfc5f7c1034a47bd8890afa68afb59d1c3e
   "metadata": {},
   "outputs": [
    {
     "data": {
      "text/html": [
       "<div>\n",
       "<style scoped>\n",
       "    .dataframe tbody tr th:only-of-type {\n",
       "        vertical-align: middle;\n",
       "    }\n",
       "\n",
       "    .dataframe tbody tr th {\n",
       "        vertical-align: top;\n",
       "    }\n",
       "\n",
       "    .dataframe thead th {\n",
       "        text-align: right;\n",
       "    }\n",
       "</style>\n",
       "<table border=\"1\" class=\"dataframe\">\n",
       "  <thead>\n",
       "    <tr style=\"text-align: right;\">\n",
       "      <th></th>\n",
<<<<<<< HEAD
<<<<<<< HEAD
       "      <th>Open</th>\n",
       "      <th>High</th>\n",
       "      <th>Low</th>\n",
       "      <th>Close</th>\n",
       "      <th>Volume</th>\n",
=======
       "      <th>Fremont Bridge West Sidewalk</th>\n",
       "      <th>Fremont Bridge East Sidewalk</th>\n",
>>>>>>> refs/remotes/origin/master
=======
       "      <th>Fremont Bridge West Sidewalk</th>\n",
       "      <th>Fremont Bridge East Sidewalk</th>\n",
>>>>>>> e70aabfc5f7c1034a47bd8890afa68afb59d1c3e
       "    </tr>\n",
       "    <tr>\n",
       "      <th>Date</th>\n",
       "      <th></th>\n",
       "      <th></th>\n",
<<<<<<< HEAD
<<<<<<< HEAD
       "      <th></th>\n",
       "      <th></th>\n",
       "      <th></th>\n",
=======
>>>>>>> refs/remotes/origin/master
=======
>>>>>>> e70aabfc5f7c1034a47bd8890afa68afb59d1c3e
       "    </tr>\n",
       "  </thead>\n",
       "  <tbody>\n",
       "    <tr>\n",
<<<<<<< HEAD
<<<<<<< HEAD
       "      <th>2010-06-29</th>\n",
       "      <td>19.000000</td>\n",
       "      <td>25.00</td>\n",
       "      <td>17.540001</td>\n",
       "      <td>23.889999</td>\n",
       "      <td>18766300</td>\n",
       "    </tr>\n",
       "    <tr>\n",
       "      <th>2010-06-30</th>\n",
       "      <td>25.790001</td>\n",
       "      <td>30.42</td>\n",
       "      <td>23.299999</td>\n",
       "      <td>23.830000</td>\n",
       "      <td>17187100</td>\n",
       "    </tr>\n",
       "    <tr>\n",
       "      <th>2010-07-01</th>\n",
       "      <td>25.000000</td>\n",
       "      <td>25.92</td>\n",
       "      <td>20.270000</td>\n",
       "      <td>21.959999</td>\n",
       "      <td>8218800</td>\n",
       "    </tr>\n",
       "    <tr>\n",
       "      <th>2010-07-02</th>\n",
       "      <td>23.000000</td>\n",
       "      <td>23.10</td>\n",
       "      <td>18.709999</td>\n",
       "      <td>19.200001</td>\n",
       "      <td>5139800</td>\n",
       "    </tr>\n",
       "    <tr>\n",
       "      <th>2010-07-06</th>\n",
       "      <td>20.000000</td>\n",
       "      <td>20.00</td>\n",
       "      <td>15.830000</td>\n",
       "      <td>16.110001</td>\n",
       "      <td>6866900</td>\n",
=======
=======
>>>>>>> e70aabfc5f7c1034a47bd8890afa68afb59d1c3e
       "      <th>2018-05-31 19:00:00</th>\n",
       "      <td>84.0</td>\n",
       "      <td>164.0</td>\n",
       "    </tr>\n",
       "    <tr>\n",
       "      <th>2018-05-31 20:00:00</th>\n",
       "      <td>27.0</td>\n",
       "      <td>93.0</td>\n",
       "    </tr>\n",
       "    <tr>\n",
       "      <th>2018-05-31 21:00:00</th>\n",
       "      <td>36.0</td>\n",
       "      <td>63.0</td>\n",
       "    </tr>\n",
       "    <tr>\n",
       "      <th>2018-05-31 22:00:00</th>\n",
       "      <td>21.0</td>\n",
       "      <td>30.0</td>\n",
       "    </tr>\n",
       "    <tr>\n",
       "      <th>2018-05-31 23:00:00</th>\n",
       "      <td>14.0</td>\n",
       "      <td>16.0</td>\n",
<<<<<<< HEAD
>>>>>>> refs/remotes/origin/master
=======
>>>>>>> e70aabfc5f7c1034a47bd8890afa68afb59d1c3e
       "    </tr>\n",
       "  </tbody>\n",
       "</table>\n",
       "</div>"
      ],
      "text/plain": [
<<<<<<< HEAD
<<<<<<< HEAD
       "                 Open   High        Low      Close    Volume\n",
       "Date                                                        \n",
       "2010-06-29  19.000000  25.00  17.540001  23.889999  18766300\n",
       "2010-06-30  25.790001  30.42  23.299999  23.830000  17187100\n",
       "2010-07-01  25.000000  25.92  20.270000  21.959999   8218800\n",
       "2010-07-02  23.000000  23.10  18.709999  19.200001   5139800\n",
       "2010-07-06  20.000000  20.00  15.830000  16.110001   6866900"
      ]
     },
     "execution_count": 151,
=======
=======
>>>>>>> e70aabfc5f7c1034a47bd8890afa68afb59d1c3e
       "                     Fremont Bridge West Sidewalk  \\\n",
       "Date                                                \n",
       "2018-05-31 19:00:00                          84.0   \n",
       "2018-05-31 20:00:00                          27.0   \n",
       "2018-05-31 21:00:00                          36.0   \n",
       "2018-05-31 22:00:00                          21.0   \n",
       "2018-05-31 23:00:00                          14.0   \n",
       "\n",
       "                     Fremont Bridge East Sidewalk  \n",
       "Date                                               \n",
       "2018-05-31 19:00:00                         164.0  \n",
       "2018-05-31 20:00:00                          93.0  \n",
       "2018-05-31 21:00:00                          63.0  \n",
       "2018-05-31 22:00:00                          30.0  \n",
       "2018-05-31 23:00:00                          16.0  "
      ]
     },
     "execution_count": 295,
<<<<<<< HEAD
>>>>>>> refs/remotes/origin/master
=======
>>>>>>> e70aabfc5f7c1034a47bd8890afa68afb59d1c3e
     "metadata": {},
     "output_type": "execute_result"
    }
   ],
   "source": [
<<<<<<< HEAD
<<<<<<< HEAD
    "df.head()"
=======
=======
>>>>>>> e70aabfc5f7c1034a47bd8890afa68afb59d1c3e
    "data.tail()"
   ]
  },
  {
   "cell_type": "code",
   "execution_count": 296,
   "metadata": {},
   "outputs": [],
   "source": [
    "data.columns = ['West', 'East']"
<<<<<<< HEAD
>>>>>>> refs/remotes/origin/master
=======
>>>>>>> e70aabfc5f7c1034a47bd8890afa68afb59d1c3e
   ]
  },
  {
   "cell_type": "code",
<<<<<<< HEAD
<<<<<<< HEAD
   "execution_count": 153,
=======
   "execution_count": 298,
>>>>>>> refs/remotes/origin/master
=======
   "execution_count": 298,
>>>>>>> e70aabfc5f7c1034a47bd8890afa68afb59d1c3e
   "metadata": {},
   "outputs": [
    {
     "data": {
      "text/html": [
       "<div>\n",
       "<style scoped>\n",
       "    .dataframe tbody tr th:only-of-type {\n",
       "        vertical-align: middle;\n",
       "    }\n",
       "\n",
       "    .dataframe tbody tr th {\n",
       "        vertical-align: top;\n",
       "    }\n",
       "\n",
       "    .dataframe thead th {\n",
       "        text-align: right;\n",
       "    }\n",
       "</style>\n",
       "<table border=\"1\" class=\"dataframe\">\n",
       "  <thead>\n",
       "    <tr style=\"text-align: right;\">\n",
       "      <th></th>\n",
<<<<<<< HEAD
<<<<<<< HEAD
       "      <th>Open</th>\n",
       "      <th>High</th>\n",
       "      <th>Low</th>\n",
       "      <th>Close</th>\n",
       "      <th>Volume</th>\n",
=======
       "      <th>West</th>\n",
       "      <th>East</th>\n",
>>>>>>> refs/remotes/origin/master
=======
       "      <th>West</th>\n",
       "      <th>East</th>\n",
>>>>>>> e70aabfc5f7c1034a47bd8890afa68afb59d1c3e
       "    </tr>\n",
       "    <tr>\n",
       "      <th>Date</th>\n",
       "      <th></th>\n",
       "      <th></th>\n",
<<<<<<< HEAD
<<<<<<< HEAD
       "      <th></th>\n",
       "      <th></th>\n",
       "      <th></th>\n",
=======
>>>>>>> refs/remotes/origin/master
=======
>>>>>>> e70aabfc5f7c1034a47bd8890afa68afb59d1c3e
       "    </tr>\n",
       "  </thead>\n",
       "  <tbody>\n",
       "    <tr>\n",
<<<<<<< HEAD
<<<<<<< HEAD
       "      <th>2010-06-29</th>\n",
       "      <td>19.000000</td>\n",
       "      <td>25.00</td>\n",
       "      <td>17.540001</td>\n",
       "      <td>23.889999</td>\n",
       "      <td>18766300</td>\n",
       "    </tr>\n",
       "    <tr>\n",
       "      <th>2010-06-30</th>\n",
       "      <td>25.790001</td>\n",
       "      <td>30.42</td>\n",
       "      <td>23.299999</td>\n",
       "      <td>23.830000</td>\n",
       "      <td>17187100</td>\n",
       "    </tr>\n",
       "    <tr>\n",
       "      <th>2010-07-01</th>\n",
       "      <td>25.000000</td>\n",
       "      <td>25.92</td>\n",
       "      <td>20.270000</td>\n",
       "      <td>21.959999</td>\n",
       "      <td>8218800</td>\n",
       "    </tr>\n",
       "    <tr>\n",
       "      <th>2010-07-02</th>\n",
       "      <td>23.000000</td>\n",
       "      <td>23.10</td>\n",
       "      <td>18.709999</td>\n",
       "      <td>19.200001</td>\n",
       "      <td>5139800</td>\n",
       "    </tr>\n",
       "    <tr>\n",
       "      <th>2010-07-06</th>\n",
       "      <td>20.000000</td>\n",
       "      <td>20.00</td>\n",
       "      <td>15.830000</td>\n",
       "      <td>16.110001</td>\n",
       "      <td>6866900</td>\n",
=======
=======
>>>>>>> e70aabfc5f7c1034a47bd8890afa68afb59d1c3e
       "      <th>2012-10-03 00:00:00</th>\n",
       "      <td>4.0</td>\n",
       "      <td>9.0</td>\n",
       "    </tr>\n",
       "    <tr>\n",
       "      <th>2012-10-03 01:00:00</th>\n",
       "      <td>4.0</td>\n",
       "      <td>6.0</td>\n",
       "    </tr>\n",
       "    <tr>\n",
       "      <th>2012-10-03 02:00:00</th>\n",
       "      <td>1.0</td>\n",
       "      <td>1.0</td>\n",
       "    </tr>\n",
       "    <tr>\n",
       "      <th>2012-10-03 03:00:00</th>\n",
       "      <td>2.0</td>\n",
       "      <td>3.0</td>\n",
       "    </tr>\n",
       "    <tr>\n",
       "      <th>2012-10-03 04:00:00</th>\n",
       "      <td>6.0</td>\n",
       "      <td>1.0</td>\n",
<<<<<<< HEAD
>>>>>>> refs/remotes/origin/master
=======
>>>>>>> e70aabfc5f7c1034a47bd8890afa68afb59d1c3e
       "    </tr>\n",
       "  </tbody>\n",
       "</table>\n",
       "</div>"
      ],
      "text/plain": [
<<<<<<< HEAD
<<<<<<< HEAD
       "                 Open   High        Low      Close    Volume\n",
       "Date                                                        \n",
       "2010-06-29  19.000000  25.00  17.540001  23.889999  18766300\n",
       "2010-06-30  25.790001  30.42  23.299999  23.830000  17187100\n",
       "2010-07-01  25.000000  25.92  20.270000  21.959999   8218800\n",
       "2010-07-02  23.000000  23.10  18.709999  19.200001   5139800\n",
       "2010-07-06  20.000000  20.00  15.830000  16.110001   6866900"
      ]
     },
     "execution_count": 153,
=======
=======
>>>>>>> e70aabfc5f7c1034a47bd8890afa68afb59d1c3e
       "                     West  East\n",
       "Date                           \n",
       "2012-10-03 00:00:00   4.0   9.0\n",
       "2012-10-03 01:00:00   4.0   6.0\n",
       "2012-10-03 02:00:00   1.0   1.0\n",
       "2012-10-03 03:00:00   2.0   3.0\n",
       "2012-10-03 04:00:00   6.0   1.0"
      ]
     },
     "execution_count": 298,
<<<<<<< HEAD
>>>>>>> refs/remotes/origin/master
=======
>>>>>>> e70aabfc5f7c1034a47bd8890afa68afb59d1c3e
     "metadata": {},
     "output_type": "execute_result"
    }
   ],
   "source": [
<<<<<<< HEAD
<<<<<<< HEAD
    "df.head()"
=======
    "data.head()"
>>>>>>> refs/remotes/origin/master
=======
    "data.head()"
>>>>>>> e70aabfc5f7c1034a47bd8890afa68afb59d1c3e
   ]
  },
  {
   "cell_type": "code",
<<<<<<< HEAD
<<<<<<< HEAD
   "execution_count": 159,
=======
   "execution_count": 301,
>>>>>>> e70aabfc5f7c1034a47bd8890afa68afb59d1c3e
   "metadata": {},
   "outputs": [
    {
     "data": {
<<<<<<< HEAD
      "text/plain": [
       "<matplotlib.axes._subplots.AxesSubplot at 0x2847d831c50>"
      ]
     },
     "execution_count": 159,
     "metadata": {},
     "output_type": "execute_result"
    },
    {
     "data": {
      "image/png": "iVBORw0KGgoAAAANSUhEUgAAAXQAAAD+CAYAAAAqP/5ZAAAABHNCSVQICAgIfAhkiAAAAAlwSFlz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\nuch4AAAAAElFTkSuQmCC\n",
      "text/plain": [
       "<matplotlib.figure.Figure at 0x2847d81ee48>"
      ]
     },
     "metadata": {},
     "output_type": "display_data"
    }
   ],
   "source": [
    "# plot 'close' as a line graph across dates\n",
    "df['Close'].plot()"
=======
      "text/html": [
       "<div>\n",
       "<style scoped>\n",
       "    .dataframe tbody tr th:only-of-type {\n",
       "        vertical-align: middle;\n",
       "    }\n",
       "\n",
       "    .dataframe tbody tr th {\n",
       "        vertical-align: top;\n",
       "    }\n",
       "\n",
       "    .dataframe thead th {\n",
       "        text-align: right;\n",
       "    }\n",
       "</style>\n",
       "<table border=\"1\" class=\"dataframe\">\n",
       "  <thead>\n",
       "    <tr style=\"text-align: right;\">\n",
       "      <th></th>\n",
       "      <th>West</th>\n",
       "      <th>East</th>\n",
       "    </tr>\n",
       "  </thead>\n",
       "  <tbody>\n",
       "    <tr>\n",
       "      <th>count</th>\n",
       "      <td>49600.000000</td>\n",
       "      <td>49600.000000</td>\n",
       "    </tr>\n",
       "    <tr>\n",
       "      <th>mean</th>\n",
       "      <td>54.716230</td>\n",
       "      <td>55.895887</td>\n",
       "    </tr>\n",
       "    <tr>\n",
       "      <th>std</th>\n",
       "      <td>73.001037</td>\n",
       "      <td>81.137001</td>\n",
       "    </tr>\n",
       "    <tr>\n",
       "      <th>min</th>\n",
       "      <td>0.000000</td>\n",
       "      <td>0.000000</td>\n",
       "    </tr>\n",
       "    <tr>\n",
       "      <th>25%</th>\n",
       "      <td>7.000000</td>\n",
       "      <td>7.000000</td>\n",
       "    </tr>\n",
       "    <tr>\n",
       "      <th>50%</th>\n",
       "      <td>29.000000</td>\n",
       "      <td>28.000000</td>\n",
       "    </tr>\n",
       "    <tr>\n",
       "      <th>75%</th>\n",
       "      <td>72.000000</td>\n",
       "      <td>68.000000</td>\n",
       "    </tr>\n",
       "    <tr>\n",
       "      <th>max</th>\n",
       "      <td>854.000000</td>\n",
       "      <td>717.000000</td>\n",
       "    </tr>\n",
       "  </tbody>\n",
       "</table>\n",
       "</div>"
      ],
      "text/plain": [
       "               West          East\n",
       "count  49600.000000  49600.000000\n",
       "mean      54.716230     55.895887\n",
       "std       73.001037     81.137001\n",
       "min        0.000000      0.000000\n",
       "25%        7.000000      7.000000\n",
       "50%       29.000000     28.000000\n",
       "75%       72.000000     68.000000\n",
       "max      854.000000    717.000000"
      ]
     },
     "execution_count": 301,
     "metadata": {},
     "output_type": "execute_result"
    }
   ],
   "source": [
    "data.dropna().describe()"
>>>>>>> e70aabfc5f7c1034a47bd8890afa68afb59d1c3e
   ]
  },
  {
   "cell_type": "code",
<<<<<<< HEAD
   "execution_count": 156,
   "metadata": {},
   "outputs": [],
   "source": [
    "# resample() is a data aggregation (e.g. could report average of a year)\n",
    "# asfreq() is a data selection (e.g. could report value at end of a year)"
   ]
  },
  {
   "cell_type": "code",
   "execution_count": 166,
   "metadata": {},
   "outputs": [
    {
     "data": {
      "text/plain": [
       "<matplotlib.legend.Legend at 0x2847d90d4e0>"
      ]
     },
     "execution_count": 166,
     "metadata": {},
     "output_type": "execute_result"
    },
    {
     "data": {
      "image/png": "iVBORw0KGgoAAAANSUhEUgAAAXQAAAD+CAYAAAAqP/5ZAAAABHNCSVQICAgIfAhkiAAAAAlwSFlz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\n",
      "text/plain": [
       "<matplotlib.figure.Figure at 0x2847f1bb240>"
      ]
     },
     "metadata": {},
     "output_type": "display_data"
    }
   ],
   "source": [
    "# Plot average data resampled by business year, style=':'\n",
    "# On top of that, plot data by frequency of business year, style='--'\n",
    "\n",
    "df.Close.plot(style='-')\n",
    "df.Close.resample('BA').mean().plot(style=':')\n",
    "df.Close.asfreq('BA').plot(style='--')\n",
    "plt.legend(['input', 'resmple', 'asfreq'], loc='upper left')"
=======
   "execution_count": 303,
   "metadata": {},
   "outputs": [],
   "source": [
    "data['Total'] = data.eval('West + East')"
>>>>>>> e70aabfc5f7c1034a47bd8890afa68afb59d1c3e
   ]
  },
  {
   "cell_type": "code",
<<<<<<< HEAD
   "execution_count": 170,
   "metadata": {},
   "outputs": [
    {
     "data": {
      "text/plain": [
       "<matplotlib.axes._subplots.AxesSubplot at 0x2847f28da20>"
      ]
     },
     "execution_count": 170,
     "metadata": {},
     "output_type": "execute_result"
    },
    {
     "data": {
      "image/png": "iVBORw0KGgoAAAANSUhEUgAAAW8AAAEaCAYAAADe09ZmAAAABHNCSVQICAgIfAhkiAAAAAlwSFlz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\nYII=\n",
      "text/plain": [
       "<matplotlib.figure.Figure at 0x2847f2981d0>"
      ]
     },
     "metadata": {},
     "output_type": "display_data"
    }
   ],
   "source": [
    "# Resample business day data at a daily frequency, then plot data from September, 2004\n",
    "df.Close[:10].resample('D').mean().plot()"
=======
   "execution_count": 305,
   "metadata": {},
   "outputs": [],
   "source": [
    "data['Mean'] = data.eval('(West + East) / 2')"
>>>>>>> e70aabfc5f7c1034a47bd8890afa68afb59d1c3e
   ]
  },
  {
   "cell_type": "code",
<<<<<<< HEAD
   "execution_count": 173,
   "metadata": {},
   "outputs": [
    {
     "data": {
      "text/plain": [
       "Date\n",
       "2010-06-29    23.889999\n",
       "2010-06-30    23.830000\n",
       "2010-07-01    21.959999\n",
       "2010-07-02    19.200001\n",
       "2010-07-06    16.110001\n",
       "Name: Close, dtype: float64"
      ]
     },
     "execution_count": 173,
     "metadata": {},
     "output_type": "execute_result"
    }
   ],
   "source": [
    "df.Close.head()"
   ]
  },
  {
   "cell_type": "code",
   "execution_count": 183,
   "metadata": {},
   "outputs": [
    {
     "data": {
      "text/plain": [
       "Date\n",
       "2011-07-01    21.959999\n",
       "2011-07-02    19.200001\n",
       "2011-07-06    16.110001\n",
       "2011-07-07    15.800000\n",
       "2011-07-08    17.459999\n",
       "2011-07-09    17.400000\n",
       "2011-07-12    17.049999\n",
       "2011-07-13    18.139999\n",
       "2011-07-14    19.840000\n",
       "2011-07-15    19.889999\n",
       "2011-07-16    20.639999\n",
       "2011-07-19    21.910000\n",
       "2011-07-20    20.299999\n",
       "2011-07-21    20.219999\n",
       "2011-07-22    21.000000\n",
       "2011-07-23    21.290001\n",
       "2011-07-26    20.950001\n",
       "2011-07-27    20.549999\n",
       "2011-07-28    20.719999\n",
       "2011-07-29    20.350000\n",
       "2011-07-30    19.940001\n",
       "Name: Close, dtype: float64"
      ]
     },
     "execution_count": 183,
     "metadata": {},
     "output_type": "execute_result"
    }
   ],
   "source": [
    "df.Close[2:23].shift(365, 'D')"
   ]
  },
  {
   "cell_type": "code",
   "execution_count": 185,
   "metadata": {},
   "outputs": [
    {
     "data": {
      "text/plain": [
       "<matplotlib.axes._subplots.AxesSubplot at 0x2847f4b6518>"
      ]
     },
     "execution_count": 185,
     "metadata": {},
     "output_type": "execute_result"
    },
    {
     "data": {
      "image/png": "iVBORw0KGgoAAAANSUhEUgAAAW8AAAEBCAYAAAC3wiQ+AAAABHNCSVQICAgIfAhkiAAAAAlwSFlz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\nkkNK3iIiOaTkLSKSQ0reIiI59P8BIVkS4v3AbMEAAAAASUVORK5CYII=\n",
      "text/plain": [
       "<matplotlib.figure.Figure at 0x2847f479278>"
      ]
     },
     "metadata": {},
     "output_type": "display_data"
    }
   ],
   "source": [
    "# Plot data from 900 days after July, 2010 by shifting the data and index forward\n",
    "df.Close[2:23].plot()\n",
    "df.Close[2:23].shift(365, 'D').plot()"
   ]
  },
  {
   "cell_type": "code",
   "execution_count": 37,
   "metadata": {},
   "outputs": [],
   "source": [
    "# Use tshift to calculate the % return on investment for google stock over 900 days\n",
    "# Also, figure out how you'd calculate this math...\n",
    "# dunno dude"
   ]
  },
  {
   "cell_type": "markdown",
   "metadata": {},
   "source": [
    "### Rolling windows"
   ]
  },
  {
   "cell_type": "code",
   "execution_count": 38,
   "metadata": {},
   "outputs": [],
   "source": [
    "# Calculate rolling mean and standard deviation of Google stock prices, then plot"
   ]
  },
  {
   "cell_type": "markdown",
   "metadata": {},
   "source": [
    "## Visualizing Seattle bike counts"
   ]
  },
  {
   "cell_type": "code",
   "execution_count": 186,
   "metadata": {},
   "outputs": [],
   "source": [
    "data = pd.read_csv('data/Fremont.csv', index_col = 'Date', parse_dates=True)"
   ]
  },
  {
   "cell_type": "code",
   "execution_count": 188,
=======
   "execution_count": 301,
>>>>>>> refs/remotes/origin/master
   "metadata": {},
   "outputs": [
    {
     "data": {
      "text/html": [
       "<div>\n",
       "<style scoped>\n",
       "    .dataframe tbody tr th:only-of-type {\n",
       "        vertical-align: middle;\n",
       "    }\n",
       "\n",
       "    .dataframe tbody tr th {\n",
       "        vertical-align: top;\n",
       "    }\n",
       "\n",
       "    .dataframe thead th {\n",
       "        text-align: right;\n",
       "    }\n",
       "</style>\n",
       "<table border=\"1\" class=\"dataframe\">\n",
       "  <thead>\n",
       "    <tr style=\"text-align: right;\">\n",
       "      <th></th>\n",
<<<<<<< HEAD
       "      <th>Fremont Bridge West Sidewalk</th>\n",
       "      <th>Fremont Bridge East Sidewalk</th>\n",
       "    </tr>\n",
       "    <tr>\n",
       "      <th>Date</th>\n",
       "      <th></th>\n",
       "      <th></th>\n",
=======
       "      <th>West</th>\n",
       "      <th>East</th>\n",
>>>>>>> refs/remotes/origin/master
       "    </tr>\n",
       "  </thead>\n",
       "  <tbody>\n",
       "    <tr>\n",
<<<<<<< HEAD
       "      <th>2012-10-03 00:00:00</th>\n",
       "      <td>4.0</td>\n",
       "      <td>9.0</td>\n",
       "    </tr>\n",
       "    <tr>\n",
       "      <th>2012-10-03 01:00:00</th>\n",
       "      <td>4.0</td>\n",
       "      <td>6.0</td>\n",
       "    </tr>\n",
       "    <tr>\n",
       "      <th>2012-10-03 02:00:00</th>\n",
       "      <td>1.0</td>\n",
       "      <td>1.0</td>\n",
       "    </tr>\n",
       "    <tr>\n",
       "      <th>2012-10-03 03:00:00</th>\n",
       "      <td>2.0</td>\n",
       "      <td>3.0</td>\n",
       "    </tr>\n",
       "    <tr>\n",
       "      <th>2012-10-03 04:00:00</th>\n",
       "      <td>6.0</td>\n",
       "      <td>1.0</td>\n",
=======
       "      <th>count</th>\n",
       "      <td>49600.000000</td>\n",
       "      <td>49600.000000</td>\n",
       "    </tr>\n",
       "    <tr>\n",
       "      <th>mean</th>\n",
       "      <td>54.716230</td>\n",
       "      <td>55.895887</td>\n",
       "    </tr>\n",
       "    <tr>\n",
       "      <th>std</th>\n",
       "      <td>73.001037</td>\n",
       "      <td>81.137001</td>\n",
       "    </tr>\n",
       "    <tr>\n",
       "      <th>min</th>\n",
       "      <td>0.000000</td>\n",
       "      <td>0.000000</td>\n",
       "    </tr>\n",
       "    <tr>\n",
       "      <th>25%</th>\n",
       "      <td>7.000000</td>\n",
       "      <td>7.000000</td>\n",
       "    </tr>\n",
       "    <tr>\n",
       "      <th>50%</th>\n",
       "      <td>29.000000</td>\n",
       "      <td>28.000000</td>\n",
       "    </tr>\n",
       "    <tr>\n",
       "      <th>75%</th>\n",
       "      <td>72.000000</td>\n",
       "      <td>68.000000</td>\n",
       "    </tr>\n",
       "    <tr>\n",
       "      <th>max</th>\n",
       "      <td>854.000000</td>\n",
       "      <td>717.000000</td>\n",
>>>>>>> refs/remotes/origin/master
       "    </tr>\n",
       "  </tbody>\n",
       "</table>\n",
       "</div>"
      ],
      "text/plain": [
<<<<<<< HEAD
       "                     Fremont Bridge West Sidewalk  \\\n",
       "Date                                                \n",
       "2012-10-03 00:00:00                           4.0   \n",
       "2012-10-03 01:00:00                           4.0   \n",
       "2012-10-03 02:00:00                           1.0   \n",
       "2012-10-03 03:00:00                           2.0   \n",
       "2012-10-03 04:00:00                           6.0   \n",
       "\n",
       "                     Fremont Bridge East Sidewalk  \n",
       "Date                                               \n",
       "2012-10-03 00:00:00                           9.0  \n",
       "2012-10-03 01:00:00                           6.0  \n",
       "2012-10-03 02:00:00                           1.0  \n",
       "2012-10-03 03:00:00                           3.0  \n",
       "2012-10-03 04:00:00                           1.0  "
      ]
     },
     "execution_count": 188,
=======
       "               West          East\n",
       "count  49600.000000  49600.000000\n",
       "mean      54.716230     55.895887\n",
       "std       73.001037     81.137001\n",
       "min        0.000000      0.000000\n",
       "25%        7.000000      7.000000\n",
       "50%       29.000000     28.000000\n",
       "75%       72.000000     68.000000\n",
       "max      854.000000    717.000000"
      ]
     },
     "execution_count": 301,
>>>>>>> refs/remotes/origin/master
     "metadata": {},
     "output_type": "execute_result"
    }
   ],
   "source": [
<<<<<<< HEAD
    "data.head()"
=======
    "data.dropna().describe()"
   ]
  },
  {
   "cell_type": "code",
   "execution_count": 303,
   "metadata": {},
   "outputs": [],
   "source": [
    "data['Total'] = data.eval('West + East')"
   ]
  },
  {
   "cell_type": "code",
   "execution_count": 305,
   "metadata": {},
   "outputs": [],
   "source": [
    "data['Mean'] = data.eval('(West + East) / 2')"
>>>>>>> refs/remotes/origin/master
   ]
  },
  {
   "cell_type": "code",
<<<<<<< HEAD
   "execution_count": 189,
=======
   "execution_count": 306,
>>>>>>> refs/remotes/origin/master
=======
   "execution_count": 306,
>>>>>>> e70aabfc5f7c1034a47bd8890afa68afb59d1c3e
   "metadata": {},
   "outputs": [
    {
     "data": {
      "text/html": [
       "<div>\n",
       "<style scoped>\n",
       "    .dataframe tbody tr th:only-of-type {\n",
       "        vertical-align: middle;\n",
       "    }\n",
       "\n",
       "    .dataframe tbody tr th {\n",
       "        vertical-align: top;\n",
       "    }\n",
       "\n",
       "    .dataframe thead th {\n",
       "        text-align: right;\n",
       "    }\n",
       "</style>\n",
       "<table border=\"1\" class=\"dataframe\">\n",
       "  <thead>\n",
       "    <tr style=\"text-align: right;\">\n",
       "      <th></th>\n",
<<<<<<< HEAD
<<<<<<< HEAD
       "      <th>Fremont Bridge West Sidewalk</th>\n",
       "      <th>Fremont Bridge East Sidewalk</th>\n",
=======
=======
>>>>>>> e70aabfc5f7c1034a47bd8890afa68afb59d1c3e
       "      <th>West</th>\n",
       "      <th>East</th>\n",
       "      <th>Total</th>\n",
       "      <th>Mean</th>\n",
<<<<<<< HEAD
>>>>>>> refs/remotes/origin/master
=======
>>>>>>> e70aabfc5f7c1034a47bd8890afa68afb59d1c3e
       "    </tr>\n",
       "    <tr>\n",
       "      <th>Date</th>\n",
       "      <th></th>\n",
       "      <th></th>\n",
<<<<<<< HEAD
<<<<<<< HEAD
=======
       "      <th></th>\n",
       "      <th></th>\n",
>>>>>>> refs/remotes/origin/master
=======
       "      <th></th>\n",
       "      <th></th>\n",
>>>>>>> e70aabfc5f7c1034a47bd8890afa68afb59d1c3e
       "    </tr>\n",
       "  </thead>\n",
       "  <tbody>\n",
       "    <tr>\n",
<<<<<<< HEAD
<<<<<<< HEAD
       "      <th>2018-05-31 19:00:00</th>\n",
       "      <td>84.0</td>\n",
       "      <td>164.0</td>\n",
       "    </tr>\n",
       "    <tr>\n",
       "      <th>2018-05-31 20:00:00</th>\n",
       "      <td>27.0</td>\n",
       "      <td>93.0</td>\n",
       "    </tr>\n",
       "    <tr>\n",
       "      <th>2018-05-31 21:00:00</th>\n",
       "      <td>36.0</td>\n",
       "      <td>63.0</td>\n",
       "    </tr>\n",
       "    <tr>\n",
       "      <th>2018-05-31 22:00:00</th>\n",
       "      <td>21.0</td>\n",
       "      <td>30.0</td>\n",
       "    </tr>\n",
       "    <tr>\n",
       "      <th>2018-05-31 23:00:00</th>\n",
       "      <td>14.0</td>\n",
       "      <td>16.0</td>\n",
=======
=======
>>>>>>> e70aabfc5f7c1034a47bd8890afa68afb59d1c3e
       "      <th>2012-10-03 00:00:00</th>\n",
       "      <td>4.0</td>\n",
       "      <td>9.0</td>\n",
       "      <td>13.0</td>\n",
       "      <td>6.5</td>\n",
       "    </tr>\n",
       "    <tr>\n",
       "      <th>2012-10-03 01:00:00</th>\n",
       "      <td>4.0</td>\n",
       "      <td>6.0</td>\n",
       "      <td>10.0</td>\n",
       "      <td>5.0</td>\n",
       "    </tr>\n",
       "    <tr>\n",
       "      <th>2012-10-03 02:00:00</th>\n",
       "      <td>1.0</td>\n",
       "      <td>1.0</td>\n",
       "      <td>2.0</td>\n",
       "      <td>1.0</td>\n",
       "    </tr>\n",
       "    <tr>\n",
       "      <th>2012-10-03 03:00:00</th>\n",
       "      <td>2.0</td>\n",
       "      <td>3.0</td>\n",
       "      <td>5.0</td>\n",
       "      <td>2.5</td>\n",
       "    </tr>\n",
       "    <tr>\n",
       "      <th>2012-10-03 04:00:00</th>\n",
       "      <td>6.0</td>\n",
       "      <td>1.0</td>\n",
       "      <td>7.0</td>\n",
       "      <td>3.5</td>\n",
<<<<<<< HEAD
>>>>>>> refs/remotes/origin/master
=======
>>>>>>> e70aabfc5f7c1034a47bd8890afa68afb59d1c3e
       "    </tr>\n",
       "  </tbody>\n",
       "</table>\n",
       "</div>"
      ],
      "text/plain": [
<<<<<<< HEAD
<<<<<<< HEAD
       "                     Fremont Bridge West Sidewalk  \\\n",
       "Date                                                \n",
       "2018-05-31 19:00:00                          84.0   \n",
       "2018-05-31 20:00:00                          27.0   \n",
       "2018-05-31 21:00:00                          36.0   \n",
       "2018-05-31 22:00:00                          21.0   \n",
       "2018-05-31 23:00:00                          14.0   \n",
       "\n",
       "                     Fremont Bridge East Sidewalk  \n",
       "Date                                               \n",
       "2018-05-31 19:00:00                         164.0  \n",
       "2018-05-31 20:00:00                          93.0  \n",
       "2018-05-31 21:00:00                          63.0  \n",
       "2018-05-31 22:00:00                          30.0  \n",
       "2018-05-31 23:00:00                          16.0  "
      ]
     },
     "execution_count": 189,
=======
=======
>>>>>>> e70aabfc5f7c1034a47bd8890afa68afb59d1c3e
       "                     West  East  Total  Mean\n",
       "Date                                        \n",
       "2012-10-03 00:00:00   4.0   9.0   13.0   6.5\n",
       "2012-10-03 01:00:00   4.0   6.0   10.0   5.0\n",
       "2012-10-03 02:00:00   1.0   1.0    2.0   1.0\n",
       "2012-10-03 03:00:00   2.0   3.0    5.0   2.5\n",
       "2012-10-03 04:00:00   6.0   1.0    7.0   3.5"
      ]
     },
     "execution_count": 306,
<<<<<<< HEAD
>>>>>>> refs/remotes/origin/master
=======
>>>>>>> e70aabfc5f7c1034a47bd8890afa68afb59d1c3e
     "metadata": {},
     "output_type": "execute_result"
    }
   ],
   "source": [
<<<<<<< HEAD
<<<<<<< HEAD
    "data.tail()"
   ]
  },
  {
   "cell_type": "code",
   "execution_count": 190,
   "metadata": {},
   "outputs": [],
   "source": [
    "data.columns = ['West', 'East']"
   ]
  },
  {
   "cell_type": "code",
   "execution_count": 194,
   "metadata": {},
   "outputs": [],
   "source": [
    "# Make a Total data column\n",
    "data['Total'] = data.eval('West + East')"
=======
    "data.head()"
>>>>>>> refs/remotes/origin/master
=======
    "data.head()"
>>>>>>> e70aabfc5f7c1034a47bd8890afa68afb59d1c3e
   ]
  },
  {
   "cell_type": "code",
<<<<<<< HEAD
<<<<<<< HEAD
   "execution_count": 196,
=======
   "execution_count": 307,
>>>>>>> refs/remotes/origin/master
=======
   "execution_count": 307,
>>>>>>> e70aabfc5f7c1034a47bd8890afa68afb59d1c3e
   "metadata": {},
   "outputs": [
    {
     "data": {
      "text/html": [
       "<div>\n",
       "<style scoped>\n",
       "    .dataframe tbody tr th:only-of-type {\n",
       "        vertical-align: middle;\n",
       "    }\n",
       "\n",
       "    .dataframe tbody tr th {\n",
       "        vertical-align: top;\n",
       "    }\n",
       "\n",
       "    .dataframe thead th {\n",
       "        text-align: right;\n",
       "    }\n",
       "</style>\n",
       "<table border=\"1\" class=\"dataframe\">\n",
       "  <thead>\n",
       "    <tr style=\"text-align: right;\">\n",
       "      <th></th>\n",
       "      <th>West</th>\n",
       "      <th>East</th>\n",
       "      <th>Total</th>\n",
<<<<<<< HEAD
<<<<<<< HEAD
=======
       "      <th>Mean</th>\n",
>>>>>>> refs/remotes/origin/master
=======
       "      <th>Mean</th>\n",
>>>>>>> e70aabfc5f7c1034a47bd8890afa68afb59d1c3e
       "    </tr>\n",
       "  </thead>\n",
       "  <tbody>\n",
       "    <tr>\n",
       "      <th>count</th>\n",
       "      <td>49600.000000</td>\n",
       "      <td>49600.000000</td>\n",
       "      <td>49600.000000</td>\n",
<<<<<<< HEAD
<<<<<<< HEAD
=======
       "      <td>49600.000000</td>\n",
>>>>>>> refs/remotes/origin/master
=======
       "      <td>49600.000000</td>\n",
>>>>>>> e70aabfc5f7c1034a47bd8890afa68afb59d1c3e
       "    </tr>\n",
       "    <tr>\n",
       "      <th>mean</th>\n",
       "      <td>54.716230</td>\n",
       "      <td>55.895887</td>\n",
       "      <td>110.612117</td>\n",
<<<<<<< HEAD
<<<<<<< HEAD
=======
       "      <td>55.306058</td>\n",
>>>>>>> refs/remotes/origin/master
=======
       "      <td>55.306058</td>\n",
>>>>>>> e70aabfc5f7c1034a47bd8890afa68afb59d1c3e
       "    </tr>\n",
       "    <tr>\n",
       "      <th>std</th>\n",
       "      <td>73.001037</td>\n",
       "      <td>81.137001</td>\n",
       "      <td>140.092804</td>\n",
<<<<<<< HEAD
<<<<<<< HEAD
=======
       "      <td>70.046402</td>\n",
>>>>>>> refs/remotes/origin/master
=======
       "      <td>70.046402</td>\n",
>>>>>>> e70aabfc5f7c1034a47bd8890afa68afb59d1c3e
       "    </tr>\n",
       "    <tr>\n",
       "      <th>min</th>\n",
       "      <td>0.000000</td>\n",
       "      <td>0.000000</td>\n",
       "      <td>0.000000</td>\n",
<<<<<<< HEAD
<<<<<<< HEAD
=======
       "      <td>0.000000</td>\n",
>>>>>>> refs/remotes/origin/master
=======
       "      <td>0.000000</td>\n",
>>>>>>> e70aabfc5f7c1034a47bd8890afa68afb59d1c3e
       "    </tr>\n",
       "    <tr>\n",
       "      <th>25%</th>\n",
       "      <td>7.000000</td>\n",
       "      <td>7.000000</td>\n",
       "      <td>15.000000</td>\n",
<<<<<<< HEAD
<<<<<<< HEAD
=======
       "      <td>7.500000</td>\n",
>>>>>>> refs/remotes/origin/master
=======
       "      <td>7.500000</td>\n",
>>>>>>> e70aabfc5f7c1034a47bd8890afa68afb59d1c3e
       "    </tr>\n",
       "    <tr>\n",
       "      <th>50%</th>\n",
       "      <td>29.000000</td>\n",
       "      <td>28.000000</td>\n",
       "      <td>60.000000</td>\n",
<<<<<<< HEAD
<<<<<<< HEAD
=======
       "      <td>30.000000</td>\n",
>>>>>>> refs/remotes/origin/master
=======
       "      <td>30.000000</td>\n",
>>>>>>> e70aabfc5f7c1034a47bd8890afa68afb59d1c3e
       "    </tr>\n",
       "    <tr>\n",
       "      <th>75%</th>\n",
       "      <td>72.000000</td>\n",
       "      <td>68.000000</td>\n",
       "      <td>144.000000</td>\n",
<<<<<<< HEAD
<<<<<<< HEAD
=======
       "      <td>72.000000</td>\n",
>>>>>>> refs/remotes/origin/master
=======
       "      <td>72.000000</td>\n",
>>>>>>> e70aabfc5f7c1034a47bd8890afa68afb59d1c3e
       "    </tr>\n",
       "    <tr>\n",
       "      <th>max</th>\n",
       "      <td>854.000000</td>\n",
       "      <td>717.000000</td>\n",
       "      <td>1165.000000</td>\n",
<<<<<<< HEAD
<<<<<<< HEAD
=======
       "      <td>582.500000</td>\n",
>>>>>>> refs/remotes/origin/master
=======
       "      <td>582.500000</td>\n",
>>>>>>> e70aabfc5f7c1034a47bd8890afa68afb59d1c3e
       "    </tr>\n",
       "  </tbody>\n",
       "</table>\n",
       "</div>"
      ],
      "text/plain": [
<<<<<<< HEAD
<<<<<<< HEAD
       "               West          East         Total\n",
       "count  49600.000000  49600.000000  49600.000000\n",
       "mean      54.716230     55.895887    110.612117\n",
       "std       73.001037     81.137001    140.092804\n",
       "min        0.000000      0.000000      0.000000\n",
       "25%        7.000000      7.000000     15.000000\n",
       "50%       29.000000     28.000000     60.000000\n",
       "75%       72.000000     68.000000    144.000000\n",
       "max      854.000000    717.000000   1165.000000"
      ]
     },
     "execution_count": 196,
=======
=======
>>>>>>> e70aabfc5f7c1034a47bd8890afa68afb59d1c3e
       "               West          East         Total          Mean\n",
       "count  49600.000000  49600.000000  49600.000000  49600.000000\n",
       "mean      54.716230     55.895887    110.612117     55.306058\n",
       "std       73.001037     81.137001    140.092804     70.046402\n",
       "min        0.000000      0.000000      0.000000      0.000000\n",
       "25%        7.000000      7.000000     15.000000      7.500000\n",
       "50%       29.000000     28.000000     60.000000     30.000000\n",
       "75%       72.000000     68.000000    144.000000     72.000000\n",
       "max      854.000000    717.000000   1165.000000    582.500000"
      ]
     },
     "execution_count": 307,
<<<<<<< HEAD
>>>>>>> refs/remotes/origin/master
=======
>>>>>>> e70aabfc5f7c1034a47bd8890afa68afb59d1c3e
     "metadata": {},
     "output_type": "execute_result"
    }
   ],
   "source": [
    "data.dropna().describe()"
   ]
  },
  {
   "cell_type": "code",
<<<<<<< HEAD
<<<<<<< HEAD
   "execution_count": 48,
=======
   "execution_count": 311,
>>>>>>> refs/remotes/origin/master
=======
   "execution_count": 311,
>>>>>>> e70aabfc5f7c1034a47bd8890afa68afb59d1c3e
   "metadata": {},
   "outputs": [
    {
     "data": {
      "text/plain": [
       "Text(0,0.5,'Hourly Bicycle Count')"
      ]
     },
<<<<<<< HEAD
<<<<<<< HEAD
     "execution_count": 48,
=======
     "execution_count": 311,
>>>>>>> refs/remotes/origin/master
=======
     "execution_count": 311,
>>>>>>> e70aabfc5f7c1034a47bd8890afa68afb59d1c3e
     "metadata": {},
     "output_type": "execute_result"
    },
    {
     "data": {
      "image/png": "iVBORw0KGgoAAAANSUhEUgAAAYgAAAEFCAYAAAD5bXAgAAAABHNCSVQICAgIfAhkiAAAAAlwSFlz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\nRK5CYII=\n",
      "text/plain": [
<<<<<<< HEAD
<<<<<<< HEAD
       "<matplotlib.figure.Figure at 0x2847301a0b8>"
=======
       "<matplotlib.figure.Figure at 0x21d4b25c320>"
>>>>>>> refs/remotes/origin/master
=======
       "<matplotlib.figure.Figure at 0x21d4b25c320>"
>>>>>>> e70aabfc5f7c1034a47bd8890afa68afb59d1c3e
      ]
     },
     "metadata": {},
     "output_type": "display_data"
    }
   ],
   "source": [
    "# Plot hourly bicycle count by year\n",
    "data.plot(alpha=.7)\n",
    "plt.ylabel('Hourly Bicycle Count')"
   ]
  },
  {
   "cell_type": "code",
<<<<<<< HEAD
<<<<<<< HEAD
   "execution_count": 211,
=======
=======
>>>>>>> e70aabfc5f7c1034a47bd8890afa68afb59d1c3e
   "execution_count": 316,
   "metadata": {},
   "outputs": [
    {
     "data": {
      "text/plain": [
       "<matplotlib.axes._subplots.AxesSubplot at 0x21d511eb128>"
      ]
     },
     "execution_count": 316,
     "metadata": {},
     "output_type": "execute_result"
    },
    {
     "data": {
      "image/png": "iVBORw0KGgoAAAANSUhEUgAAAYUAAAEHCAYAAABBW1qbAAAABHNCSVQICAgIfAhkiAAAAAlwSFlz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\nIiJqfwOLj4a6GdXdxwAAAABJRU5ErkJggg==\n",
      "text/plain": [
       "<matplotlib.figure.Figure at 0x21d511fc208>"
      ]
     },
     "metadata": {},
     "output_type": "display_data"
    }
   ],
   "source": [
    "# Plot summed weekly bicycle count\n",
    "weekly = data.resample('M').sum()\n",
    "weekly.plot(style=[':', '--', '-', '.'])"
   ]
  },
  {
   "cell_type": "code",
   "execution_count": 319,
<<<<<<< HEAD
>>>>>>> refs/remotes/origin/master
=======
>>>>>>> e70aabfc5f7c1034a47bd8890afa68afb59d1c3e
   "metadata": {},
   "outputs": [
    {
     "data": {
      "text/html": [
       "<div>\n",
       "<style scoped>\n",
       "    .dataframe tbody tr th:only-of-type {\n",
       "        vertical-align: middle;\n",
       "    }\n",
       "\n",
       "    .dataframe tbody tr th {\n",
       "        vertical-align: top;\n",
       "    }\n",
       "\n",
       "    .dataframe thead th {\n",
       "        text-align: right;\n",
       "    }\n",
       "</style>\n",
       "<table border=\"1\" class=\"dataframe\">\n",
       "  <thead>\n",
       "    <tr style=\"text-align: right;\">\n",
       "      <th></th>\n",
       "      <th>West</th>\n",
       "      <th>East</th>\n",
       "      <th>Total</th>\n",
<<<<<<< HEAD
<<<<<<< HEAD
=======
       "      <th>Mean</th>\n",
>>>>>>> refs/remotes/origin/master
=======
       "      <th>Mean</th>\n",
>>>>>>> e70aabfc5f7c1034a47bd8890afa68afb59d1c3e
       "    </tr>\n",
       "    <tr>\n",
       "      <th>Date</th>\n",
       "      <th></th>\n",
       "      <th></th>\n",
       "      <th></th>\n",
<<<<<<< HEAD
<<<<<<< HEAD
       "    </tr>\n",
       "  </thead>\n",
       "  <tbody>\n",
       "    <tr>\n",
       "      <th>2012-12-31</th>\n",
       "      <td>1.0</td>\n",
       "      <td>0.0</td>\n",
       "      <td>1.0</td>\n",
       "    </tr>\n",
       "    <tr>\n",
       "      <th>2013-12-31</th>\n",
       "      <td>8.0</td>\n",
       "      <td>4.0</td>\n",
       "      <td>12.0</td>\n",
       "    </tr>\n",
       "    <tr>\n",
       "      <th>2014-12-31</th>\n",
       "      <td>3.0</td>\n",
       "      <td>5.0</td>\n",
       "      <td>8.0</td>\n",
       "    </tr>\n",
       "    <tr>\n",
       "      <th>2015-12-31</th>\n",
       "      <td>3.0</td>\n",
       "      <td>2.0</td>\n",
       "      <td>5.0</td>\n",
       "    </tr>\n",
       "    <tr>\n",
       "      <th>2016-12-31</th>\n",
       "      <td>3.0</td>\n",
       "      <td>1.0</td>\n",
       "      <td>4.0</td>\n",
       "    </tr>\n",
       "    <tr>\n",
       "      <th>2017-12-31</th>\n",
       "      <td>3.0</td>\n",
       "      <td>9.0</td>\n",
       "      <td>12.0</td>\n",
       "    </tr>\n",
=======
=======
>>>>>>> e70aabfc5f7c1034a47bd8890afa68afb59d1c3e
       "      <th></th>\n",
       "    </tr>\n",
       "  </thead>\n",
       "  <tbody>\n",
<<<<<<< HEAD
>>>>>>> refs/remotes/origin/master
=======
>>>>>>> e70aabfc5f7c1034a47bd8890afa68afb59d1c3e
       "  </tbody>\n",
       "</table>\n",
       "</div>"
      ],
      "text/plain": [
<<<<<<< HEAD
<<<<<<< HEAD
       "            West  East  Total\n",
       "Date                         \n",
       "2012-12-31   1.0   0.0    1.0\n",
       "2013-12-31   8.0   4.0   12.0\n",
       "2014-12-31   3.0   5.0    8.0\n",
       "2015-12-31   3.0   2.0    5.0\n",
       "2016-12-31   3.0   1.0    4.0\n",
       "2017-12-31   3.0   9.0   12.0"
      ]
     },
     "execution_count": 211,
=======
=======
>>>>>>> e70aabfc5f7c1034a47bd8890afa68afb59d1c3e
       "Empty DataFrame\n",
       "Columns: [West, East, Total, Mean]\n",
       "Index: []"
      ]
     },
     "execution_count": 319,
<<<<<<< HEAD
>>>>>>> refs/remotes/origin/master
=======
>>>>>>> e70aabfc5f7c1034a47bd8890afa68afb59d1c3e
     "metadata": {},
     "output_type": "execute_result"
    }
   ],
   "source": [
<<<<<<< HEAD
<<<<<<< HEAD
    "data.asfreq('Y')"
=======
    "data.head(0)"
>>>>>>> refs/remotes/origin/master
   ]
  },
  {
   "cell_type": "code",
<<<<<<< HEAD
   "execution_count": 199,
   "metadata": {},
   "outputs": [
    {
     "data": {
      "text/plain": [
       "<matplotlib.axes._subplots.AxesSubplot at 0x2847f5334e0>"
      ]
     },
     "execution_count": 199,
     "metadata": {},
     "output_type": "execute_result"
    },
    {
     "data": {
      "image/png": "iVBORw0KGgoAAAANSUhEUgAAAXoAAAEFCAYAAADt1CyEAAAABHNCSVQICAgIfAhkiAAAAAlwSFlz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\nRC8iErj/Acd6ACur1um+AAAAAElFTkSuQmCC\n",
      "text/plain": [
       "<matplotlib.figure.Figure at 0x2847f1a0588>"
      ]
     },
     "metadata": {},
     "output_type": "display_data"
    }
   ],
   "source": [
    "# Plot summed weekly bicycle count\n",
    "weekly = data.resample('H').sum()\n",
    "weekly.plot(alpha=0.5, style=[':', '--', '-', '.'])"
=======
    "data.head(0)"
>>>>>>> e70aabfc5f7c1034a47bd8890afa68afb59d1c3e
   ]
  },
  {
   "cell_type": "code",
<<<<<<< HEAD
   "execution_count": 51,
=======
   "execution_count": 327,
>>>>>>> refs/remotes/origin/master
=======
   "execution_count": 327,
>>>>>>> e70aabfc5f7c1034a47bd8890afa68afb59d1c3e
   "metadata": {},
   "outputs": [
    {
     "data": {
      "text/plain": [
       "Text(0,0.5,'mean hourly count')"
      ]
     },
<<<<<<< HEAD
<<<<<<< HEAD
     "execution_count": 51,
=======
     "execution_count": 327,
>>>>>>> refs/remotes/origin/master
=======
     "execution_count": 327,
>>>>>>> e70aabfc5f7c1034a47bd8890afa68afb59d1c3e
     "metadata": {},
     "output_type": "execute_result"
    },
    {
     "data": {
      "image/png": "iVBORw0KGgoAAAANSUhEUgAAAZMAAAEHCAYAAABr66s0AAAABHNCSVQICAgIfAhkiAAAAAlwSFlz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\nSUVORK5CYII=\n",
      "text/plain": [
<<<<<<< HEAD
<<<<<<< HEAD
       "<matplotlib.figure.Figure at 0x2847ae1f860>"
=======
       "<matplotlib.figure.Figure at 0x21d5163ed30>"
>>>>>>> refs/remotes/origin/master
=======
       "<matplotlib.figure.Figure at 0x21d5163ed30>"
>>>>>>> e70aabfc5f7c1034a47bd8890afa68afb59d1c3e
      ]
     },
     "metadata": {},
     "output_type": "display_data"
    }
   ],
   "source": [
    "# Plot centered 30-day rolling mean\n",
    "daily = data.resample('D').sum()\n",
    "daily[['West', 'East', 'Total']].rolling(30, center=True).sum().plot(style=[':', '--', '-'])\n",
    "plt.ylabel('mean hourly count')"
   ]
  },
  {
<<<<<<< HEAD
<<<<<<< HEAD
   "cell_type": "markdown",
   "metadata": {},
   "source": [
    "### Digging into the data"
   ]
  },
  {
   "cell_type": "code",
   "execution_count": 231,
   "metadata": {},
   "outputs": [
    {
     "data": {
      "text/plain": [
       "<matplotlib.axes._subplots.AxesSubplot at 0x2840a99b2b0>"
      ]
     },
     "execution_count": 231,
     "metadata": {},
     "output_type": "execute_result"
    },
    {
     "data": {
      "image/png": "iVBORw0KGgoAAAANSUhEUgAAAXQAAAEFCAYAAADzHRw3AAAABHNCSVQICAgIfAhkiAAAAAlwSFlz\nAAALEgAACxIB0t1+/AAAADl0RVh0U29mdHdhcmUAbWF0cGxvdGxpYiB2ZXJzaW9uIDIuMS4wLCBo\ndHRwOi8vbWF0cGxvdGxpYi5vcmcvpW3flQAAIABJREFUeJzs3Xd8W9d5+P8PNggCJEES3EsSpau9\ntyVZllccO3HrNGnqNqtJM5qk6a8zTR3Had20+bZp0gxn2I0zGrdN4iSN95AtWcuSLVFbuprcCwTB\nDRDr/v4AQVESSIIkSHA879dLL1HAxcXRJfDg4JznPEenaRpCCCFmPn2qGyCEECI5JKALIcQsIQFd\nCCFmCQnoQggxS0hAF0KIWcKYyid3u7vHnWLjdNrwevuS2ZxZSa7T6OQaJUau0+im6hq5XA5dvNtn\nbA/daDSkugkzglyn0ck1Soxcp9Gl+hrN2IAuhBDiehLQhRBilpCALoQQs4QEdCGEmCUkoAshxCwh\nAV0IIWYJCehCCDFLSEAXQozZcfdpqlpPpboZ4gYS0IUQY/Y/53/Ff537BREtkuqmpMSf/dknOXv2\nNADBYJC7776Vp5766eD9n/nMx7l48ULC53v66f9NSrskoAshxsQf8tMd7MEf9tPma091c1Jiw4bN\nnDhxHIATJ6rYuHELhw7tB6C/v5+WlhYWLlyU8Pl+/OMfJqVdKa3lIoSYedxDgnh9TyN5ttwUtgZ+\n/tol3jrfmtRzblicx/t2VQ5//4ZN/PjHT/AHf/BHHDp0gHe963f47ne/SXd3N2fOnGLNmrVUVR3l\nBz94DIPBQFFRMX/zN39PY2MDX/nKlzEajRgMBh566Ms8//wzdHV18m//9i/81V99fkLtHjGgK4pi\nAn4IVAAW4FGgHngGuDhw2HdVVf1fRVG+BNwLhIA/V1X1yIRaJoSYltp8nsGf67obWJu3MoWtSY1F\nixRqaqrRNI0TJ6r4xCc+zfr1mzh48CBVVafYtGkLX/3qP/Hd7z6B05nN449/l+eff4ZgMIiiLOaz\nn/0LTpyooru7iw996KM8/fTPJxzMYfQe+h8BHlVVP6AoSg5QBfwD8O+qqn4tdpCiKGuBW4FNQCnw\nNLBhwq0TQkw7QwN6fXdjClsS9b5dlSP2pieDXq+nsnIRb755kOzsHMxmM5s3b+XYscOcOnWGBx54\nLx5PG1/8YjRI9/f3s3HjZj74wT/mZz/7MX/5l58lPd3OJz7x6aS2a7SA/gvgl0P+HQLWAYqiKPcT\n7aX/ObANeFlVVQ2oVRTFqCiKS1VV90gndzptE6pO5nI5xv3YuUSu0+jkGiXG5XLQU90FgEGnp6G3\nkdxcOzpd3Gqus9quXbfyP//zE+69915cLge7dm3jZz97EpPJQGVlKYWFBTzxxA9wOBzs3r0bm83G\nyZNH2LFjK3/7t3/Js88+y9NPP8U///M/o9Ml5zU4YkBXVbUHQFEUB9HA/hDRoZcnVFU9qijK3wNf\nAjoAz5CHdgOZwIgBfSJ1g10uB25397gfP1fIdRqdXKPExK5TnbcZgIVZCzjvvcilhgayLJkpbt3U\nW7x4FUePPsTnP/+lwdePw+GgvHwBHk8vn/nMX/CRj3wUTdOw2dL54he/TFpaFv/wD1/EYDCg1+v5\n7Gf/Are7m7KyCj772T/n4Yf/MaHnHi74jzopqihKKfBr4DFVVZ9SFCVLVdWOgbt/DXwL+D9g6DM4\niAZ5IcQs0+ZrJ9PsYH5WBee9F6nvbpyTAb2goJD9+9++7rbHHntsMLhv3LiZjRs3X3e/05nN97//\n5E3n+ta3vp+UNo2YtqgoSj7wMvC3qqrG8mpeUhRl48DPtwNHgQPA3Yqi6BVFKQP0qqq2JaWFQohp\nIxwJ4+3vIDcth1J7EQB102AcXUSN1kP/AuAEvqgoyhcHbvsL4BuKogSAZuDjqqp2KYqyDzhE9EMi\nuSP9QohpweP3EtEi0YDuKAagvqchxa0SMaONoX8O+Fycu7bGOfYR4JGktEoIMS3FMlxy07LJsmRi\nN6VLD30akZWiQoiEXQvoOeh0OkrsRXj87fQFfSlumQAJ6EKIMXAPBHRXWg7AkGEX6aVPBxLQhRAJ\ni9VuyR0I6CWO6MRofbeMo08HUstFCJGwNp8Hq8GC3ZQOMJjpUjvHxtGPHXubhx/+Oyoq5g3elpXl\n5Pvffyzhc+zd+zrLli0nN9eVtHZJQBdCJETTNNp8HvJsrsGVoS5bLmaDeU5muqxbt54vf/mfx/34\nX/ziv6mo+IIEdCHE1OvwdxGIBAeHWwD0Oj0l9kKqu+oIhIOYDaYpb9evLj2b9M021uSt4IHK+8b8\nuCNHjvD1r/8HAH6/n4ce+jL5+QU8/PDn6e3tpb/fz6c+9Wf4/X4uXbrAo48+zGOP/ScmU3KumwR0\nIURCWnqilTxcQwI6RCdGr3TW0NjbREVGWSqalhJHj77NZz7z8cF/b926jdzcLB5++B/JzXXxk5/8\nkNdff5Xt23fS3u7hG994DK/XS11dDVu3bqOychF//ddfSFowBwnoQogEtfREF3/npmVfd3uJPZrp\nUtfdmJKA/kDlfePqTU9UvCGXEycO841v/CtpaTbc7lZWrFjF/PkLeOCB9/HII39PKBTi937v/ZPW\nJgnoQoiEtPRGe+i5N/XQJdMl5qGHHuJ///c32GzpPProlwC4fPkSfX29/Ou//gdtbW186lN/zC23\nbEev1xOJJHcLPwnoQoiENA/20K8P6IXp+Rh0BurmWC76jUMuAO9+97v5+Mc/jMPhwOnMoa3NTUlJ\nKU8++QNefPE5jEYTH/3oJwBYvnwljz76Jb7+9W+TkZGc4mY6TdOScqLxcLu7x/3kUvI0MXKdRifX\nKDHfOPFdLrfX8I1b/wmD/vp9DP75yDdo6Wvlazv+8ab75pKpei25XI64BehlYZEQIiEtPW5yrM64\nAbvEUUQwEqKlb8QtEMQkk4AuhBiVP+Snq7/npuGWmNLBiVEZR08lCehCiFG5B5b835iyGCM1XaYH\nCehCiFENrbIYT7G9EB066aGnmAR0IcSoRgvoVqMFly2H+p4mUploMddJQBdCjOrGsrnxlNqL8YV8\nePzeqWqWuIEEdCHEqIbuVDScWCldGXZJHQnoQohRtfnacVozMRvMwx4Ty3SRFaOpIwFdCDGicCSM\nt7+DfHvuiMcN9tAl0yVlJKALIUbk8XuJaBHyRgnoDrOdLEum9NBTSAK6EGJEsfHzAvvoGzGUOoro\nDHTTFZBSCqkgAV0IMaJYQM9PHz2gDy2lK6aeBHQhxIhiKYujjaGDlNJNNQnoQogRtQ0s+09kyKVE\narqklAR0IcSI2nwerAYLDot91GOzrVnYjGmS6ZIiEtCFEMPSNI02n4fctBx0urgluK+j0+kodRTT\n5vPgC/mmoIViKAnoYtK0d/np8QVT3QwxAV2BbgKR4LA1XOIpGRxHb5qsZolhSEAXkyIQDPPIk2/x\nvf87neqmiAlIpIbLjQZXjMqwy5STgC4mxemr7fT4glxu6CIi1fdmrERquNyoVGq6pMyIm0QrimIC\nfghUABbgUeAs8CNAA04Dn1ZVNaIoypeAe4EQ8Oeqqh6ZvGaL6e5ttRWA/mAYd4ePfKctxS0S4xHL\ncBnLkEuezYVZb5IeegqM1kP/I8Cjqup24B7g28C/Aw8N3KYD7lcUZS1wK7AJeD/wnclrspjugqEI\nxy+2Df67vrUnha0REzFaHfR49Do9xfZCmnpbCIZlDmUqjRbQfwF8cci/Q8A6YO/Av18A7gC2AS+r\nqqqpqloLGBVFGT1pVcxKZ6rb8QfClLiiaW51EtBnrDafB71Oj9OSOabHlTiKiWgRGnubJ6llIp4R\nh1xUVe0BUBTFAfwSeAj4N1VVY4Oi3UAmkAF4hjw0dvuIW4A7nTaMxpt3EE+Uy+UY92Pnkqm+Tqdf\nvQjAB+9dyld+dITWTv+0/11N9/aliqe/nbz0HArys4DEr9PSrvnsazhEB+2sdy2dzCZOO6l8LY0Y\n0AEURSkFfg08pqrqU4qi/L8hdzuADqBr4Ocbbx+R19s3ttYO4XI5cLulANBopvo6hcIR3jzVhNNh\nYX5+Og6bicv1HdP6dyWvpfj8IT9d/T0UpxfhdneP6TplER2iOdd0hVUZqyazmdPKVL2WhvvQGHHI\nRVGUfOBl4G9VVf3hwM1ViqLsHPj5HmAfcAC4W1EUvaIoZYBeVdW2m04oZr1zNV76+kOsU1zodTpK\n8+y4O/z4+kOpbpoYI/fAhOhYUhZjCu0F6HV6qekyxUbroX8BcAJfVBQlNpb+OeCbiqKYgXPAL1VV\nDSuKsg84RPRD4tOT1WAxvb11PprdsmFxHgAlLjtnq700uHupLBnbOKxIrfFMiMaY9EYK0/Np6Gki\nokXQ6yRDeiqMNob+OaIB/Ea3xjn2EeCRpLRKzEihcISqC24y7WYWFEeDd2newMSou0cC+gwzkYAO\nUGIvoqGnidY+NwXp+clsmhiGfGyKpFFrO+j1h1i/KA/9QN2PWKaLpC7OPONZJTpUqSO6YrRWhl2m\njAR0kTSxxUTrF1/LWC3KTUev00nq4gw0nlWiQ8UCer1sdjFlJKCLpAhHIhy74CbDZmJhSdbg7Saj\nnsIcG/XuHikBMMO0+Txkmh2YDeZxPb7YXgjIptFTSQK6SIoLdZ109wVZq+Sh119fZrUkz44/EMbT\n6U9R68RYhSNh2v0d5IxzuAUgzWjFlZZDfXcDmnyYTwkJ6CIp3o5lt8RZIDw4MSrDLjOGx+9FQxv3\n+HlMiaOYvpCPdv+oy1JEEkhAFxMWiWgcveDGnmZiUVnWTffLxOjMM9Hx85hS+0Bt9B6ZGJ0KEtDF\nhF2s76CrN8DaRS4M+ptfUkNTF8XMMNGUxZgSR2yPURlHnwoS0MWEva1GS/YMzW4ZKstuxp5mkh76\nDDLRlMUYqY0+tSSgiwmJaBpH1VbSrUYWlznjHqPT6ShxpdPq9dEfCE9xC8V4jKcOejwZZgeZ5gyp\njT5FJKCLCbnS0EVHT4A1C10YDcO/nEry7GhAfZv00meCNp8Hq8GC3ZQ+4XOVOoro6O+kOyC/+8km\nAV1MSKx2y3DDLTGlMjE6Y2iaRpvPQ25aDjqdbvQHjKJEFhhNGQnoYtwimsbbaitpFiNLK0bOhijN\nl9TFmaIr0E0gEpzwcEtMLNOlTjJdJp0EdDFuV5u68Hb3s2Zh7ojDLQBFOenodNJDnwmSNSEaIz30\nqSMBXYzb0fMD2S1K3qjHmk0GCrJt1Ll7ZdXgNBdLWcyZYA56TI7VSZoxTXroU0ACuhgXbWC4xWo2\nsGxe/OyWG5Xm2fH1h/B0SQmA6axtAhtbxKPT6SixF9La14Y/JL/7ySQBXYxLTUs3bZ1+VlfmYkpw\nX9hrK0Z7J7NpYoKStahoqMHKiz1NSTunuJkEdDEubw8Mt6xLYLglpkRWjM4IbT4Pep0epyV5G5JI\nKd2pIQFdjJmmabx9vhWLycCK+YmPs5blSeriTOD2ecixOjHoE/vmlYgSyXSZEhLQxZjVtfbQ2uFj\nVWUOZlPib3qnw4LNYpTUxWnMH/LTE+xN6nALQL7NhUlvlB76JJOALsZscGeiMQy3wMDkWJ6dFm8f\n/UEpATAduZM8IRpj0BsoshfS1NtCKBJK6rnFNRLQxZhomsZb592YjXpWzB/7m77UZUfToLFNJkan\no8mYEI0ptRcR1sI09bYk/dwiSgK6GJOGtl5a2vtYsSAHi3nsY6yyYnR6m8yALguMJp8EdDEmsZ2J\nxjrcEiObXUxvyV4lOlTJ4GYXEtAniwR0MSZvq26MBj0rF4zvDV+cm44OqJfUxWkpWTsVxVNsL0CH\nTja7mEQS0EXCGtp6aWzrZcX8bNIsxnGdw2I2kJdto661R0oATENtPg8ZZgdmgznp5zYbzOTbXDT0\nNBLRIkk/v5CALsbgaCy7ZfH4hltiSl3p9PpDeLv7k9EskSThSJh2f8ekjJ/HlDiK8If78fi8k/Yc\nc5kEdJGwt8+7MRp0rFqQO6HzxFaMyrDL9OLxe9HQJmX8PEbG0SeXBHSRkOb2PurdPSyryMZmHd9w\nS8zgptEyMTqtTOb4eUyJQwL6ZJKALhKSrOEWuLZ7kQT06WUyUxZjBnvosmn0pJCALhLy1vlWDHod\nqxdObLgFICfTitVsoN4ti4umk8lMWYxxmO1kWTKl6uIkkYAuRtXW4aO2pYclFU7SraYJny9WAqDZ\n00cwJCUApotYHfTJ7KEDlNgLZdPoSZJQQFcUZZOiKHsGfl6rKEqDoih7Bv78/sDtX1IU5YiiKAcV\nRdk4iW0WU+xqczcAS8uTN7Zammcnomk0tvUl7ZxiYtp8HqwGC3ZT+qQ+j0yMTp5RZ7cURfkb4ANA\n7PvxWuDfVVX92pBj1gK3ApuAUuBpYEPSWytSIjbWHZvMTIah4+jlBY6knVeMj6ZptPk85Nlc6HS6\nSX2uoSUAlmQvmtTnmmsS6aFfBh4Y8u91wL2KoryhKMp/KoriALYBL6uqqqmqWgsYFUVxTUJ7RQrE\nlumXJDGgS+ri9NIV6CYQCU76cAtID30yjdpDV1X1aUVRKobcdAR4QlXVo4qi/D3wJaAD8Aw5phvI\nBNwjndvptGFMcPuyeFwu6dklYqLXqbG9jyy7hcqK5L3Z7RlpADR7fdPi9zgd2pBKHne0AmJZTuGI\n1yIZ1ylHSyftbStNvuZZed1T+X8aT0Lxr1VV7Yj9DHwL+D9g6P/CQTTIj8jrHf/4qcvlwO3uHvfj\n54qJXqc+f4jW9j6WVjiTfr3zstK40tBJa2vXpH/NH4m8luBiUx0ANs0+7LVI5nUqSi/kSmc1Dc2e\nSSkzkCpT9Voa7kNjPFkuLw2Z9LwdOAocAO5WFEWvKEoZoFdVtW1cLRXTSkPbwHCLK3nDLTEleXZ6\nfEE6ewNJP7cYm7YpSFkcqsRRhIZGY2/zlDzfXDGegP4p4BsDWS+3AI+qqnoU2AccIjoh+umktVCk\nVP0kTIjGlMoeo9PGVKUsxgzuMSqVF5MqoSEXVVWrgc0DPx8DtsY55hHgkeQ1TUwHdQOLfyalhz4k\n02X5OHY/EsnT5vOg1+lxWjKn5PlKpQTApJCFRWJE9a096HU6inJtST93aV4037lOMl1Szu3zkGN1\nYtCPP0lhLArS89Hr9LJ7UZJJQBfDimga9e4eCnJsmCaQjTSc3Kw0LGaDDLmkmD/kpyfYO2XDLQAm\nvZHC9HwaepqkNnoSSUAXw/J0+vEHwpS4JmfloF6no8SVTpOnj2BI3tSp4h4YP5+qCdGYEnsRwUiQ\n1j7Jn0gWCehiWJM5IRpT6rITjmg0eaRQV6pMRZXFeAZL6UrlxaSRgC6GFRvbnsyALitGUy9VAb10\ncMWoVF5MFgnoYliDS/4nIcMlRja7SL2pKJsbT7GUAEg6CehiWHXuXtKtRpwOy6Q9R3Gu5KKnWqyH\nnjOJOxXFYzOlkWN1UtfdIBuGJ4kEdBFXfzBMa3sfJS77pC7Lt1mN5GZaB/PdxdRr83nIMDuwpGAJ\nfomjmJ5gL52Bril/7tlIArqIq7GtF43kVlgcTmmena7egJQASIFQJES7v2PKx89jSuyFAJKPniQS\n0EVck1EDfTixMXoZdpl6jT3NaGgU2FJT7VpK6SaXBHQR11RMiMbIxGjqnG2/AICSvTAlz186ZLML\nMXES0EVc9e4edEBx7uRuRwaSuphK59pVdOhYnKKAnmXJJN1okx56kkhAFzfRNI261h7ynNGl+ZMt\nLysNs0kvPfQp5gv5udJZQ5mjZNL3ER2OTqej2FGE2+fBF/KnpA2ziQR0cZOOngC9/tCUTIgC6PU6\ninPtNLb1EgpLCYCpcsF7iYgWYWlOavf1jC0wapAFRhMmAV3cZHBCdArGz2NK89IJRzSa28e/i5UY\nm9j4+ZJsJaXtuFYCQIZdJkoCurhJbCx7qnroAKV50S21ZNhlamiaxjmPSprRSkVG6ZgfHwpHkvZt\nSjJdkkcCurjJYIbLFAb0WEVHSV2cGq2+Njx+L4pz4ZhroEc0ja/89Chf/tFb9AfDE25Lvs2FUW+U\ngJ4EEtDFTercPVjMBnIzrVP2nLEPD9nsYmqc80SHW5Zmj338/Jjqprq5mwZ3L7/cc3nCbTHoDRSl\nF9DU00w4MvEPiLlMArq4TjAUodnTR4krHf0kLvm/UbrVRE6GRXroU+RcuwrAkjFOiGqaxrMHq9EB\nuZlWdh+t52x1+4TbU2IvIqSFae5rnfC55jIJ6OI6TZ5ewhFtSidEY0pcdjp6AnT3SQmAyRSMhLjg\nvUyBLY9sq3NMjz1x2UNtaw8bluTxqd9Zjl6n44fPn6PPH5pQm0plYjQpJKCL69SlYPw8ZnCBkfTS\nJ9XljqsEIsFx9c6fOVANwH1bK5hXmMF9W8tp7+rnv3dfmFCbYpkudT2y2cVESEAX1xnMcElBD32w\nBIBUXpxU58aZrnj8gpurTV2sXeQafH3ct7WC8gIHB041U3XBPe42FaUXokMnPfQJkoAurpPMGi6a\npo2pzvW1mi7dE35uMbyzHhWT3sjCrPljetz/vhr9IHjX1orB24wGPR+7bylGg54fv3iernEOl1mN\nFly2HOp7mqQ2+gRIQBfXqXP3kpNhxWY1Tug8oUiIRw9/jSdO/zThx+Q50zAZ9dS3Sg99snT0d9LY\n20xl1nzMBlPCj1NrvZy54mHlghzKCxzX3Vecm84DO+bT1Rfkpy+q4w7IJfYifCEf7X7vuB4vJKCL\nITp7A3T1BpJSMvdY60ma+1o57j5NbVd9Qo8x6PUU5abT0NZLMCQlACbDufaLACwZY7riMwerget7\n50PdtaGURaVZHL3g5s0zLeNqmywwmjgJ6GLQtRWiEyvUpGkar9XtG/z3y7V7En6sUppFKBxBrZVe\n2mQ454mmKy7NSXz8/HJDJ2ervaxe6GJBcWbcY/R6HR+9dwkWs4H/euUC7V1jL7RVIqV0J0wCuhiU\nrPHzSx1XqetuYLVrOaX2Io63nqK1ry2hx65ZmAtA1aXEjheJi2gRzrdfJMuSSYEtL+HHxXrn77tz\n5F69KyuN9++qxNcf4snnz4156CXWQ6+THvq4SUAXg+qTtEvR6wO989tKt3Nn+U40NHbX7k3osZUl\nmaRbjZy41CaTY0lW211Pb6iPpdmLEt4ntqa5m5OXPSwqyWTFgtxRj9+xqogV83M4U+3l9aqxpSBm\nWhxkmB3SQ58ACehiUJ27B5NRT54zbdzncPd5ONl2lnJHKQsyK1jtWkGuNZs3m4/S2T969opBr2fF\nghzau/qlUFeSnfXEVocmPtzy7EDv/L5bKhI6XqfT8eF7FpNuNfLz1y/R4h1b9cwSexHe/g56gjIx\nPh4S0AUA4UiExrZeinLTMejH/7LYU78fDY1dpdvQ6XQY9AZuL7uVUCTEnvr9CZ1jdWW0J3j8ogy7\nJNO59gvR3YmclQkdX+/u4egFN/MKM1hWkZ3w8zgdFj5wt0IgGOGJZ88SiST+TSu2wKihW2qjj4cE\ndAFAc7uPUHhiS/77gj4ONr1FliWTNXkrB2/fXLgeh8nOvoZDCe1Ks3xeDga9TsbRk6gv6KO6q46K\njDJsJltCj3nuUA0QzWxJdIgmZuOSfDYuyeNyQxcvHK5J+HGS6TIxCQV0RVE2KYqyZ+DnSkVR9iuK\nsk9RlO8qiqIfuP1LiqIcURTloKIoGyexzWISJKNk7sGmIwTCAW4t2XpdSVazwcTO0m34Qn72N7w5\n6nlsViNKWRY1zd14u/vH3R5xjTrG3Yma2/s4cq6F0jw7qypzxvWcf3SXQma6md/su5rw8NlgCQAZ\nRx+XUQO6oih/AzwBxGqp/jvwkKqq2wEdcL+iKGuBW4FNwPuB70xOc8VkiaUslrrGl7IYjoTZU3cA\ns97EtqJNN92/o3gzFoOZ1+v2EYyMXsgpNuxyQnrpSTE4fp7gcv/nDlWjaePrncfY00x85J2LCUc0\nnnj2bEIbYrjScjAbzDRID31cEumhXwYeGPLvdUAsZeEF4A5gG/Cyqqqaqqq1gFFRFFdSWyomVawH\nVTzOHvpx92m8/R1sLtwQ9yu9zWRjW9FmOgPdvNV8bNTzDY6jS0CfME3TONd+gXSjjfKMklGPd3f4\nOHS6hcIcG2sn+DZeuSCXHasKqWvt4f/2Xx31eL1OT4m9kOa+VoLh4ISeey4adX23qqpPK4pSMeQm\nnaqqsVmObiATyAA8Q46J3T5itR6n04bROP5d5V0ux+gHiYSuU6Onj+wMCwvKx/f1et+Jg+jQ8Z5V\nd+NyxH++96bfw56GA7zW8AbvWnEb+hEmX10uBxWFGZyr8eLISMNqmVgpgtHM5tdSfVcT3v4Otpau\nIz8v/sKgoX6+9woRTePBuxeTn5dx3X3juU6fft8aztd18sKbNexcX8biUSZYK13lXOmswWfupii7\nfMzPl2qpfC2N510y9HuTA+gAugZ+vvH2EXnHmNI0lMvlwO2WIk6jSeQ69fqDtHX4WD4ve1zX9Epn\nDRc9V1mRuwSjPw23f7hzGNiQv4Y3m95m97k3WZ23YsTzLp/npLqpi71v17J20eR94Zvtr6UDtdFv\nRPPT54/6/2zv8vPqkRrynGksLsm47viJXKePvEPh/z1Vxb/919v8w0c3YTIO/2Gea4j+rk/VXSQj\nnHh2zXQwVa+l4T40xpPlUqUoys6Bn+8B9gEHgLsVRdErilIG6FVVle/KM8REJ0Rjy/x3lW4f9dg7\ny25Fh46Xa/eMunBolQy7JMXZWLncBCZEXzxcSyisce/m8gmlr95IKXOyc00xLV7fqL/PksHNLiR1\ncazG8xv7S+DLiqIcAszAL1VVPUo0sB8CngY+nbwmislWP1B/fDwpix6fl+Otpyi2F7Iwa8Goxxek\n57Mydyk1XXVc7Lgy4rHzCjPISDdz4lLbmHKZxTWBcJBLHVcoSi8gyzLycEtnTz97TzSSk2Fhy/KC\npLfl9nXR8ft9J0ae8CxML0Cv01Mvm12MWUJDLqqqVgObB36+QDSj5cZjHgEeSV7TxFSZyC5Fe+sP\noKFxe+mOhLMh7izfyYm2M7xc8zqLnMN/COh1OlYtyGHfySauNHVROUxhKDG8Sx1XCEZCCfXOXzpS\nRzAU4Z2byzEakr9EpSg3nQUWVpnsAAAgAElEQVTFGZy52o6n00/OMJuQmw0m8m0u6nuaiGgR9DpZ\nLpMouVKCencPBr2OwpzEFpzE+EN+DjQeIcPsYF3+qoQfNy+znMqseZxrvzBqvvHqhZK+OBGx3YmW\njpKu2N0X4PWqBrLsZratLJy09mxfWYQGHDg18nBKib2YQDhAm88z4nHiehLQ57iIplHv7qEwxzbm\nXtmhprfxh/3sKN6KUT+2+fW7ym8D4NVRSusurcjGZNRLGYBxOtt+AbPexIKseSMe98rbdfQHw9yz\nqRzTBDLPRrNhcR4Wk4H9p5qIjDCHUuKIfqjIAqOxkYA+x7k7fASCkTEPt0S0CK/X7cekN7K9ePOY\nn3dptkKxvZCjLSdo87UPe5zFZGBpuZOGtl5aO3xjfp65zOvvoLm3hYXOBZhG+MDt8wfZfbSeDJuJ\nHauLJrVNaRYjGxbn0dbp53zN8DXvpQTA+EhAn+MGS+aOcUL0ZNtZPP52NhasxW4e++pSnU7HHWW3\nDpTWfWPEYweHXaSXPiZn2wc2sxhluOXVo/X4+sPcvbEMi2nyeucx21dFe9/7Tg4/7HIt00UC+lhI\nQJ/jxjsh+lrttZrn47UubxXZVieHmo7QHRi+1oekL47POc/o6Yo9viCvvFVHutXIzjXFU9KuyuJM\nCrJtHFXd9Prjrwa1m9JxWrKkhz5GEtDnuFjK4lh2KarpquNy51WWZisUpueP+7kNegO3l+4gGAmx\np/7AsMdl2S3MK3Rwoa6DvmECgLheOBLmvPciOVYneWnxN6bQNI0nnz9Hrz/EvVsqSJvk1bgxOp2O\n7SsLCYUjI+4/WuIopCvQnVAdfRElAX2Oq2/twZ5mIstuTvgxY1lINJqtRRuwm9J5o/4g/tDwlRVX\nV+YSjmicujL8eLu4pqa7Dl/Iz5IcZdh00r0nGqm62IZSmsVdG0qntH1blxeg1+nYd3L4HniJfWCP\nUemlJ0wC+hzmD4Ro7fBR4kpPOIe8o7+TY60nKUzPZ3H2wgm3wWwwc2vJVvpCPg42Hh72uNULo8vB\nZdglMWc9sXTF+MMtTZ5e/ufVi6RbjfzJu5ai14+vouJ4ZdotrKrMobalh5rm+D3wa5tdSEBPlAT0\nOawhNtwyhvHzvfUHiWgRbhvYkSgZdpRsxaw3sbtuH6FhSuuWuNLJybBw6rInoTKsc93ZdhW9Ts+i\nOLsThcIRfvDbswRCET74jsVkZ8Rf4DPZtq+MBuzheumS6TJ2EtDnsDr32DJc+sMB9je8id2Uzob8\ntUlrh92Uzi1Fm+jo7+StluNxj9HpdKyudNHXH+JifWfSnns26gn2UttVz/zMctKMNwfrX71xhZqW\nbratKGTD4rwUtDBqxYJsMtPNvHmmhUAwfNP9OVYnaUYrdVICIGES0OewsRblOtx0lL6Qj+3FWzAb\nTElty66y7eh1el6t2UNEi98DX7UwWtpXFhmNTG2/iIYWdzOLs9XtvHi4ljxnGg/eOfEhs4kw6PVs\nXVFAX3+IYxdurrSt0+kosRfh7vOMOL8irpGAPofVt/ag00VrbIwmupBoH0adgR0lW5Lelmyrkw35\na2jua+V027m4xyilTqxmAycutY1aqXEuG278vMcX5Ilnz2LQ6/jEu5dhNU9NVstIrg27xM9JL3EU\noaHR2CuVFxMhAX2O0jSNOncv+U5bQotJznjO0+prY33+GjLMk1PA/46yaM23l2vil9Y1GfUsn59D\na4ePRs/4a+nPZrHdieym9MFJxdjtP3rhPB09Ae7fNo95hRkjnGXqFGTbWFSSybkaL+44K4HnZUQ3\nuHirOf5QnLieBPQ5qr2rH19/KOHhltfq9gNwW+m2SWtTkb2AFblLuNpVg+q9FPeY1QMbFkuxrvga\ne5vpDHSxJHvRdVUK3zjRyLELbpTSLN65eXrtArR9VfSDZ3+cXvpq13JyrNkcbDxMR7/MnYxGAvoc\nVTeGTaEbepq44L2E4qy8rtc3Gd45704Anr3yUtxe+soFueh0Mo4+nGubQV8bbmny9PLfuy9is6Qm\nRXE065U8rOaBgl031L036A28o2IXIS3MyzV7UtPAGUQC+hw1WMMlb/ThkzfqDwKws+SWSW0TQJmj\nhFWu5VztquWM5/xN99vTTCwsyeJyQyddvYFJb89Mc+6G3YlC4Qg/eOYsgWCED92TuhTFkVjMBjYu\nycfb3c+Z6psXjm0qWEeO1ckB6aWPSgL6HFXvjmW4jNxD94V8HGmpwmnJYnnukqloGvfOuxMdOp67\n+nLcXvrqylw04ORlqZU9VH84wOWOq5TaiwbnOX79xhVqmru5ZUVBSlMURzNYsCvObkYGvYG7y3cR\nioR4tWbvVDdtRpGAPkfVtfaQZjGQM0qP7XDTMQLhANuLN0/ZzjHF9kLW5q2ktruBk21nbro/Vn1R\nVo1e70DjYUJamCU50XTFc7EUxaw0Hrxj9B2LUml+YQbFuelUXWyju+/mb16bCtfhtGSxv/FNOvu7\nUtDCmUEC+hwUDIVpbu+jxGUfcbWnpmm80XAIo87A1qKNU9jC6Fi6Dh3PXnn5prz0gmwbBdk2Tl/1\nEAzdvCBlLnq7uYpfXXx2cJFWjy/IE8+dQ6fT8fF3L5uywlvjFSvYFY5oHIpTsMuoN3J3xS6CkRCv\n1kovfTgS0OegxrY+NG30BUUXvJdp6WtlTd5KHOax7zc6EQXpeWwoWENjbzNVraduun91ZS6BYIRz\nNR1T2q7p6HTbOX587n+xGCx8ZvXHyLE6+fEL5/F293P/9nnML5oeKYqj2bK8AIM+WrAr3lDblsL1\nOC1Z7Gt4k66AVGCMRwL6HFSX4KYWbzQcAqK1VlLhnoo70Ov0PH/1lZt66TLsEnXRe5knTv8Ug87A\np1Z9hFJHMftONnH0gptFpVncO81SFEfisJlZszCXBncvV5tuDthGvZG7ym8jGAnKWPowJKDPQdcm\nRIcP6F5/ByfbzlBiL2JeRtlUNe06ebZcNheso7mvlbdvqPGyoDiDdKtxTq8aremq43snf0RE0/iT\nFR+kMmseze19PPXqhWiK4n3TL0VxNNtGKdi1pWgDWZZM3mg4NOKmKHOVBPQ5KNZDLx5hyf+BxiNE\ntAg7irckrarieLyj4g4MOgPPX32FcOTaeLlBr2flgly83f3Utsy9N3ZTbwvfOfGf9IcDfHjZH7As\nRyEQDPP9354hEIzwwXco5GROvxTF0Syfl43TYeHw2Rb6AzfPj5iG9tJlLP0mEtDnGE3TqGvtwZVl\nHXaiLBQJcaDxMGlGK+sL1kxxC6+Xk+Zka9FG3D4Ph5uPXXffmoFhl6qLNxd2ms3afO18q+pxeoN9\nPLj4Pax2reDQmWb+/vE3oymKywvYuGT8O0mlkl6v45YVhfgDYd5WW+Mes7VwA5nmDN6oPyi99BtI\nQJ9junoD9PiCI245d8J9hq5AN5sL1mMxJL6T0WR5R8UujHojL1S/el299GXzsjHodZy4NHfy0Tv7\nu/jW8cfpDHTxQOV95IYX8U8/eZvHnzlLZ2+AezaV8YG7R94UerrbtnLkTaRNBhN3ld9GIBIcdYPx\nuUYC+hwzuOR/hPHzNxqiK0O3F2+ekjaNJsuSyfaizbT7vRxqemvw9jSLkcXlTmpaumnv8qewhVOj\nN9jHt48/QZvPw/b8HZx728m//OwYV5u62bgkj6/8yWbee1sl5gSKrU1neVlpLCl3cqGug5b2+EXY\nbinaSKbZwd6Gg/QEeqe4hdOXBPQ5Rq2NpvkNt+S/saeZSx1XWexcSH769FlZeGf5bZj0Jl6sfo1g\n+NpG0asro8Mus71Ylz/Uz2MnfkhjbzOF2lJ2P2fj2AU3lcWZ/P0H1/HJ+5eTm5WW6mYmTSK99DvK\ndxIIB9hdJ730GAnoc0goHGHfySZsFiPL52fHPeZaqmLya55PRKbFwa0lW+no72T/kL1HVw1UXzw+\ni4ddguEg3z/5Y6q7aqG9mCtvlZKdYeVPf2c5f/dHa1lQlJnqJibdukUu0ixGDpxuIhyJv+HJtqLN\nOMx29tYfoCcovXSQgD6nVF1so6s3wC0rCuPWQPeF/BxpPhqt25IzNXVbxuLOsp1YDGZeqnmNQDi6\nPDw3M43SPDvnatrpnIXFukLhEP9++EkudFwi3J4Hdav4/V0LefRjm1m/OC+lGUiTyWwysHlZPp09\nAU5dublgF4DZYOLOsp30hwO8PlDeea6TgD6H7KmK7s24c038ErhHmo/RHw6wrXgTBv30G4e1m9O5\nrWQb3YGewW8SABsW5xEKa3z+e4f4+WuX6OyZHduVXWro4PMv/IBa/yUiXTlsy3onX/3kLdy9sQyT\ncfa/dXfEctLjFOyK2V68GYfJzp66A/QFZdOT6V3gQSRNk6eXczVeFpdlUZhzc/55rG6LIQV1W8bi\n9rId7G04yCs1e9hWtAmr0co7NpVhMRl44XANLx6pZfexenasKuKeTWXTslxsjKZpdPcFcXf4cHf6\ncHf4cXf4aOvw0drhozurCmNBLdZQLp+75U8oczlT3eQpVV7goCzPzsnLHjp7+sm0W246xmwwc0f5\nrfz60nO8Vref++bflYKWTh/jDuiKolQBseLEV4HvA/8BhICXVVX98sSbJ5Jl7/FoL2fnmuK491/s\nuEJzbwvr81dP2hZzyWAz2dhVup3nrr7CnvqD0ZRGg547N5Syc00x+0818fyhGnYfrWdPVQPbVhZy\nz+Zy8lI0YRgMhXF3+Gnt8A0Ea/9gAG/r8NN/4273+hCG7BYspU0Y09vIMbv42+2fJt1kS0n7U23H\n6iL+6+ULPPnCef7sPSvjrnzdXryFV2r2sKd+P7tKt2MzzZ7J4bEaV0BXFMUKoKrqziG3HQfeA1wB\nnlMUZa2qqsfin0FMpUAwzIFTTWSkm1m7yBX3mNgQxvbi6TUZGs9tpdvZU3eA3bV7ubVkC2nG6BvY\nZNRz25pitq8s5NCZZp47VMPe443sO9HElmX5vHNLedxvJxPlD4Ro9fpo9UaDdovXR6u3j9YOH96u\nfuIVJrCaDeQ503BlpZGdaSKS3korl6jxXSKkhdCAhVnz+ciyB+dsMAe4dXURVRfbOHnZwy/3XOZ9\nuypvOsZiMHNH2a385vLzvF6/n3sHdr2ai8bbQ18F2BRFeXngHI8AFlVVLwMoivIScDswYkB3Om0Y\njeMfq3W5pm9Pcjo539BFrz/Ee29fSGHBzRkR7b4OTrpPU55ZzObKFTNgos3B/Uvv4qmTv+FNzxHe\nt/y+m454oCCT+3cuZN+JRn7+6gUOnG7m4Jlmtq0q5n13LKLihk2SR3ot9fmDtHf5o386/bS099HY\n1kuzp5emtl683fHH7HMzrSxfkEthbjoFOTYKstPJz7FRkJOOPc3IBc9V9tcc4VDdUbr7olkaRY58\ntpVvZFv5Bgrs8T98UykV77mHPrqZv/qPN3jxSC3KvGzu2HhzwbEHsu5kd/0b7K3fz/tW34PNnLpe\neirj0ngDeh/wb8ATwELgBWBoHdNuYP5oJ/F6xz+J4XI5cLulhOZoXC4Hz7xxGR2wYWFu3Gv23NXX\nCGsRthRsoq1tZiylXpe1jt+aXuHZ87vZmL1h2F7sstJMvvTh9VRdcPPMwWr2HW9g3/EG1izM5Z1b\nyrFbTWA0UF3fQUdP/8CfAB3d/XT0Bujo6Y9bUwRAp4sG7WUVTvKcNvKcaQN/bLgyrXEX+DT3tvLL\nU6/yVstxPP5o9obDbOe20m1syF9DmaMk+oHqA7dver2+U/me+8zvLufRn7zNt39xgjSjnkWlWTcd\ns6t4O/935QV+efxF7pl3RwpaOXXXaLgPjfEG9AvAJVVVNeCCoiidwNDEZgfXB3iRIlcaOrnc2MXK\nBTlxF56EI2EONBzGarCyIT+1dVvGwmq0cFf5bfzq0rO8WruX+xfcM+yxep2OdUoeaxe5OHnZwzMH\nq6m62EbVKBtNZ9hM5GelkWm3kGU3kzXwd05mGvnONHIyrRgNI2ebaJqGx+/lpPs0R1qqqOuOZhpZ\nDGY2FqxlY/5aFjkXTMusoukkP9vGn/7Ocv795yf49q9O8cUPrcd1w+t5R8kWXq3dy2t1+9hZuo00\n4/SdEJ8s4w3ofwysAP5UUZQiwAb0KoqygOgY+t2ATIpOAy8cqgaGnww90XaGzkAXt5bcgtV4cxbB\ndLa9eAu7a/eyp/4Au0q3j7oJh06nY1VlLisX5HCuxsv+k00YDXqK8h2Y9ZBlt5BpN+O0W8hIN48a\nrOOJaBEaepq43FHN5c6rXOmsGdzYWK/TszxnMRsK1rIydynmaVAnZyZZUpHNg3cu4qcvqXzzlyf5\nwgfWXVdgzmq0sqtsB89ceZG99Qd4R8XtKWxtaow3oP8n8CNFUfYDGtEAHwF+BhiIZrkcHuHxYgr4\n+kPsOVpHToaFlfNz4h6zr35gZeg0qdsyFmaDibsrbufnF37DKzV7eGDhzWPp8eh0OpZWZLO0Ivql\nciJfk/vDAao7a7nceZXLHdVUd9XiD18bU3eY7ax2LUdxVqZk56fZ5rY1xTS29bL7aD3f/+2ZmzJf\nbi3Zyu7avbxWu4+dJbdgnWO99HEFdFVVA8CDce6aeVFhFnvzTDP+QJh7NpfHTfdq6m3hQsdlFjkr\nKUifmeVWtxZt5JWaPbzRcBC9To+SXcmCzHmYDaZJeb7O/i6udNYMBvD6nsbrdlPKt+WxNrOC+VkV\nLMiswJWWMwMmmWeW999eSXN7X9zMlzSjlV2lO3j26kv89spLvHfhu+fU9ZeFRbOUpmm8XtWAQa9j\nx0Choxvti9VtmQGpisMx6Y383sJ38eSZp3ildg+v1O7BqDMwL7McxbkQJbuSckfJuMao/aF+6rrr\nqe6qo7qrjpquOrz916aGDDoD5Y5SFgwE7/mZFdjNyU+LFNcz6PV86v5lPPqTo7x4pJbCXBvbV15b\n/byz9BbeajnG3voD6NHxnoXvmjNBXQL6LHW5oYt6dy+3rCqKu8LOH/JzuOkomeYMVuYuTUELk2d1\n3gq+mv0IlzuvorZfQvVe4mLHFS52XOHZqy9hNViozJqPkl3JYudCCtPzb3qDR7QITb0tVHfVUt1Z\nR013HY09zWhDssgdJjsrcpcwL6OcBVnzKHOUTNo3ATEym9XE535vJY/+5G1+8qJKvtM2mPmSZrTy\nuTWf5FvHf8Dr9fsJRIK8X/ld9LrZXy5BAvos9fpA3ZZ7tlTEvf+tlir84X5uL9sxKzIsrEYLy3IW\nsyxnMQA9gV4udFxGbb+I6r3Eac85TnvOAdHAvMi5gPlZFXj9HTScauRye81gwS8As97E/MwKKjJK\nqcgso9xRSrY1a8709GaCkTJfMi0O/nzNJ/n28cc50HiYUCTEHy7+vVnxWh+JBPRZqMcX5K3zreRn\n21hZmXtTbrmmabxRfwi9Ts8tRZtS1MrJZTenszZvJWvzVgLQ7vcO9t5V7yWOtp7gaOsJAHToKEzP\npyKjlPKMUioyyihMz5/1b/7ZYElFNn945yJ+EifzxW5O58/WfILvnPhPDjcfJRgJ8uGlfzCrf68S\n0Geh/SebCIUj3La6KG6P8nJnNY29zazNW0mmJSPOGWafbKuTLUUb2FK0AU3TaO5rpbqrjhyrk7Xz\nFtPTERz9JGJa2rmmmIZhMl9spjQ+u/pjfPfkkxxrPUkoEuaPl/8hJv3sDH2zf1BpjoloGnuPN2Ay\n6tm6Iv5k6Bv10S3mdhRvncqmTRs6XbRHvqVwPYucC0gzza3Uttno/bdXsmxeNicve/jFnkvX3Wc1\nWvn0qo+y2LmQk21n+P7JH103vDabSECfZc7VeGnx+ti4OA972s0Tdp393VS5T1GYnk9l1rwUtFCI\n5ItlvhRk23jpSB37Tl5fQ91sMPPJlR9mec5izrVf4LETP8Qfmh1184eSgD7LXNvEIv7K0GevvERE\ni7CjeKtM8IlZJZb5km418pMXVaouuK+732Qw8ScrPshq1woudlzh28efwBfypai1k0MC+izi7e6n\n6kIbpXl25hfdPDZ+rPUkB5uOUGIvYkvRhhS0UIjJlZ9t409/dwUA3/rVKb719EnaOq8FbaPeyB8v\ne5D1+au52lXDN6t+MKv2I5WAPovsO9lIRNO4bU3xTb1vj8/LU+efxqw38ZFlD87aSSEhlpQ7+dKH\nN7CoJJOqi2089PhhnjtUTSgcXdFr0Bv40NL3s7VwA7XdDfzHse/THZgZVUZHIwF9lghHIuw93ojF\nbGDT0vwb7gvzo7P/jS/k472L7qcgPS9FrRRiapTk2fnbP1zLx+5bgtVs4Om9V3j4P49wpjpasliv\n0/MHi9/DjuKtNPY28/Vj3xssojaTSUCfJU5e9uDt7mfrsoLrKtABvFi9myud1azJW8mWQhlqEXOD\nTqdj6/JCvvLxzdy+toQWbx9f+5/jfPc3p/F296PX6Xnfovu5vWwHLX2tfP3Y9/D4vKlu9oRIQJ8l\n9lTF3zP0nPsiL1TvxmnJ4kHlPTIRKuYcm9XEH961iIc/tIEFRRm8db6VLzz+Ji8eriUc0fjdBfdy\nT8XttPk8/NORr/HMlZfoC45/851UkoA+C7g7fJy+4qGyOJPSvGvlWfuCfXzzzScB+MiyB+f05rlC\nlBc4+LsPrOPD9yzGZNDz89cv8eUn3+JCXQf3zb+bB5X3YNabebF6N188+C88d+Vl+oIzKwtGZsZm\ngb3HG9GAnWuuVZzTNI2fnX8aT5+Xe+fdyYKsipS1T4jpQq/TsWNVEWsXufjV3svsPd7IV5+qYvOy\nfH7/ttWs37qGfQ2HeKVmD89Xv8rr9Qe4vXQHO0tvmRE7IElAn+FC4Qj7TjaSbjWyYfG1yc4DjYc5\n7j7FEtfCOblzixAjsaeZ+OA7FrNtZRE/fVnlzTMtnLjUxjs3l7Nj1Ra2FW3mjYaDvFqzl2evvsTr\ndfu4vWzHtN/ZS6dp2uhHTRK3u3vcTy6bREcdPtvC9397hrs3lvL7uxYC0Y0rvvrWNzHpjfzbPQ+h\n9UqJ15HIaykxs/U6RSIae0808qu9l+n1hzAa9GxckseutSUUuszsbTjI7tq99IV82E3p3FF2KztK\ntmKJs4XgFG4SHXcyTHroM9zgytDV0cnQYDjID0//bKCy3PvJtWXj7p19b0IhkkWv13HbmmI2Lcnj\nwKlmXqtq4ODpZg6ebqa8wMGutYt5aMMmDjQf5LW6ffzm8vPsrn2DO8t3sr1487TaG1YC+gzW2NaL\nWtfB0gon+dk2AH59+Xkae5vZVrSJ1XkrUtxCIWYOm9XEnRtKuX19Ceeqvbx2rJ7jl9p48vnzpFuN\nbFtZwWdXrOVU91Fer9vHry49y6u1e7m9bAfr8lbhtGal+r8gAX2m6g+G+cXr0apysd75qbaz7K0/\nQEF6Pu9Z+K5UNk+IGUuv07FsXjbL5mXj6fSz53gDb5xo5KUjdbx0pI7l8/N478qP02o8w56G/fz6\n0nP8+tJzlDlKuKViHQttC8lP0eI9CegzUIu3j+/86hT17l4WlmSyemEuHf2d/PTczwdrVUynr4FC\nzFQ5mVbec+sC3n3LPI6qrbx2rIHTV9o5faWd3MwMdqz+AOkFbs53nONCx2X++1Q9AAXp+ax2LWe1\nazkl9vj7EkwGmRSdYaouunni2XP4+kPsWlvM+29fiF4P3zr+BBe8l3jvovvZWXLL4PFz9TqNhVyj\nxMh1iqpt6ea1Yw28ebaZQDCCXqdjUWkmyyodZJf3cLLlJOfaVYKREBDdXGW1azmrXMuZn1melL1N\nh5sUlYA+Q0QiGr/ed4XnDtVgNur50DsWs2V5AQAvV7/O/115gRW5S/jEig9f1xuYa9dpPOQaJUau\n0/X6/EEOnGrm8LkWrjR2Dd5emmdnZWUmjoJOGoKXON12Hn/YD4DDbGdV7jLW5a9mkXPBuJ9bslxm\nsK6+AD/47RnOVnvJy0rj0w+sGFwRerWzlmeuvkSmOYM/Wvw+WdovxBSJTaLeuaEUb3c/Jy61cabG\ny4mLbupao9UbczLKWb1wDbnFPXio5pTnLPsbD7O/8TBf2Pj/UWyPv6vYeElAn+auNHbx2G9O0d7V\nz+rKXD523xJs1mheuS/k58kzT6FpGh9a+n7s5vQUt1aIucnpsLBzTTHvvWsxtfVeTl9tp+qimxOX\nPLx+tAmOgs2Sz4rKxRSVBbBn9VOYnj/6icdIAvo0pWkae4438t+vXiAc0XjPrfO5Z3M5ep0Or7+D\nI83HONT0Fh5/O3eV34aSXZnqJgshgDRLdNX2hsV5hMIRLtR1UHWxjaqLbg6fccMZSLMYWPGRfnKz\nkltfaUYGdE3TCIZn7y7t/cEw//WSyoHTzdjTTHzi3ctYWObgWOsJ3mx6m/PtF9HQMOmN3FK0kfvm\n3ZXqJgsh4jAa9CytyGZpRTYP3rGQ2pYeqi66aW7vI82a/PA7IwP6E6d/ysm2sxTY8ih1FA/+KbEX\nYp0BBXRG0urt4zu/Pk1daw8VhXbefaeTk917ePLAcXyh6MTKvIwyNheuZ23eKqmgKMQModPpKC9w\nUF7gmLTnmJEB3VPrJBTKpDHsprG3mcPNRwfvy7bkUJ5RQnnGtUCfbrKlsLWJO36pjcefOYsv0sOi\ntT0EMo7x+PlWADLNDraVbWZz4XrZcUgIEdeMDOjby9ZjPFtKfW033WEv+vQudLYu9OldeGydtPd7\nqHKfGDw+Tecg31pAUXoBmVY7GRY7WWl2Mq127KZ00k02LAbLlGWIBIJhvN39tHf5aR/4u769k6ON\nZzFVNGDLbKMODaPPwNq8lWwuXM9i50IMesOUtE8IMTMlNaAriqIHHgNWAf3Ax1RVvZTM5wC4ZUUh\nv7NrEW53N/5AiFavj1avjxZvHy3ePpra23AHWujTe9DbuuhL76Jau0i17+LwJ9V06CNmDBELRiyY\nsGLWW7Ho0zDrzZj1Jsx6MyaDGYvBjMVoxmo0YzVYsJospBkt2EwWbGYrJqORjp4+mro6aO3uwNPX\nRYevm+5AD32hPoI6H6DDsoUAAApCSURBVDpjAJ0pAAN/69LDWKLFEil1lLClcD3r8lfPmG8XQojU\nS3YP/XcAq6qqWxRF2Qx8Dbg/yc9xHavZSFm+g7L8m8el+oNh3F4fze191HrdNPW04gv78If76I/4\n6df8hPATop+Ivp+wPkDY6CNg6OK6zroGhAf+JDAXq0V06PRD1kwZgGsbCQ1edB16rHobNmMOGWY7\n87JK2FK0niJ7wZivgxBCJDugbwNeBFBV9U1FUdYn+fxjYjEZKMmzU5JnZz15wLJRHxOJaPgCQbx9\nPXT4uuns78Uf7Mcf6scfDtAfGvgTCRAIBwhGAgQiQYKRICEtQEgLESaICTN2UzqZVgfONAcuexY5\ntgwyLNFhHofZjtVglYVAQoikSXZAzwA6h/w7rCiKUVXVULyDnU4bRuP4x4VdrsmbLa4gZ9LOPdUm\n8zrNFnKNEiPXaXSpvEbJDuhdwND/jX64YA7g9Y5/Z22pK5EYuU6jk2uUGLlOo5vCHYvi3j7xsl/X\nOwC8E2BgDP1Uks8vhBBiGMnuof8auFNRlIOADvhIks8vhBBiGEkN6KqqRoBPJvOcQgghEpPsIRch\nhBApIgFdCCFmCQnoQggxS0hAF0KIWSKle4oKIYRIHumhCyHELCEBXQghZgkJ6EIIMUtIQBdCiFlC\nAroQQswSEtCFEGKWkIAuhBCzxJRuEh1vz1EgF/gPIAS8rKrql294TC7wFJAGNAIfUVW1T1GUPwE+\nMfC4R1VVffaGx22+8bxTtefpRAxzjVYC/wrUDRz2JVVV9w55TAHwM8AMNAEfHrhG7wE+T3QTvR+o\nqvrEDc9VBvyQ6OtAB3xcVVVVUZR3AQ8TvXY/VFX18cn6/06UoiibgK+qqrpzyG1fB1RVVb93w7Fx\nf/+KolQC3yN6/fqB96uq6onzXIuBw0C+qqr+eK+xyfg/TtTQa6QoSh7wOOAkujniB1VVvRznMXnA\nUeBOVVXPD1yjHxF9LZ0GPj1QjC92fBrwX0Ae0A18SFVV90x4LSmKYiL6PqgALMCjQC3wLaIbT/YT\nvU4tcR573etPUZSlwA+Ivp9OAJ9VVTU80nOpqvrb0a5voqa6hz645yjRQPM1om+kB4luX7dJUZS1\nNzzmYeApVVW3A1XAJwYC2J8BtwB3A/+sKIrlhsfFO2+8559u4rVxLfA3qqruHPiz94bHfB748cA1\nOkv0GhmAfwHuALYAfz3w4TjUPwLfHngxfoXodTT9/+2da4xdVRXHf9DyCClUahCCoCZa/mLUFEgI\nEVvKI/UtSflggqUaXoKCCTSxSW15GD8QH6CND5TGliJ+EUdASUNDoLQ1pkIiIob8DY+UBKQ8tVOs\ndIr6Ye07PT33XHoHpjP33lm/LzNnn7P2Y92119l7nXP2Bm4CFgBnAJcWffcckr4BrAIOLcdHSVoH\nfL6DSKff/+fActvzCLs5oaGsI8r1r1eS92W7k05dR8B3gNtLW5cDH2yQOQj4GbCzknwjoaO5hLOq\n7xV8OfDXcn4tsLyPbGkR8HKp+6eAHxE36itL3xgCltaFGnQL0Y+W2T4dOIx2W2wqC/at366YaIe+\n156jwDzgENtP2v4fcC9wtqRZkobqMsA6wkGdCvzB9uu2/wU8AXxU0lmSrimdry3fhvIndc/TDjTV\n8RTgQkmbJH1f0vSajq4CfllGoMcD28qo4MSin3cSRrKjJrcEuKf8Px34D3Ai8ITtV23vAjYDc/d3\no98iTwILK8czgOuA26oXSVpbZiNtui0jy3cBn5O0ATgN+FORWy/pYEkHEE5/GfDvcq6TjfUadR2d\nDhwn6T7gi8AG2EtHAN8jblbPVeROAVoDiVY/HNURzf20X2zp18CKyvFuYpb2SDlu9Y26nuq6BTjP\n9saik2OAbTW5prKgg37HykQ79PqeozMpHaQwDMy0/YrthQ0yw0Wmnk9L7n7b3yrnt9fPN8i9IWlC\nw05d0FZH4AHgSuIGOAO4rKqj4lCmEVO1M4mdo7C9W9JCYuq3ERipyb1ke0SSiE58fUP5Ld31HLZ/\nA4xUjp+2vaXhusW2n6FZt63dw+8jdDcL+FKRW1Ac0bXAPbb/UpHtZGM9RV1HxFT/VdvnEGGFpeW6\nxbafkfRl4EXb99ayOqDYGVTaWtFR1/10nJo2btjeYXtY0uHAHcRI+R8Akj4GXEHMNKq21KRbbL8h\n6b3A34hwsqtyTWUV0Ub9jpWJduj1PUf/ScTGWxxe0jrJtM7X86nLdTo/pj1PJ4m2OhLx76fKD34X\ncFJdyPaI7Q8BlxJT3lb6EPBuIj68uC4n6UzgTuAC224ov+k36VeadPsCMGz7gaLf39M+c1sEXFRG\n8McA6xvy6hc9vQzcXf7/He1tvZDYdWwDMAdYW8Ik1XjuePXTnkHS8cTA6TbbvyppXyBmKp+x/WK3\nedneant2kb2xm7LYt367YqIden3P0S3ALknvL9PaTwCbOskQMadNxJR4rqRDJc0kpnaPtQRsb++Q\nbz/sedpUx0clHVfOn008rBpF0k+KY4a4u/9X0hGSHpR0SHm48hp7G03Lmf8Q+KTth0vy48DsEpo5\nmJgV/HHcWzk5tOnW9k7g75JaoYB5xOhqFNsfaD2/AJ4HFryJjfU6m9nTn5raOs/2GaWtjxAPA58H\n/ixpfrms1Q+rNPXTvrAlSUcTN+mltn9R0hYRI/P5tp8aQ153S5pdDodp73NtZRX2pd+umOhwQ9Oe\no+8g3tCYRrwpsEXSLGBVCQ18G7i1vNXyEnC+7dckrSQafSDwzfLWwVnAx0vY5bKGfB9qKL/XaNLR\ne4AhSTuJh5631HS0ErhZ0jWEAX3V9nZJtwMbJY0AjxJx9qrcD4iR+60RdcG2vyLpaiImfCDxZsKz\nE9f88UfSWmJq22nP24uAH5fw29OUMISk9cBnS0ihiTYb23+tGDeWAKskXU6EQ86HPTpqhRM6yN1S\nHPPjRLhgVEfATwk72gzsIvrpSJ/Y0jLirZ8VklYQv+eHga1EvwN40Pa1XejpBmCNpF1EOPli2MsG\nl9TKgnDgjfodK7l8bpIkyYCQHxYlSZIMCOnQkyRJBoR06EmSJANCOvQkSZIBIR16kiTJgNBrX0km\nyX6lfLewBvga8frmp99cIkn6h3ToyVTjSOAk28+x50OYJBkI0qEnU42VwLGSfks49vdJWkN8SXsy\n8aHbMuACYpndO20vUaxe+V1gPvHhyRrbN01C/ZOkIxlDT6YaXydWEbyqln5sWVb3BmA18RXoHOCS\nEqa5BMD2ycRqn+dWlgtIkp4gR+hJEqwrf7cCj9l+AUDSK0SY5hxgTlleAmLVy4/QH+u3JFOEdOhJ\nElTXa2lagXMascnIEIzupLVjIiqWJN2SIZdkqrGbtzaQuZ8IvxwkaQaxauFp41qzJHmb5Ag9mWps\nIzZ2WD1GuZuB2cQ2iNOB1bY3jG/VkuTtkastJkmSDAgZckmSJBkQ0qEnSZIMCOnQkyRJBoR06EmS\nJANCOvQkSZIBIR16kiTJgJAOPUmSZED4P32XoM9B4dc/AAAAAElFTkSuQmCC\n",
      "text/plain": [
       "<matplotlib.figure.Figure at 0x2840b032588>"
      ]
     },
     "metadata": {},
     "output_type": "display_data"
    }
   ],
   "source": [
    "# Plot average hourly bicycle counts\n",
    "by_time = data.groupby(data.index.time).mean()\n",
    "by_time[['West','East']].plot()  # West bridge has way more bicycles early, east bridge has way more bicycles late.\n",
    "                                 # Says something about where most of the population in Seattle lives. West is used going towards downtown Seattle"
   ]
  },
  {
   "cell_type": "code",
   "execution_count": 236,
   "metadata": {},
   "outputs": [
    {
     "data": {
      "text/plain": [
       "<matplotlib.axes._subplots.AxesSubplot at 0x2840b226f60>"
      ]
     },
     "execution_count": 236,
     "metadata": {},
     "output_type": "execute_result"
    },
    {
     "data": {
      "image/png": "iVBORw0KGgoAAAANSUhEUgAAAW8AAAEFCAYAAAAsU2YoAAAABHNCSVQICAgIfAhkiAAAAAlwSFlz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\nYII=\n",
      "text/plain": [
       "<matplotlib.figure.Figure at 0x2840b2266d8>"
      ]
     },
     "metadata": {},
     "output_type": "display_data"
    }
   ],
   "source": [
    "# Plot average weekly bicycle counts\n",
    "data[['West', 'East']].groupby(data.index.dayofweek).mean().plot()  # Way less people on weekend --> mostly commuter traffic"
   ]
  },
  {
   "cell_type": "code",
   "execution_count": 252,
   "metadata": {},
   "outputs": [
    {
     "data": {
      "text/plain": [
       "array([    0, 14400, 28800, 43200, 57600, 72000])"
      ]
     },
     "execution_count": 252,
     "metadata": {},
     "output_type": "execute_result"
    }
   ],
   "source": [
    "hourly_ticks = 4 * 60 * 60 * np.arange(6)\n",
    "hourly_ticks"
   ]
  },
  {
   "cell_type": "code",
   "execution_count": 256,
   "metadata": {},
   "outputs": [
    {
     "data": {
      "text/plain": [
       "<matplotlib.axes._subplots.AxesSubplot at 0x284108275c0>"
      ]
     },
     "execution_count": 256,
     "metadata": {},
     "output_type": "execute_result"
    },
    {
     "data": {
      "image/png": "iVBORw0KGgoAAAANSUhEUgAAAzMAAAFKCAYAAAApGQGWAAAABHNCSVQICAgIfAhkiAAAAAlwSFlz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\n",
      "text/plain": [
       "<matplotlib.figure.Figure at 0x2840b69bb70>"
      ]
     },
     "metadata": {},
     "output_type": "display_data"
    }
   ],
   "source": [
    "# Plot traffic on weekdays next to traffic on weekends\n",
    "weekend = np.where(data.index.weekday < 5, 'Weekday', 'Weekend')\n",
    "by_weekend = data[['West', 'East']].groupby([weekend, data.index.time]).mean()\n",
    "\n",
    "fig, ax = plt.subplots(1, 2, figsize=(14, 5))\n",
    "by_weekend.loc['Weekday'].plot(ax=ax[0], title='Weekdays', xticks=hourly_ticks)\n",
    "by_weekend.loc['Weekend'].plot(ax=ax[1], title='Weekends', xticks=hourly_ticks)"
   ]
  },
  {
   "cell_type": "code",
   "execution_count": 257,
   "metadata": {},
   "outputs": [],
   "source": [
    "import time"
   ]
  },
  {
   "cell_type": "code",
   "execution_count": 262,
   "metadata": {},
   "outputs": [],
   "source": [
    "def pr(n):\n",
    "    for i in range(n):\n",
    "        print(i)\n",
    "        time.sleep(.5)"
   ]
  },
  {
   "cell_type": "code",
   "execution_count": 264,
   "metadata": {},
   "outputs": [
    {
     "data": {
      "application/json": {
       "cell": {
        "!": "OSMagics",
        "HTML": "Other",
        "SVG": "Other",
        "bash": "Other",
        "capture": "ExecutionMagics",
        "cmd": "Other",
        "debug": "ExecutionMagics",
        "file": "Other",
        "html": "DisplayMagics",
        "javascript": "DisplayMagics",
        "js": "DisplayMagics",
        "latex": "DisplayMagics",
        "markdown": "DisplayMagics",
        "perl": "Other",
        "prun": "ExecutionMagics",
        "pypy": "Other",
        "python": "Other",
        "python2": "Other",
        "python3": "Other",
        "ruby": "Other",
        "script": "ScriptMagics",
        "sh": "Other",
        "svg": "DisplayMagics",
        "sx": "OSMagics",
        "system": "OSMagics",
        "time": "ExecutionMagics",
        "timeit": "ExecutionMagics",
        "writefile": "OSMagics"
       },
       "line": {
        "alias": "OSMagics",
        "alias_magic": "BasicMagics",
        "autocall": "AutoMagics",
        "automagic": "AutoMagics",
        "autosave": "KernelMagics",
        "bookmark": "OSMagics",
        "cd": "OSMagics",
        "clear": "KernelMagics",
        "cls": "KernelMagics",
        "colors": "BasicMagics",
        "config": "ConfigMagics",
        "connect_info": "KernelMagics",
        "copy": "Other",
        "ddir": "Other",
        "debug": "ExecutionMagics",
        "dhist": "OSMagics",
        "dirs": "OSMagics",
        "doctest_mode": "BasicMagics",
        "echo": "Other",
        "ed": "Other",
        "edit": "KernelMagics",
        "env": "OSMagics",
        "gui": "BasicMagics",
        "hist": "Other",
        "history": "HistoryMagics",
        "killbgscripts": "ScriptMagics",
        "ldir": "Other",
        "less": "KernelMagics",
        "load": "CodeMagics",
        "load_ext": "ExtensionMagics",
        "loadpy": "CodeMagics",
        "logoff": "LoggingMagics",
        "logon": "LoggingMagics",
        "logstart": "LoggingMagics",
        "logstate": "LoggingMagics",
        "logstop": "LoggingMagics",
        "ls": "Other",
        "lsmagic": "BasicMagics",
        "macro": "ExecutionMagics",
        "magic": "BasicMagics",
        "matplotlib": "PylabMagics",
        "mkdir": "Other",
        "more": "KernelMagics",
        "notebook": "BasicMagics",
        "page": "BasicMagics",
        "pastebin": "CodeMagics",
        "pdb": "ExecutionMagics",
        "pdef": "NamespaceMagics",
        "pdoc": "NamespaceMagics",
        "pfile": "NamespaceMagics",
        "pinfo": "NamespaceMagics",
        "pinfo2": "NamespaceMagics",
        "pip": "BasicMagics",
        "popd": "OSMagics",
        "pprint": "BasicMagics",
        "precision": "BasicMagics",
        "profile": "BasicMagics",
        "prun": "ExecutionMagics",
        "psearch": "NamespaceMagics",
        "psource": "NamespaceMagics",
        "pushd": "OSMagics",
        "pwd": "OSMagics",
        "pycat": "OSMagics",
        "pylab": "PylabMagics",
        "qtconsole": "KernelMagics",
        "quickref": "BasicMagics",
        "recall": "HistoryMagics",
        "rehashx": "OSMagics",
        "reload_ext": "ExtensionMagics",
        "ren": "Other",
        "rep": "Other",
        "rerun": "HistoryMagics",
        "reset": "NamespaceMagics",
        "reset_selective": "NamespaceMagics",
        "rmdir": "Other",
        "run": "ExecutionMagics",
        "save": "CodeMagics",
        "sc": "OSMagics",
        "set_env": "OSMagics",
        "store": "StoreMagics",
        "sx": "OSMagics",
        "system": "OSMagics",
        "tb": "ExecutionMagics",
        "time": "ExecutionMagics",
        "timeit": "ExecutionMagics",
        "unalias": "OSMagics",
        "unload_ext": "ExtensionMagics",
        "who": "NamespaceMagics",
        "who_ls": "NamespaceMagics",
        "whos": "NamespaceMagics",
        "xdel": "NamespaceMagics",
        "xmode": "BasicMagics"
       }
      },
      "text/plain": [
       "Available line magics:\n",
       "%alias  %alias_magic  %autocall  %automagic  %autosave  %bookmark  %cd  %clear  %cls  %colors  %config  %connect_info  %copy  %ddir  %debug  %dhist  %dirs  %doctest_mode  %echo  %ed  %edit  %env  %gui  %hist  %history  %killbgscripts  %ldir  %less  %load  %load_ext  %loadpy  %logoff  %logon  %logstart  %logstate  %logstop  %ls  %lsmagic  %macro  %magic  %matplotlib  %mkdir  %more  %notebook  %page  %pastebin  %pdb  %pdef  %pdoc  %pfile  %pinfo  %pinfo2  %popd  %pprint  %precision  %profile  %prun  %psearch  %psource  %pushd  %pwd  %pycat  %pylab  %qtconsole  %quickref  %recall  %rehashx  %reload_ext  %ren  %rep  %rerun  %reset  %reset_selective  %rmdir  %run  %save  %sc  %set_env  %store  %sx  %system  %tb  %time  %timeit  %unalias  %unload_ext  %who  %who_ls  %whos  %xdel  %xmode\n",
       "\n",
       "Available cell magics:\n",
       "%%!  %%HTML  %%SVG  %%bash  %%capture  %%cmd  %%debug  %%file  %%html  %%javascript  %%js  %%latex  %%markdown  %%perl  %%prun  %%pypy  %%python  %%python2  %%python3  %%ruby  %%script  %%sh  %%svg  %%sx  %%system  %%time  %%timeit  %%writefile\n",
       "\n",
       "Automagic is ON, % prefix IS NOT needed for line magics."
      ]
     },
     "execution_count": 264,
     "metadata": {},
     "output_type": "execute_result"
    }
   ],
   "source": [
    "%lsmagic"
   ]
=======
=======
>>>>>>> e70aabfc5f7c1034a47bd8890afa68afb59d1c3e
   "cell_type": "code",
   "execution_count": null,
   "metadata": {},
   "outputs": [],
   "source": []
<<<<<<< HEAD
>>>>>>> refs/remotes/origin/master
=======
>>>>>>> e70aabfc5f7c1034a47bd8890afa68afb59d1c3e
  }
 ],
 "metadata": {
  "kernelspec": {
   "display_name": "Python 3",
   "language": "python",
   "name": "python3"
  },
  "language_info": {
   "codemirror_mode": {
    "name": "ipython",
    "version": 3
   },
   "file_extension": ".py",
   "mimetype": "text/x-python",
   "name": "python",
   "nbconvert_exporter": "python",
   "pygments_lexer": "ipython3",
   "version": "3.6.6"
  }
 },
 "nbformat": 4,
 "nbformat_minor": 2
}
