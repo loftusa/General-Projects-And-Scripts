{
 "cells": [
  {
   "cell_type": "markdown",
   "metadata": {},
   "source": [
    "# Intro to Data Structures"
   ]
  },
  {
   "cell_type": "code",
   "execution_count": 1,
   "metadata": {},
   "outputs": [
    {
     "data": {
      "text/plain": [
       "\"\\nJupyter notebook for learning Pandas methodically through the documentation. This one is from 'Intro to Data Structues'.\\n\""
      ]
     },
     "execution_count": 1,
     "metadata": {},
     "output_type": "execute_result"
    }
   ],
   "source": [
    "'''\n",
    "Jupyter notebook for learning Pandas methodically through the documentation. This one is from 'Intro to Data Structues'.\n",
    "'''"
   ]
  },
  {
   "cell_type": "code",
   "execution_count": 2,
   "metadata": {
    "collapsed": true
   },
   "outputs": [],
   "source": [
    "# http://pandas.pydata.org/pandas-docs/stable/dsintro.html\n",
    "# https://medium.com/dunder-data/how-to-learn-pandas-108905ab4955\n",
    "\n",
    "from ipywidgets import widgets\n",
    "from IPython.display import display\n",
    "import numpy as np\n",
    "import matplotlib.pyplot as plt\n",
    "import pandas as pd\n",
    "%matplotlib inline\n",
    "from IPython.core.interactiveshell import InteractiveShell\n",
    "InteractiveShell.ast_node_interactivity = \"all\""
   ]
  },
  {
   "cell_type": "markdown",
   "metadata": {},
   "source": [
    "## Messing around with widgets"
   ]
  },
  {
   "cell_type": "code",
   "execution_count": 3,
   "metadata": {},
   "outputs": [
    {
     "data": {
      "text/plain": [
       "'\\nMake a text box\\n'"
      ]
     },
     "execution_count": 3,
     "metadata": {},
     "output_type": "execute_result"
    },
    {
     "data": {
      "application/vnd.jupyter.widget-view+json": {
       "model_id": "f4262505d96e4f9bb7dadae874de4c28",
       "version_major": 2,
       "version_minor": 0
      },
      "text/plain": [
       "A Jupyter Widget"
      ]
     },
     "metadata": {},
     "output_type": "display_data"
    }
   ],
   "source": [
    "'''\n",
    "Make a text box\n",
    "'''\n",
    "\n",
    "text = widgets.Play()\n",
    "display(text)\n",
    "\n",
    "def handle_submit(sender):\n",
    "    print(text.value)"
   ]
  },
  {
   "cell_type": "markdown",
   "metadata": {},
   "source": [
    "## Matplotlib "
   ]
  },
  {
   "cell_type": "code",
   "execution_count": 4,
   "metadata": {},
   "outputs": [
    {
     "data": {
      "text/plain": [
       "<matplotlib.collections.PathCollection at 0x1f41cfd04a8>"
      ]
     },
     "execution_count": 4,
     "metadata": {},
     "output_type": "execute_result"
    },
    {
     "data": {
      "image/png": "[encoded data removed]",
      "text/plain": [
       "<matplotlib.figure.Figure at 0x1f41ce51f60>"
      ]
     },
     "metadata": {},
     "output_type": "display_data"
    }
   ],
   "source": [
    "N = 50\n",
    "x = np.random.rand(N)\n",
    "y = np.random.rand(N)\n",
    "colors = np.random.rand(N)\n",
    "area = np.pi * (15 * np.random.rand(N))**2\n",
    "\n",
    "plt.scatter(x, y, s=area, c=colors, alpha=0.5)\n",
    "plt.show()"
   ]
  },
  {
   "cell_type": "markdown",
   "metadata": {},
   "source": [
    "## Series"
   ]
  },
  {
   "cell_type": "code",
   "execution_count": 5,
   "metadata": {},
   "outputs": [
    {
     "data": {
      "text/plain": [
       "array([1, 2, 3])"
      ]
     },
     "execution_count": 5,
     "metadata": {},
     "output_type": "execute_result"
    },
    {
     "data": {
      "text/plain": [
       "0    1\n",
       "1    2\n",
       "2    3\n",
       "dtype: int32"
      ]
     },
     "execution_count": 5,
     "metadata": {},
     "output_type": "execute_result"
    }
   ],
   "source": [
    "n = np.array([1, 2, 3])\n",
    "s = pd.Series(n)\n",
    "n; s  # Show as ndarray and series"
   ]
  },
  {
   "cell_type": "markdown",
   "metadata": {},
   "source": [
    "#### From ndarray"
   ]
  },
  {
   "cell_type": "code",
   "execution_count": 6,
   "metadata": {},
   "outputs": [
    {
     "data": {
      "text/plain": [
       "[<matplotlib.lines.Line2D at 0x1f41d0694e0>]"
      ]
     },
     "execution_count": 6,
     "metadata": {},
     "output_type": "execute_result"
    },
    {
     "data": {
      "text/plain": [
       "0    76.021784\n",
       "1    69.826702\n",
       "2    51.082910\n",
       "3    45.943216\n",
       "4    48.703441\n",
       "Name: test, dtype: float64"
      ]
     },
     "execution_count": 6,
     "metadata": {},
     "output_type": "execute_result"
    },
    {
     "data": {
      "text/plain": [
       "76.021783523835964"
      ]
     },
     "execution_count": 6,
     "metadata": {},
     "output_type": "execute_result"
    },
    {
     "data": {
      "text/plain": [
       "RangeIndex(start=0, stop=5, step=1)"
      ]
     },
     "execution_count": 6,
     "metadata": {},
     "output_type": "execute_result"
    },
    {
     "data": {
      "image/png": "[encoded data removed]",
      "text/plain": [
       "<matplotlib.figure.Figure at 0x1f41ce51cf8>"
      ]
     },
     "metadata": {},
     "output_type": "display_data"
    }
   ],
   "source": [
    "#  Make a series from a numpy array and plot it\n",
    "\n",
    "s = pd.Series(10 * np.random.randn(5) + 50, name='test')\n",
    "n = 10 * np.random.randn(100) + 50\n",
    "s2 = pd.Series(n)\n",
    "df = pd.DataFrame(s2)  # Show what we've got in our data structures now\n",
    "\n",
    "plt.plot(s, 's')\n",
    "s\n",
    "s[0]; s.index"
   ]
  },
  {
   "cell_type": "markdown",
   "metadata": {},
   "source": [
    "#### From dict"
   ]
  },
  {
   "cell_type": "code",
   "execution_count": 7,
   "metadata": {},
   "outputs": [
    {
     "data": {
      "text/plain": [
       "a    0.0\n",
       "b    1.0\n",
       "c    2.0\n",
       "dtype: float64"
      ]
     },
     "execution_count": 7,
     "metadata": {},
     "output_type": "execute_result"
    },
    {
     "data": {
      "text/plain": [
       "b    1.0\n",
       "c    2.0\n",
       "d    NaN\n",
       "a    0.0\n",
       "dtype: float64"
      ]
     },
     "execution_count": 7,
     "metadata": {},
     "output_type": "execute_result"
    },
    {
     "data": {
      "text/plain": [
       "{'a': 0.0, 'b': 1.0, 'c': 2.0}"
      ]
     },
     "execution_count": 7,
     "metadata": {},
     "output_type": "execute_result"
    }
   ],
   "source": [
    "#  You can rearrange elements with index kwarg\n",
    "d = {'a': 0., 'b': 1., 'c': 2.}\n",
    "pd.Series(d)\n",
    "\n",
    "pd.Series(d, index=['b', 'c', 'd', 'a'])\n",
    "\n",
    "d"
   ]
  },
  {
   "cell_type": "markdown",
   "metadata": {},
   "source": [
    "#### From scalar"
   ]
  },
  {
   "cell_type": "code",
   "execution_count": 8,
   "metadata": {},
   "outputs": [
    {
     "data": {
      "text/plain": [
       "a    5\n",
       "b    5\n",
       "c    5\n",
       "d    5\n",
       "e    5\n",
       "dtype: int64"
      ]
     },
     "execution_count": 8,
     "metadata": {},
     "output_type": "execute_result"
    }
   ],
   "source": [
    "#  You can make a Series from a single value and it'll just repeat\n",
    "pd.Series(5, index=['a', 'b', 'c', 'd', 'e'])"
   ]
  },
  {
   "cell_type": "markdown",
   "metadata": {
    "collapsed": true
   },
   "source": [
    "### Series is ndarray-like "
   ]
  },
  {
   "cell_type": "markdown",
   "metadata": {},
   "source": [
    "#### Only difference is that things like slicing also slice the index"
   ]
  },
  {
   "cell_type": "code",
   "execution_count": 9,
   "metadata": {},
   "outputs": [
    {
     "data": {
      "text/plain": [
       "0    76.021784\n",
       "1    69.826702\n",
       "2    51.082910\n",
       "3    45.943216\n",
       "4    48.703441\n",
       "Name: test, dtype: float64"
      ]
     },
     "execution_count": 9,
     "metadata": {},
     "output_type": "execute_result"
    },
    {
     "data": {
      "text/plain": [
       "76.021783523835964"
      ]
     },
     "execution_count": 9,
     "metadata": {},
     "output_type": "execute_result"
    },
    {
     "data": {
      "text/plain": [
       "0    76.021784\n",
       "1    69.826702\n",
       "2    51.082910\n",
       "Name: test, dtype: float64"
      ]
     },
     "execution_count": 9,
     "metadata": {},
     "output_type": "execute_result"
    },
    {
     "data": {
      "text/plain": [
       "58.315610436102965"
      ]
     },
     "execution_count": 9,
     "metadata": {},
     "output_type": "execute_result"
    },
    {
     "data": {
      "text/plain": [
       "2    51.082910\n",
       "3    45.943216\n",
       "4    48.703441\n",
       "Name: test, dtype: float64"
      ]
     },
     "execution_count": 9,
     "metadata": {},
     "output_type": "execute_result"
    }
   ],
   "source": [
    "\n",
    "s\n",
    "s[0]\n",
    "s[:3]\n",
    "s.mean()\n",
    "s[s<s.mean()]"
   ]
  },
  {
   "cell_type": "code",
   "execution_count": 10,
   "metadata": {},
   "outputs": [
    {
     "data": {
      "text/html": [
       "<div>\n",
       "<style>\n",
       "    .dataframe thead tr:only-child th {\n",
       "        text-align: right;\n",
       "    }\n",
       "\n",
       "    .dataframe thead th {\n",
       "        text-align: left;\n",
       "    }\n",
       "\n",
       "    .dataframe tbody tr th {\n",
       "        vertical-align: top;\n",
       "    }\n",
       "</style>\n",
       "<table border=\"1\" class=\"dataframe\">\n",
       "  <thead>\n",
       "    <tr style=\"text-align: right;\">\n",
       "      <th></th>\n",
       "      <th>Details</th>\n",
       "      <th>Posting Date</th>\n",
       "      <th>Description</th>\n",
       "      <th>Amount</th>\n",
       "      <th>Type</th>\n",
       "      <th>Balance</th>\n",
       "      <th>Check or Slip #</th>\n",
       "    </tr>\n",
       "  </thead>\n",
       "  <tbody>\n",
       "    <tr>\n",
       "      <th>0</th>\n",
       "      <td>DEBIT</td>\n",
       "      <td>11/24/2017</td>\n",
       "      <td>POS DEBIT                ELSEVIER USD ECOMM   ...</td>\n",
       "      <td>-38.05</td>\n",
       "      <td>MISC_DEBIT</td>\n",
       "      <td></td>\n",
       "      <td>NaN</td>\n",
       "    </tr>\n",
       "    <tr>\n",
       "      <th>1</th>\n",
       "      <td>DEBIT</td>\n",
       "      <td>11/23/2017</td>\n",
       "      <td>POS DEBIT                STARVIN SAMS 14      ...</td>\n",
       "      <td>-20.21</td>\n",
       "      <td>MISC_DEBIT</td>\n",
       "      <td></td>\n",
       "      <td>NaN</td>\n",
       "    </tr>\n",
       "    <tr>\n",
       "      <th>2</th>\n",
       "      <td>DEBIT</td>\n",
       "      <td>11/23/2017</td>\n",
       "      <td>POS DEBIT                ROOK AND ROGUE BOARD ...</td>\n",
       "      <td>-16.31</td>\n",
       "      <td>MISC_DEBIT</td>\n",
       "      <td></td>\n",
       "      <td>NaN</td>\n",
       "    </tr>\n",
       "    <tr>\n",
       "      <th>3</th>\n",
       "      <td>CREDIT</td>\n",
       "      <td>11/24/2017</td>\n",
       "      <td>ORIG CO NAME:KEY CR. TRANSFER CO ENTRY DESCR:O...</td>\n",
       "      <td>1150.00</td>\n",
       "      <td>ACH_CREDIT</td>\n",
       "      <td></td>\n",
       "      <td>NaN</td>\n",
       "    </tr>\n",
       "    <tr>\n",
       "      <th>4</th>\n",
       "      <td>DEBIT</td>\n",
       "      <td>11/22/2017</td>\n",
       "      <td>HAGGEN #3449 BELLINGHAM WA           886900  1...</td>\n",
       "      <td>-14.82</td>\n",
       "      <td>DEBIT_CARD</td>\n",
       "      <td>223.04</td>\n",
       "      <td>NaN</td>\n",
       "    </tr>\n",
       "  </tbody>\n",
       "</table>\n",
       "</div>"
      ],
      "text/plain": [
       "  Details Posting Date                                        Description  \\\n",
       "0   DEBIT   11/24/2017  POS DEBIT                ELSEVIER USD ECOMM   ...   \n",
       "1   DEBIT   11/23/2017  POS DEBIT                STARVIN SAMS 14      ...   \n",
       "2   DEBIT   11/23/2017  POS DEBIT                ROOK AND ROGUE BOARD ...   \n",
       "3  CREDIT   11/24/2017  ORIG CO NAME:KEY CR. TRANSFER CO ENTRY DESCR:O...   \n",
       "4   DEBIT   11/22/2017  HAGGEN #3449 BELLINGHAM WA           886900  1...   \n",
       "\n",
       "    Amount        Type Balance  Check or Slip #  \n",
       "0   -38.05  MISC_DEBIT                      NaN  \n",
       "1   -20.21  MISC_DEBIT                      NaN  \n",
       "2   -16.31  MISC_DEBIT                      NaN  \n",
       "3  1150.00  ACH_CREDIT                      NaN  \n",
       "4   -14.82  DEBIT_CARD  223.04              NaN  "
      ]
     },
     "execution_count": 10,
     "metadata": {},
     "output_type": "execute_result"
    },
    {
     "data": {
      "text/plain": [
       "0     38.05\n",
       "1     20.21\n",
       "2     16.31\n",
       "4     14.82\n",
       "5      5.20\n",
       "6      7.91\n",
       "7      1.70\n",
       "8     56.73\n",
       "11    10.00\n",
       "12     0.38\n",
       "Name: Amount, dtype: float64"
      ]
     },
     "execution_count": 10,
     "metadata": {},
     "output_type": "execute_result"
    },
    {
     "data": {
      "text/plain": [
       "count    1340.000000\n",
       "mean       17.330104\n",
       "std        22.248055\n",
       "min         0.170000\n",
       "25%         4.885000\n",
       "50%         8.970000\n",
       "75%        22.500000\n",
       "max       183.100000\n",
       "Name: Amount, dtype: float64"
      ]
     },
     "execution_count": 10,
     "metadata": {},
     "output_type": "execute_result"
    },
    {
     "data": {
      "text/plain": [
       "2.3583959899749374"
      ]
     },
     "execution_count": 10,
     "metadata": {},
     "output_type": "execute_result"
    }
   ],
   "source": [
    "#  Let's get a more interesting dataset\n",
    "df = pd.read_csv(r'C:\\Users\\Alex Loftus\\Dropbox\\Programming\\Projects\\Jupyter-Notebooks\\Chase-acct-info\\Checking-11-23-2017.CSV')\n",
    "bal = df['Balance']\n",
    "amt = df['Amount']\n",
    "\n",
    "df.head()\n",
    "amt = pd.to_numeric(amt)\n",
    "inc = amt[amt>0]  # All income\n",
    "spn = amt[amt<0].abs()\n",
    "spn = spn[spn<200]  # Spending less than $200\n",
    "spn.head(10)\n",
    "spn.describe()\n",
    "spn[spn<spn.mean()].count() / spn[spn>spn.mean()].count()  # Ratio of spn.count() less than mean to spn.count() greater than mean\n",
    "\n",
    "#  spn = all spending < $200\n",
    "#  inc = all income"
   ]
  },
  {
   "cell_type": "code",
   "execution_count": 11,
   "metadata": {},
   "outputs": [
    {
     "data": {
      "text/plain": [
       "1    20.21\n",
       "2    16.31\n",
       "3      NaN\n",
       "Name: Amount, dtype: float64"
      ]
     },
     "execution_count": 11,
     "metadata": {},
     "output_type": "execute_result"
    },
    {
     "data": {
      "text/plain": [
       "0    38.05\n",
       "1    20.21\n",
       "2    16.31\n",
       "4    14.82\n",
       "5     5.20\n",
       "Name: Amount, dtype: float64"
      ]
     },
     "execution_count": 11,
     "metadata": {},
     "output_type": "execute_result"
    },
    {
     "data": {
      "text/plain": [
       "0    3.348922e+16\n",
       "1    5.985377e+08\n",
       "2    1.211555e+07\n",
       "4    2.730513e+06\n",
       "5    1.812722e+02\n",
       "Name: Amount, dtype: float64"
      ]
     },
     "execution_count": 11,
     "metadata": {},
     "output_type": "execute_result"
    }
   ],
   "source": [
    "#  Play around with using numpy operations on Series\n",
    "spn[[1, 2, 3]]\n",
    "spn.head()\n",
    "np.exp(spn.head())\n",
    "?np.exp"
   ]
  },
  {
   "cell_type": "markdown",
   "metadata": {},
   "source": [
    "### Series is dict-like"
   ]
  },
  {
   "cell_type": "code",
   "execution_count": 12,
   "metadata": {},
   "outputs": [
    {
     "data": {
      "text/plain": [
       "16.309999999999999"
      ]
     },
     "execution_count": 12,
     "metadata": {},
     "output_type": "execute_result"
    }
   ],
   "source": [
    "# As in, you can get stuff pretty much just like a dict\n",
    "\n",
    "fspn = spn.head(20)  # First 20 elements of fspn\n",
    "fspn.get(2)"
   ]
  },
  {
   "cell_type": "markdown",
   "metadata": {},
   "source": [
    "### Vectorized operations with Series"
   ]
  },
  {
   "cell_type": "code",
   "execution_count": 13,
   "metadata": {},
   "outputs": [
    {
     "data": {
      "text/plain": [
       "0     38.05\n",
       "1     20.21\n",
       "2     16.31\n",
       "4     14.82\n",
       "5      5.20\n",
       "6      7.91\n",
       "7      1.70\n",
       "8     56.73\n",
       "11    10.00\n",
       "12     0.38\n",
       "13    12.70\n",
       "14     6.95\n",
       "17     1.63\n",
       "18     2.99\n",
       "19     6.50\n",
       "20    11.78\n",
       "21    14.83\n",
       "22     6.50\n",
       "23    31.34\n",
       "24     9.75\n",
       "Name: Amount, dtype: float64"
      ]
     },
     "execution_count": 13,
     "metadata": {},
     "output_type": "execute_result"
    }
   ],
   "source": [
    "fspn"
   ]
  },
  {
   "cell_type": "code",
   "execution_count": 14,
   "metadata": {},
   "outputs": [
    {
     "data": {
      "text/plain": [
       "1    20.21\n",
       "2    16.31\n",
       "4    14.82\n",
       "5     5.20\n",
       "Name: Amount, dtype: float64"
      ]
     },
     "execution_count": 14,
     "metadata": {},
     "output_type": "execute_result"
    },
    {
     "data": {
      "text/plain": [
       "0    38.05\n",
       "1    20.21\n",
       "2    16.31\n",
       "4    14.82\n",
       "5     5.20\n",
       "Name: Amount, dtype: float64"
      ]
     },
     "execution_count": 14,
     "metadata": {},
     "output_type": "execute_result"
    },
    {
     "data": {
      "text/plain": [
       "0      NaN\n",
       "1    40.42\n",
       "2    32.62\n",
       "4    29.64\n",
       "5    10.40\n",
       "Name: Amount, dtype: float64"
      ]
     },
     "execution_count": 14,
     "metadata": {},
     "output_type": "execute_result"
    }
   ],
   "source": [
    "fspn.head()[1:]\n",
    "fspn.head()[:5]\n",
    "fspn.head()[1:] + fspn.head()[:5]  # First comes up NaN, they add at the same index"
   ]
  },
  {
   "cell_type": "markdown",
   "metadata": {
    "collapsed": true
   },
   "source": [
    "### Name attribute"
   ]
  },
  {
   "cell_type": "code",
   "execution_count": 15,
   "metadata": {},
   "outputs": [
    {
     "data": {
      "text/plain": [
       "0     38.05\n",
       "1     20.21\n",
       "2     16.31\n",
       "4     14.82\n",
       "5      5.20\n",
       "6      7.91\n",
       "7      1.70\n",
       "8     56.73\n",
       "11    10.00\n",
       "12     0.38\n",
       "13    12.70\n",
       "14     6.95\n",
       "17     1.63\n",
       "18     2.99\n",
       "19     6.50\n",
       "20    11.78\n",
       "21    14.83\n",
       "22     6.50\n",
       "23    31.34\n",
       "24     9.75\n",
       "Name: First 20 Expenditures, dtype: float64"
      ]
     },
     "execution_count": 15,
     "metadata": {},
     "output_type": "execute_result"
    },
    {
     "data": {
      "text/plain": [
       "'First 20 Expenditures'"
      ]
     },
     "execution_count": 15,
     "metadata": {},
     "output_type": "execute_result"
    },
    {
     "data": {
      "text/plain": [
       "0     38.05\n",
       "1     20.21\n",
       "2     16.31\n",
       "4     14.82\n",
       "5      5.20\n",
       "6      7.91\n",
       "7      1.70\n",
       "8     56.73\n",
       "11    10.00\n",
       "12     0.38\n",
       "13    12.70\n",
       "14     6.95\n",
       "17     1.63\n",
       "18     2.99\n",
       "19     6.50\n",
       "20    11.78\n",
       "21    14.83\n",
       "22     6.50\n",
       "23    31.34\n",
       "24     9.75\n",
       "Name: 1st 20, dtype: float64"
      ]
     },
     "execution_count": 15,
     "metadata": {},
     "output_type": "execute_result"
    },
    {
     "data": {
      "text/plain": [
       "'First 20 Expenditures'"
      ]
     },
     "execution_count": 15,
     "metadata": {},
     "output_type": "execute_result"
    }
   ],
   "source": [
    "fspn = pd.Series(fspn, name='First 20 Expenditures')  # First argument is what's in the series\n",
    "fspn\n",
    "fspn.name  # No () because it's an attribute, not a function call\n",
    "fspn.rename('1st 20')  # Doesn't actively rename the function\n",
    "fspn.name\n",
    "fspn = fspn.rename('1st 20 Expenditures')  # *now* the fspn Series is actually renamed"
   ]
  },
  {
   "cell_type": "markdown",
   "metadata": {
    "collapsed": true
   },
   "source": [
    "## DataFrame "
   ]
  },
  {
   "cell_type": "markdown",
   "metadata": {
    "collapsed": true
   },
   "source": [
    "#### They're just columns of Series"
   ]
  },
  {
   "cell_type": "markdown",
   "metadata": {},
   "source": [
    "## From dict of Series or dicts "
   ]
  },
  {
   "cell_type": "code",
   "execution_count": 16,
   "metadata": {
    "scrolled": false
   },
   "outputs": [
    {
     "data": {
      "text/plain": [
       "a    1.0\n",
       "b    2.0\n",
       "c    3.0\n",
       "dtype: float64"
      ]
     },
     "execution_count": 16,
     "metadata": {},
     "output_type": "execute_result"
    },
    {
     "data": {
      "text/html": [
       "<div>\n",
       "<style>\n",
       "    .dataframe thead tr:only-child th {\n",
       "        text-align: right;\n",
       "    }\n",
       "\n",
       "    .dataframe thead th {\n",
       "        text-align: left;\n",
       "    }\n",
       "\n",
       "    .dataframe tbody tr th {\n",
       "        vertical-align: top;\n",
       "    }\n",
       "</style>\n",
       "<table border=\"1\" class=\"dataframe\">\n",
       "  <thead>\n",
       "    <tr style=\"text-align: right;\">\n",
       "      <th></th>\n",
       "      <th>one</th>\n",
       "      <th>two</th>\n",
       "    </tr>\n",
       "  </thead>\n",
       "  <tbody>\n",
       "    <tr>\n",
       "      <th>a</th>\n",
       "      <td>1.0</td>\n",
       "      <td>1.0</td>\n",
       "    </tr>\n",
       "    <tr>\n",
       "      <th>b</th>\n",
       "      <td>2.0</td>\n",
       "      <td>2.0</td>\n",
       "    </tr>\n",
       "    <tr>\n",
       "      <th>c</th>\n",
       "      <td>3.0</td>\n",
       "      <td>3.0</td>\n",
       "    </tr>\n",
       "    <tr>\n",
       "      <th>d</th>\n",
       "      <td>NaN</td>\n",
       "      <td>4.0</td>\n",
       "    </tr>\n",
       "  </tbody>\n",
       "</table>\n",
       "</div>"
      ],
      "text/plain": [
       "   one  two\n",
       "a  1.0  1.0\n",
       "b  2.0  2.0\n",
       "c  3.0  3.0\n",
       "d  NaN  4.0"
      ]
     },
     "execution_count": 16,
     "metadata": {},
     "output_type": "execute_result"
    }
   ],
   "source": [
    "d = {'one' : pd.Series([1., 2., 3.], index=['a', 'b', 'c']), \n",
    "     'two' : pd.Series([1., 2., 3., 4], index=['a', 'b', 'c', 'd'])}\n",
    "d['one']\n",
    "\n",
    "df2 = pd.DataFrame(d)\n",
    "df2"
   ]
  },
  {
   "cell_type": "code",
   "execution_count": 17,
   "metadata": {},
   "outputs": [
    {
     "data": {
      "text/html": [
       "<div>\n",
       "<style>\n",
       "    .dataframe thead tr:only-child th {\n",
       "        text-align: right;\n",
       "    }\n",
       "\n",
       "    .dataframe thead th {\n",
       "        text-align: left;\n",
       "    }\n",
       "\n",
       "    .dataframe tbody tr th {\n",
       "        vertical-align: top;\n",
       "    }\n",
       "</style>\n",
       "<table border=\"1\" class=\"dataframe\">\n",
       "  <thead>\n",
       "    <tr style=\"text-align: right;\">\n",
       "      <th></th>\n",
       "      <th>one</th>\n",
       "      <th>two</th>\n",
       "    </tr>\n",
       "  </thead>\n",
       "  <tbody>\n",
       "    <tr>\n",
       "      <th>d</th>\n",
       "      <td>NaN</td>\n",
       "      <td>4.0</td>\n",
       "    </tr>\n",
       "    <tr>\n",
       "      <th>b</th>\n",
       "      <td>2.0</td>\n",
       "      <td>2.0</td>\n",
       "    </tr>\n",
       "    <tr>\n",
       "      <th>a</th>\n",
       "      <td>1.0</td>\n",
       "      <td>1.0</td>\n",
       "    </tr>\n",
       "  </tbody>\n",
       "</table>\n",
       "</div>"
      ],
      "text/plain": [
       "   one  two\n",
       "d  NaN  4.0\n",
       "b  2.0  2.0\n",
       "a  1.0  1.0"
      ]
     },
     "execution_count": 17,
     "metadata": {},
     "output_type": "execute_result"
    },
    {
     "data": {
      "text/html": [
       "<div>\n",
       "<style>\n",
       "    .dataframe thead tr:only-child th {\n",
       "        text-align: right;\n",
       "    }\n",
       "\n",
       "    .dataframe thead th {\n",
       "        text-align: left;\n",
       "    }\n",
       "\n",
       "    .dataframe tbody tr th {\n",
       "        vertical-align: top;\n",
       "    }\n",
       "</style>\n",
       "<table border=\"1\" class=\"dataframe\">\n",
       "  <thead>\n",
       "    <tr style=\"text-align: right;\">\n",
       "      <th></th>\n",
       "      <th>two</th>\n",
       "      <th>three</th>\n",
       "    </tr>\n",
       "  </thead>\n",
       "  <tbody>\n",
       "    <tr>\n",
       "      <th>d</th>\n",
       "      <td>4.0</td>\n",
       "      <td>NaN</td>\n",
       "    </tr>\n",
       "    <tr>\n",
       "      <th>b</th>\n",
       "      <td>2.0</td>\n",
       "      <td>NaN</td>\n",
       "    </tr>\n",
       "    <tr>\n",
       "      <th>a</th>\n",
       "      <td>1.0</td>\n",
       "      <td>NaN</td>\n",
       "    </tr>\n",
       "  </tbody>\n",
       "</table>\n",
       "</div>"
      ],
      "text/plain": [
       "   two three\n",
       "d  4.0   NaN\n",
       "b  2.0   NaN\n",
       "a  1.0   NaN"
      ]
     },
     "execution_count": 17,
     "metadata": {},
     "output_type": "execute_result"
    }
   ],
   "source": [
    "# Index and column arguments physically change the DataFrame based on where the indexes/columns were before\n",
    "\n",
    "pd.DataFrame(d, index=['d', 'b', 'a'])\n",
    "pd.DataFrame(d, index=['d', 'b', 'a',], columns=['two', 'three'])"
   ]
  },
  {
   "cell_type": "markdown",
   "metadata": {
    "collapsed": true
   },
   "source": [
    "## A brief break for a Medium article"
   ]
  },
  {
   "cell_type": "markdown",
   "metadata": {
    "collapsed": true
   },
   "source": [
    "#### https://medium.com/dunder-data/selecting-subsets-of-data-in-pandas-6fcd0170be9c\n",
    "\n",
    "\"Selecting subsets of data, pt 1\""
   ]
  },
  {
   "cell_type": "code",
   "execution_count": 18,
   "metadata": {},
   "outputs": [
    {
     "data": {
      "text/plain": [
       "RangeIndex(start=0, stop=1504, step=1)"
      ]
     },
     "execution_count": 18,
     "metadata": {},
     "output_type": "execute_result"
    },
    {
     "data": {
      "text/plain": [
       "Index(['Details', 'Posting Date', 'Description', 'Amount', 'Type', 'Balance',\n",
       "       'Check or Slip #'],\n",
       "      dtype='object')"
      ]
     },
     "execution_count": 18,
     "metadata": {},
     "output_type": "execute_result"
    },
    {
     "data": {
      "text/plain": [
       "numpy.ndarray"
      ]
     },
     "execution_count": 18,
     "metadata": {},
     "output_type": "execute_result"
    }
   ],
   "source": [
    "index = df.index\n",
    "columns = df.columns\n",
    "values = df.values\n",
    "\n",
    "index\n",
    "columns\n",
    "type(values)"
   ]
  },
  {
   "cell_type": "code",
   "execution_count": 35,
   "metadata": {},
   "outputs": [
    {
     "data": {
      "text/plain": [
       "0    38.05\n",
       "1    20.21\n",
       "2    16.31\n",
       "4    14.82\n",
       "5     5.20\n",
       "Name: Amount, dtype: float64"
      ]
     },
     "execution_count": 35,
     "metadata": {},
     "output_type": "execute_result"
    },
    {
     "data": {
      "text/plain": [
       "pandas.core.series.Series"
      ]
     },
     "execution_count": 35,
     "metadata": {},
     "output_type": "execute_result"
    }
   ],
   "source": [
    "amt = df['Amount'].abs()\n",
    "amt = amt[amt<200]\n",
    "amt.head()\n",
    "type(amt)"
   ]
  },
  {
   "cell_type": "code",
   "execution_count": 37,
   "metadata": {},
   "outputs": [
    {
     "data": {
      "text/html": [
       "<div>\n",
       "<style>\n",
       "    .dataframe thead tr:only-child th {\n",
       "        text-align: right;\n",
       "    }\n",
       "\n",
       "    .dataframe thead th {\n",
       "        text-align: left;\n",
       "    }\n",
       "\n",
       "    .dataframe tbody tr th {\n",
       "        vertical-align: top;\n",
       "    }\n",
       "</style>\n",
       "<table border=\"1\" class=\"dataframe\">\n",
       "  <thead>\n",
       "    <tr style=\"text-align: right;\">\n",
       "      <th></th>\n",
       "      <th>Details</th>\n",
       "      <th>Posting Date</th>\n",
       "      <th>Description</th>\n",
       "      <th>Amount</th>\n",
       "      <th>Type</th>\n",
       "      <th>Balance</th>\n",
       "      <th>Check or Slip #</th>\n",
       "    </tr>\n",
       "  </thead>\n",
       "  <tbody>\n",
       "    <tr>\n",
       "      <th>0</th>\n",
       "      <td>DEBIT</td>\n",
       "      <td>11/24/2017</td>\n",
       "      <td>POS DEBIT                ELSEVIER USD ECOMM   ...</td>\n",
       "      <td>-38.05</td>\n",
       "      <td>MISC_DEBIT</td>\n",
       "      <td></td>\n",
       "      <td>NaN</td>\n",
       "    </tr>\n",
       "    <tr>\n",
       "      <th>1</th>\n",
       "      <td>DEBIT</td>\n",
       "      <td>11/23/2017</td>\n",
       "      <td>POS DEBIT                STARVIN SAMS 14      ...</td>\n",
       "      <td>-20.21</td>\n",
       "      <td>MISC_DEBIT</td>\n",
       "      <td></td>\n",
       "      <td>NaN</td>\n",
       "    </tr>\n",
       "    <tr>\n",
       "      <th>2</th>\n",
       "      <td>DEBIT</td>\n",
       "      <td>11/23/2017</td>\n",
       "      <td>POS DEBIT                ROOK AND ROGUE BOARD ...</td>\n",
       "      <td>-16.31</td>\n",
       "      <td>MISC_DEBIT</td>\n",
       "      <td></td>\n",
       "      <td>NaN</td>\n",
       "    </tr>\n",
       "    <tr>\n",
       "      <th>3</th>\n",
       "      <td>CREDIT</td>\n",
       "      <td>11/24/2017</td>\n",
       "      <td>ORIG CO NAME:KEY CR. TRANSFER CO ENTRY DESCR:O...</td>\n",
       "      <td>1150.00</td>\n",
       "      <td>ACH_CREDIT</td>\n",
       "      <td></td>\n",
       "      <td>NaN</td>\n",
       "    </tr>\n",
       "    <tr>\n",
       "      <th>4</th>\n",
       "      <td>DEBIT</td>\n",
       "      <td>11/22/2017</td>\n",
       "      <td>HAGGEN #3449 BELLINGHAM WA           886900  1...</td>\n",
       "      <td>-14.82</td>\n",
       "      <td>DEBIT_CARD</td>\n",
       "      <td>223.04</td>\n",
       "      <td>NaN</td>\n",
       "    </tr>\n",
       "  </tbody>\n",
       "</table>\n",
       "</div>"
      ],
      "text/plain": [
       "  Details Posting Date                                        Description  \\\n",
       "0   DEBIT   11/24/2017  POS DEBIT                ELSEVIER USD ECOMM   ...   \n",
       "1   DEBIT   11/23/2017  POS DEBIT                STARVIN SAMS 14      ...   \n",
       "2   DEBIT   11/23/2017  POS DEBIT                ROOK AND ROGUE BOARD ...   \n",
       "3  CREDIT   11/24/2017  ORIG CO NAME:KEY CR. TRANSFER CO ENTRY DESCR:O...   \n",
       "4   DEBIT   11/22/2017  HAGGEN #3449 BELLINGHAM WA           886900  1...   \n",
       "\n",
       "    Amount        Type Balance  Check or Slip #  \n",
       "0   -38.05  MISC_DEBIT                      NaN  \n",
       "1   -20.21  MISC_DEBIT                      NaN  \n",
       "2   -16.31  MISC_DEBIT                      NaN  \n",
       "3  1150.00  ACH_CREDIT                      NaN  \n",
       "4   -14.82  DEBIT_CARD  223.04              NaN  "
      ]
     },
     "execution_count": 37,
     "metadata": {},
     "output_type": "execute_result"
    },
    {
     "data": {
      "text/plain": [
       "Index(['Details', 'Posting Date', 'Description', 'Amount', 'Type', 'Balance',\n",
       "       'Check or Slip #'],\n",
       "      dtype='object')"
      ]
     },
     "execution_count": 37,
     "metadata": {},
     "output_type": "execute_result"
    },
    {
     "data": {
      "text/html": [
       "<div>\n",
       "<style>\n",
       "    .dataframe thead tr:only-child th {\n",
       "        text-align: right;\n",
       "    }\n",
       "\n",
       "    .dataframe thead th {\n",
       "        text-align: left;\n",
       "    }\n",
       "\n",
       "    .dataframe tbody tr th {\n",
       "        vertical-align: top;\n",
       "    }\n",
       "</style>\n",
       "<table border=\"1\" class=\"dataframe\">\n",
       "  <thead>\n",
       "    <tr style=\"text-align: right;\">\n",
       "      <th></th>\n",
       "      <th>Balance</th>\n",
       "      <th>Amount</th>\n",
       "    </tr>\n",
       "    <tr>\n",
       "      <th>Posting Date</th>\n",
       "      <th></th>\n",
       "      <th></th>\n",
       "    </tr>\n",
       "  </thead>\n",
       "  <tbody>\n",
       "    <tr>\n",
       "      <th>11/24/2017</th>\n",
       "      <td></td>\n",
       "      <td>-38.05</td>\n",
       "    </tr>\n",
       "    <tr>\n",
       "      <th>11/23/2017</th>\n",
       "      <td></td>\n",
       "      <td>-20.21</td>\n",
       "    </tr>\n",
       "    <tr>\n",
       "      <th>11/23/2017</th>\n",
       "      <td></td>\n",
       "      <td>-16.31</td>\n",
       "    </tr>\n",
       "    <tr>\n",
       "      <th>11/24/2017</th>\n",
       "      <td></td>\n",
       "      <td>1150.00</td>\n",
       "    </tr>\n",
       "    <tr>\n",
       "      <th>11/22/2017</th>\n",
       "      <td>223.04</td>\n",
       "      <td>-14.82</td>\n",
       "    </tr>\n",
       "  </tbody>\n",
       "</table>\n",
       "</div>"
      ],
      "text/plain": [
       "             Balance   Amount\n",
       "Posting Date                 \n",
       "11/24/2017             -38.05\n",
       "11/23/2017             -20.21\n",
       "11/23/2017             -16.31\n",
       "11/24/2017            1150.00\n",
       "11/22/2017    223.04   -14.82"
      ]
     },
     "execution_count": 37,
     "metadata": {},
     "output_type": "execute_result"
    }
   ],
   "source": [
    "df.head()\n",
    "df.columns\n",
    "dpab = df[['Balance', 'Amount']]\n",
    "dpab.index = df['Posting Date']\n",
    "dpab.head()"
   ]
  },
  {
   "cell_type": "code",
   "execution_count": 38,
   "metadata": {},
   "outputs": [
    {
     "data": {
      "text/html": [
       "<div>\n",
       "<style>\n",
       "    .dataframe thead tr:only-child th {\n",
       "        text-align: right;\n",
       "    }\n",
       "\n",
       "    .dataframe thead th {\n",
       "        text-align: left;\n",
       "    }\n",
       "\n",
       "    .dataframe tbody tr th {\n",
       "        vertical-align: top;\n",
       "    }\n",
       "</style>\n",
       "<table border=\"1\" class=\"dataframe\">\n",
       "  <thead>\n",
       "    <tr style=\"text-align: right;\">\n",
       "      <th></th>\n",
       "      <th>Amount</th>\n",
       "    </tr>\n",
       "    <tr>\n",
       "      <th>Posting Date</th>\n",
       "      <th></th>\n",
       "    </tr>\n",
       "  </thead>\n",
       "  <tbody>\n",
       "    <tr>\n",
       "      <th>11/24/2017</th>\n",
       "      <td>-38.05</td>\n",
       "    </tr>\n",
       "    <tr>\n",
       "      <th>11/23/2017</th>\n",
       "      <td>-20.21</td>\n",
       "    </tr>\n",
       "    <tr>\n",
       "      <th>11/23/2017</th>\n",
       "      <td>-16.31</td>\n",
       "    </tr>\n",
       "    <tr>\n",
       "      <th>11/24/2017</th>\n",
       "      <td>1150.00</td>\n",
       "    </tr>\n",
       "    <tr>\n",
       "      <th>11/22/2017</th>\n",
       "      <td>-14.82</td>\n",
       "    </tr>\n",
       "  </tbody>\n",
       "</table>\n",
       "</div>"
      ],
      "text/plain": [
       "               Amount\n",
       "Posting Date         \n",
       "11/24/2017     -38.05\n",
       "11/23/2017     -20.21\n",
       "11/23/2017     -16.31\n",
       "11/24/2017    1150.00\n",
       "11/22/2017     -14.82"
      ]
     },
     "execution_count": 38,
     "metadata": {},
     "output_type": "execute_result"
    }
   ],
   "source": [
    "dpab[['Amount']].head()  # Make a single-column DataFrame with [['item']]"
   ]
  },
  {
   "cell_type": "code",
   "execution_count": 79,
   "metadata": {},
   "outputs": [
    {
     "data": {
      "text/html": [
       "<div>\n",
       "<style>\n",
       "    .dataframe thead tr:only-child th {\n",
       "        text-align: right;\n",
       "    }\n",
       "\n",
       "    .dataframe thead th {\n",
       "        text-align: left;\n",
       "    }\n",
       "\n",
       "    .dataframe tbody tr th {\n",
       "        vertical-align: top;\n",
       "    }\n",
       "</style>\n",
       "<table border=\"1\" class=\"dataframe\">\n",
       "  <thead>\n",
       "    <tr style=\"text-align: right;\">\n",
       "      <th></th>\n",
       "      <th>Balance</th>\n",
       "      <th>Amount</th>\n",
       "    </tr>\n",
       "    <tr>\n",
       "      <th>Posting Date</th>\n",
       "      <th></th>\n",
       "      <th></th>\n",
       "    </tr>\n",
       "  </thead>\n",
       "  <tbody>\n",
       "    <tr>\n",
       "      <th>11/24/2017</th>\n",
       "      <td></td>\n",
       "      <td>-38.05</td>\n",
       "    </tr>\n",
       "    <tr>\n",
       "      <th>11/22/2017</th>\n",
       "      <td>237.86</td>\n",
       "      <td>-5.20</td>\n",
       "    </tr>\n",
       "    <tr>\n",
       "      <th>11/21/2017</th>\n",
       "      <td>289.4</td>\n",
       "      <td>52.01</td>\n",
       "    </tr>\n",
       "    <tr>\n",
       "      <th>11/20/2017</th>\n",
       "      <td>267.42</td>\n",
       "      <td>10.00</td>\n",
       "    </tr>\n",
       "    <tr>\n",
       "      <th>11/16/2017</th>\n",
       "      <td>200.04</td>\n",
       "      <td>-11.78</td>\n",
       "    </tr>\n",
       "    <tr>\n",
       "      <th>11/15/2017</th>\n",
       "      <td>274.24</td>\n",
       "      <td>-17.50</td>\n",
       "    </tr>\n",
       "    <tr>\n",
       "      <th>11/14/2017</th>\n",
       "      <td>321.62</td>\n",
       "      <td>-21.80</td>\n",
       "    </tr>\n",
       "    <tr>\n",
       "      <th>11/13/2017</th>\n",
       "      <td>405.26</td>\n",
       "      <td>-7.31</td>\n",
       "    </tr>\n",
       "    <tr>\n",
       "      <th>11/13/2017</th>\n",
       "      <td>503.64</td>\n",
       "      <td>-6.10</td>\n",
       "    </tr>\n",
       "    <tr>\n",
       "      <th>11/13/2017</th>\n",
       "      <td>563.1</td>\n",
       "      <td>-7.98</td>\n",
       "    </tr>\n",
       "    <tr>\n",
       "      <th>11/10/2017</th>\n",
       "      <td>636.49</td>\n",
       "      <td>-1.99</td>\n",
       "    </tr>\n",
       "    <tr>\n",
       "      <th>11/8/2017</th>\n",
       "      <td>550.98</td>\n",
       "      <td>-23.07</td>\n",
       "    </tr>\n",
       "    <tr>\n",
       "      <th>11/3/2017</th>\n",
       "      <td>670.01</td>\n",
       "      <td>-36.00</td>\n",
       "    </tr>\n",
       "    <tr>\n",
       "      <th>10/30/2017</th>\n",
       "      <td>670.61</td>\n",
       "      <td>-37.91</td>\n",
       "    </tr>\n",
       "    <tr>\n",
       "      <th>10/18/2017</th>\n",
       "      <td>134.22</td>\n",
       "      <td>-75.00</td>\n",
       "    </tr>\n",
       "    <tr>\n",
       "      <th>10/16/2017</th>\n",
       "      <td>154.66</td>\n",
       "      <td>-27.16</td>\n",
       "    </tr>\n",
       "    <tr>\n",
       "      <th>10/16/2017</th>\n",
       "      <td>265.35</td>\n",
       "      <td>-9.22</td>\n",
       "    </tr>\n",
       "    <tr>\n",
       "      <th>10/12/2017</th>\n",
       "      <td>282.46</td>\n",
       "      <td>-1.25</td>\n",
       "    </tr>\n",
       "    <tr>\n",
       "      <th>10/10/2017</th>\n",
       "      <td>322.18</td>\n",
       "      <td>-37.44</td>\n",
       "    </tr>\n",
       "    <tr>\n",
       "      <th>10/6/2017</th>\n",
       "      <td>454.1</td>\n",
       "      <td>-3.64</td>\n",
       "    </tr>\n",
       "    <tr>\n",
       "      <th>10/4/2017</th>\n",
       "      <td>756.69</td>\n",
       "      <td>-4.27</td>\n",
       "    </tr>\n",
       "    <tr>\n",
       "      <th>9/29/2017</th>\n",
       "      <td>770.66</td>\n",
       "      <td>-2.50</td>\n",
       "    </tr>\n",
       "    <tr>\n",
       "      <th>9/27/2017</th>\n",
       "      <td>917.71</td>\n",
       "      <td>-26.94</td>\n",
       "    </tr>\n",
       "    <tr>\n",
       "      <th>9/25/2017</th>\n",
       "      <td>1488.64</td>\n",
       "      <td>-40.64</td>\n",
       "    </tr>\n",
       "    <tr>\n",
       "      <th>9/25/2017</th>\n",
       "      <td>1561.31</td>\n",
       "      <td>-26.09</td>\n",
       "    </tr>\n",
       "    <tr>\n",
       "      <th>9/21/2017</th>\n",
       "      <td>1617.95</td>\n",
       "      <td>-8.05</td>\n",
       "    </tr>\n",
       "    <tr>\n",
       "      <th>9/20/2017</th>\n",
       "      <td>1643.01</td>\n",
       "      <td>775.00</td>\n",
       "    </tr>\n",
       "    <tr>\n",
       "      <th>9/18/2017</th>\n",
       "      <td>133.12</td>\n",
       "      <td>-27.00</td>\n",
       "    </tr>\n",
       "    <tr>\n",
       "      <th>9/18/2017</th>\n",
       "      <td>540.29</td>\n",
       "      <td>270.00</td>\n",
       "    </tr>\n",
       "    <tr>\n",
       "      <th>9/13/2017</th>\n",
       "      <td>48.81</td>\n",
       "      <td>-16.00</td>\n",
       "    </tr>\n",
       "    <tr>\n",
       "      <th>9/11/2017</th>\n",
       "      <td>21.48</td>\n",
       "      <td>-2.45</td>\n",
       "    </tr>\n",
       "    <tr>\n",
       "      <th>9/11/2017</th>\n",
       "      <td>166.04</td>\n",
       "      <td>-10.70</td>\n",
       "    </tr>\n",
       "    <tr>\n",
       "      <th>9/11/2017</th>\n",
       "      <td>316.54</td>\n",
       "      <td>-12.96</td>\n",
       "    </tr>\n",
       "    <tr>\n",
       "      <th>9/8/2017</th>\n",
       "      <td>154.07</td>\n",
       "      <td>-17.46</td>\n",
       "    </tr>\n",
       "    <tr>\n",
       "      <th>9/5/2017</th>\n",
       "      <td>801.03</td>\n",
       "      <td>-2.00</td>\n",
       "    </tr>\n",
       "    <tr>\n",
       "      <th>9/5/2017</th>\n",
       "      <td>1085.56</td>\n",
       "      <td>-6.15</td>\n",
       "    </tr>\n",
       "  </tbody>\n",
       "</table>\n",
       "</div>"
      ],
      "text/plain": [
       "              Balance  Amount\n",
       "Posting Date                 \n",
       "11/24/2017             -38.05\n",
       "11/22/2017     237.86   -5.20\n",
       "11/21/2017      289.4   52.01\n",
       "11/20/2017     267.42   10.00\n",
       "11/16/2017     200.04  -11.78\n",
       "11/15/2017     274.24  -17.50\n",
       "11/14/2017     321.62  -21.80\n",
       "11/13/2017     405.26   -7.31\n",
       "11/13/2017     503.64   -6.10\n",
       "11/13/2017      563.1   -7.98\n",
       "11/10/2017     636.49   -1.99\n",
       "11/8/2017      550.98  -23.07\n",
       "11/3/2017      670.01  -36.00\n",
       "10/30/2017     670.61  -37.91\n",
       "10/18/2017     134.22  -75.00\n",
       "10/16/2017     154.66  -27.16\n",
       "10/16/2017     265.35   -9.22\n",
       "10/12/2017     282.46   -1.25\n",
       "10/10/2017     322.18  -37.44\n",
       "10/6/2017       454.1   -3.64\n",
       "10/4/2017      756.69   -4.27\n",
       "9/29/2017      770.66   -2.50\n",
       "9/27/2017      917.71  -26.94\n",
       "9/25/2017     1488.64  -40.64\n",
       "9/25/2017     1561.31  -26.09\n",
       "9/21/2017     1617.95   -8.05\n",
       "9/20/2017     1643.01  775.00\n",
       "9/18/2017      133.12  -27.00\n",
       "9/18/2017      540.29  270.00\n",
       "9/13/2017       48.81  -16.00\n",
       "9/11/2017       21.48   -2.45\n",
       "9/11/2017      166.04  -10.70\n",
       "9/11/2017      316.54  -12.96\n",
       "9/8/2017       154.07  -17.46\n",
       "9/5/2017       801.03   -2.00\n",
       "9/5/2017      1085.56   -6.15"
      ]
     },
     "execution_count": 79,
     "metadata": {},
     "output_type": "execute_result"
    }
   ],
   "source": [
    "#dpab.loc[['11/9/2017', '11/10/2017', '11/11/2017', '11/12/2017', '11/13/2017', '11/14/2017']]\n",
    "dpab = dpab.loc[:'9/1/2017']  # dpab now only stretches back to september\n",
    "dpab[::5]"
   ]
  },
  {
   "cell_type": "code",
   "execution_count": null,
   "metadata": {
    "collapsed": true
   },
   "outputs": [],
   "source": []
  },
  {
   "cell_type": "code",
   "execution_count": null,
   "metadata": {
    "collapsed": true
   },
   "outputs": [],
   "source": []
  },
  {
   "cell_type": "code",
   "execution_count": null,
   "metadata": {
    "collapsed": true
   },
   "outputs": [],
   "source": []
  },
  {
   "cell_type": "code",
   "execution_count": null,
   "metadata": {
    "collapsed": true
   },
   "outputs": [],
   "source": []
  }
 ],
 "metadata": {
  "kernelspec": {
   "display_name": "Python 3",
   "language": "python",
   "name": "python3"
  },
  "language_info": {
   "codemirror_mode": {
    "name": "ipython",
    "version": 3
   },
   "file_extension": ".py",
   "mimetype": "text/x-python",
   "name": "python",
   "nbconvert_exporter": "python",
   "pygments_lexer": "ipython3",
   "version": "3.6.3"
  }
 },
 "nbformat": 4,
 "nbformat_minor": 2
}
