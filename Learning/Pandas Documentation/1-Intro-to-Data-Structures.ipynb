{
 "cells": [
  {
   "cell_type": "markdown",
   "metadata": {},
   "source": [
    "# Intro to Data Structures"
   ]
  },
  {
   "cell_type": "code",
   "execution_count": 80,
   "metadata": {},
   "outputs": [
    {
     "data": {
      "text/plain": [
       "\"\\nJupyter notebook for learning Pandas methodically through the documentation. This one is from 'Intro to Data Structues'.\\n\""
      ]
     },
     "execution_count": 80,
     "metadata": {},
     "output_type": "execute_result"
    }
   ],
   "source": [
    "'''\n",
    "Jupyter notebook for learning Pandas methodically through the documentation. This one is from 'Intro to Data Structues'.\n",
    "'''"
   ]
  },
  {
   "cell_type": "code",
   "execution_count": 81,
   "metadata": {
    "collapsed": true
   },
   "outputs": [],
   "source": [
    "# http://pandas.pydata.org/pandas-docs/stable/dsintro.html\n",
    "# https://medium.com/dunder-data/how-to-learn-pandas-108905ab4955\n",
    "\n",
    "from ipywidgets import widgets\n",
    "from IPython.display import display\n",
    "import numpy as np\n",
    "import matplotlib.pyplot as plt\n",
    "import pandas as pd\n",
    "%matplotlib inline\n",
    "from IPython.core.interactiveshell import InteractiveShell\n",
    "InteractiveShell.ast_node_interactivity = \"all\""
   ]
  },
  {
   "cell_type": "markdown",
   "metadata": {},
   "source": [
    "## Messing around with widgets"
   ]
  },
  {
   "cell_type": "code",
   "execution_count": 82,
   "metadata": {},
   "outputs": [
    {
     "data": {
      "text/plain": [
       "'\\nMake a text box\\n'"
      ]
     },
     "execution_count": 82,
     "metadata": {},
     "output_type": "execute_result"
    },
    {
     "data": {
      "application/vnd.jupyter.widget-view+json": {
       "model_id": "2a05369ca49e45cfb16d5ca7bae9dd39",
       "version_major": 2,
       "version_minor": 0
      },
      "text/plain": [
       "A Jupyter Widget"
      ]
     },
     "metadata": {},
     "output_type": "display_data"
    }
   ],
   "source": [
    "'''\n",
    "Make a text box\n",
    "'''\n",
    "\n",
    "text = widgets.Play()\n",
    "display(text)\n",
    "\n",
    "def handle_submit(sender):\n",
    "    print(text.value)"
   ]
  },
  {
   "cell_type": "markdown",
   "metadata": {},
   "source": [
    "## Matplotlib "
   ]
  },
  {
   "cell_type": "code",
   "execution_count": 83,
   "metadata": {},
   "outputs": [
    {
     "data": {
      "text/plain": [
       "<matplotlib.collections.PathCollection at 0x1f41d7eeb70>"
      ]
     },
     "execution_count": 83,
     "metadata": {},
     "output_type": "execute_result"
    },
    {
     "data": {
      "image/png": "[encoded data removed]",
      "text/plain": [
       "<matplotlib.figure.Figure at 0x1f41e93d748>"
      ]
     },
     "metadata": {},
     "output_type": "display_data"
    }
   ],
   "source": [
    "N = 50\n",
    "x = np.random.rand(N)\n",
    "y = np.random.rand(N)\n",
    "colors = np.random.rand(N)\n",
    "area = np.pi * (15 * np.random.rand(N))**2\n",
    "\n",
    "plt.scatter(x, y, s=area, c=colors, alpha=0.5)\n",
    "plt.show()"
   ]
  },
  {
   "cell_type": "markdown",
   "metadata": {},
   "source": [
    "## Series"
   ]
  },
  {
   "cell_type": "code",
   "execution_count": 84,
   "metadata": {},
   "outputs": [
    {
     "data": {
      "text/plain": [
       "array([1, 2, 3])"
      ]
     },
     "execution_count": 84,
     "metadata": {},
     "output_type": "execute_result"
    },
    {
     "data": {
      "text/plain": [
       "0    1\n",
       "1    2\n",
       "2    3\n",
       "dtype: int32"
      ]
     },
     "execution_count": 84,
     "metadata": {},
     "output_type": "execute_result"
    }
   ],
   "source": [
    "n = np.array([1, 2, 3])\n",
    "s = pd.Series(n)\n",
    "n; s  # Show as ndarray and series"
   ]
  },
  {
   "cell_type": "markdown",
   "metadata": {},
   "source": [
    "#### From ndarray"
   ]
  },
  {
   "cell_type": "code",
   "execution_count": 85,
   "metadata": {},
   "outputs": [
    {
     "data": {
      "text/plain": [
       "[<matplotlib.lines.Line2D at 0x1f41e93f080>]"
      ]
     },
     "execution_count": 85,
     "metadata": {},
     "output_type": "execute_result"
    },
    {
     "data": {
      "text/plain": [
       "0    45.307567\n",
       "1    38.020040\n",
       "2    48.488498\n",
       "3    49.795490\n",
       "4    57.885040\n",
       "Name: test, dtype: float64"
      ]
     },
     "execution_count": 85,
     "metadata": {},
     "output_type": "execute_result"
    },
    {
     "data": {
      "text/plain": [
       "45.307567475761218"
      ]
     },
     "execution_count": 85,
     "metadata": {},
     "output_type": "execute_result"
    },
    {
     "data": {
      "text/plain": [
       "RangeIndex(start=0, stop=5, step=1)"
      ]
     },
     "execution_count": 85,
     "metadata": {},
     "output_type": "execute_result"
    },
    {
     "data": {
      "image/png": "[encoded data removed]",
      "text/plain": [
       "<matplotlib.figure.Figure at 0x1f41e9218d0>"
      ]
     },
     "metadata": {},
     "output_type": "display_data"
    }
   ],
   "source": [
    "#  Make a series from a numpy array and plot it\n",
    "\n",
    "s = pd.Series(10 * np.random.randn(5) + 50, name='test')\n",
    "n = 10 * np.random.randn(100) + 50\n",
    "s2 = pd.Series(n)\n",
    "df = pd.DataFrame(s2)  # Show what we've got in our data structures now\n",
    "\n",
    "plt.plot(s, 's')\n",
    "s\n",
    "s[0]; s.index"
   ]
  },
  {
   "cell_type": "markdown",
   "metadata": {},
   "source": [
    "#### From dict"
   ]
  },
  {
   "cell_type": "code",
   "execution_count": 86,
   "metadata": {},
   "outputs": [
    {
     "data": {
      "text/plain": [
       "a    0.0\n",
       "b    1.0\n",
       "c    2.0\n",
       "dtype: float64"
      ]
     },
     "execution_count": 86,
     "metadata": {},
     "output_type": "execute_result"
    },
    {
     "data": {
      "text/plain": [
       "b    1.0\n",
       "c    2.0\n",
       "d    NaN\n",
       "a    0.0\n",
       "dtype: float64"
      ]
     },
     "execution_count": 86,
     "metadata": {},
     "output_type": "execute_result"
    },
    {
     "data": {
      "text/plain": [
       "{'a': 0.0, 'b': 1.0, 'c': 2.0}"
      ]
     },
     "execution_count": 86,
     "metadata": {},
     "output_type": "execute_result"
    }
   ],
   "source": [
    "#  You can rearrange elements with index kwarg\n",
    "d = {'a': 0., 'b': 1., 'c': 2.}\n",
    "pd.Series(d)\n",
    "\n",
    "pd.Series(d, index=['b', 'c', 'd', 'a'])\n",
    "\n",
    "d"
   ]
  },
  {
   "cell_type": "markdown",
   "metadata": {},
   "source": [
    "#### From scalar"
   ]
  },
  {
   "cell_type": "code",
   "execution_count": 87,
   "metadata": {},
   "outputs": [
    {
     "data": {
      "text/plain": [
       "a    5\n",
       "b    5\n",
       "c    5\n",
       "d    5\n",
       "e    5\n",
       "dtype: int64"
      ]
     },
     "execution_count": 87,
     "metadata": {},
     "output_type": "execute_result"
    }
   ],
   "source": [
    "#  You can make a Series from a single value and it'll just repeat\n",
    "pd.Series(5, index=['a', 'b', 'c', 'd', 'e'])"
   ]
  },
  {
   "cell_type": "markdown",
   "metadata": {
    "collapsed": true
   },
   "source": [
    "### Series is ndarray-like "
   ]
  },
  {
   "cell_type": "markdown",
   "metadata": {},
   "source": [
    "#### Only difference is that things like slicing also slice the index"
   ]
  },
  {
   "cell_type": "code",
   "execution_count": 88,
   "metadata": {},
   "outputs": [
    {
     "data": {
      "text/plain": [
       "0    45.307567\n",
       "1    38.020040\n",
       "2    48.488498\n",
       "3    49.795490\n",
       "4    57.885040\n",
       "Name: test, dtype: float64"
      ]
     },
     "execution_count": 88,
     "metadata": {},
     "output_type": "execute_result"
    },
    {
     "data": {
      "text/plain": [
       "45.307567475761218"
      ]
     },
     "execution_count": 88,
     "metadata": {},
     "output_type": "execute_result"
    },
    {
     "data": {
      "text/plain": [
       "0    45.307567\n",
       "1    38.020040\n",
       "2    48.488498\n",
       "Name: test, dtype: float64"
      ]
     },
     "execution_count": 88,
     "metadata": {},
     "output_type": "execute_result"
    },
    {
     "data": {
      "text/plain": [
       "47.899327007502336"
      ]
     },
     "execution_count": 88,
     "metadata": {},
     "output_type": "execute_result"
    },
    {
     "data": {
      "text/plain": [
       "0    45.307567\n",
       "1    38.020040\n",
       "Name: test, dtype: float64"
      ]
     },
     "execution_count": 88,
     "metadata": {},
     "output_type": "execute_result"
    }
   ],
   "source": [
    "\n",
    "s\n",
    "s[0]\n",
    "s[:3]\n",
    "s.mean()\n",
    "s[s<s.mean()]"
   ]
  },
  {
   "cell_type": "code",
   "execution_count": 92,
   "metadata": {
    "scrolled": true
   },
   "outputs": [
    {
     "data": {
      "text/html": [
       "<div>\n",
       "<style>\n",
       "    .dataframe thead tr:only-child th {\n",
       "        text-align: right;\n",
       "    }\n",
       "\n",
       "    .dataframe thead th {\n",
       "        text-align: left;\n",
       "    }\n",
       "\n",
       "    .dataframe tbody tr th {\n",
       "        vertical-align: top;\n",
       "    }\n",
       "</style>\n",
       "<table border=\"1\" class=\"dataframe\">\n",
       "  <thead>\n",
       "    <tr style=\"text-align: right;\">\n",
       "      <th></th>\n",
       "      <th>Details</th>\n",
       "      <th>Posting Date</th>\n",
       "      <th>Description</th>\n",
       "      <th>Amount</th>\n",
       "      <th>Type</th>\n",
       "      <th>Balance</th>\n",
       "      <th>Check or Slip #</th>\n",
       "    </tr>\n",
       "  </thead>\n",
       "  <tbody>\n",
       "    <tr>\n",
       "      <th>0</th>\n",
       "      <td>DEBIT</td>\n",
       "      <td>12/19/2017</td>\n",
       "      <td>POS DEBIT                UNICORN/NARWHAL      ...</td>\n",
       "      <td>-6.50</td>\n",
       "      <td>MISC_DEBIT</td>\n",
       "      <td></td>\n",
       "      <td>NaN</td>\n",
       "    </tr>\n",
       "    <tr>\n",
       "      <th>1</th>\n",
       "      <td>DEBIT</td>\n",
       "      <td>12/19/2017</td>\n",
       "      <td>POS DEBIT                UNICORN/NARWHAL      ...</td>\n",
       "      <td>-20.00</td>\n",
       "      <td>MISC_DEBIT</td>\n",
       "      <td></td>\n",
       "      <td>NaN</td>\n",
       "    </tr>\n",
       "    <tr>\n",
       "      <th>2</th>\n",
       "      <td>DEBIT</td>\n",
       "      <td>12/18/2017</td>\n",
       "      <td>PAYPAL           INST XFER  PARKMOBILE      WE...</td>\n",
       "      <td>-2.25</td>\n",
       "      <td>ACH_DEBIT</td>\n",
       "      <td>1099.82</td>\n",
       "      <td>NaN</td>\n",
       "    </tr>\n",
       "    <tr>\n",
       "      <th>3</th>\n",
       "      <td>DEBIT</td>\n",
       "      <td>12/18/2017</td>\n",
       "      <td>PAYPAL           INST XFER  XSOLLA          WE...</td>\n",
       "      <td>-4.99</td>\n",
       "      <td>ACH_DEBIT</td>\n",
       "      <td>1102.07</td>\n",
       "      <td>NaN</td>\n",
       "    </tr>\n",
       "    <tr>\n",
       "      <th>4</th>\n",
       "      <td>DEBIT</td>\n",
       "      <td>12/18/2017</td>\n",
       "      <td>FRED MEYE FRED MEYER 0 BELLINGHAM WA         1...</td>\n",
       "      <td>-24.03</td>\n",
       "      <td>DEBIT_CARD</td>\n",
       "      <td>1107.06</td>\n",
       "      <td>NaN</td>\n",
       "    </tr>\n",
       "  </tbody>\n",
       "</table>\n",
       "</div>"
      ],
      "text/plain": [
       "  Details Posting Date                                        Description  \\\n",
       "0   DEBIT   12/19/2017  POS DEBIT                UNICORN/NARWHAL      ...   \n",
       "1   DEBIT   12/19/2017  POS DEBIT                UNICORN/NARWHAL      ...   \n",
       "2   DEBIT   12/18/2017  PAYPAL           INST XFER  PARKMOBILE      WE...   \n",
       "3   DEBIT   12/18/2017  PAYPAL           INST XFER  XSOLLA          WE...   \n",
       "4   DEBIT   12/18/2017  FRED MEYE FRED MEYER 0 BELLINGHAM WA         1...   \n",
       "\n",
       "   Amount        Type  Balance  Check or Slip #  \n",
       "0   -6.50  MISC_DEBIT                       NaN  \n",
       "1  -20.00  MISC_DEBIT                       NaN  \n",
       "2   -2.25   ACH_DEBIT  1099.82              NaN  \n",
       "3   -4.99   ACH_DEBIT  1102.07              NaN  \n",
       "4  -24.03  DEBIT_CARD  1107.06              NaN  "
      ]
     },
     "execution_count": 92,
     "metadata": {},
     "output_type": "execute_result"
    },
    {
     "data": {
      "text/plain": [
       "0      6.50\n",
       "1     20.00\n",
       "2      2.25\n",
       "3      4.99\n",
       "4     24.03\n",
       "5      9.50\n",
       "6     17.00\n",
       "7      6.51\n",
       "8      5.82\n",
       "9    108.70\n",
       "Name: Amount, dtype: float64"
      ]
     },
     "execution_count": 92,
     "metadata": {},
     "output_type": "execute_result"
    },
    {
     "data": {
      "text/plain": [
       "count    1336.000000\n",
       "mean       17.437013\n",
       "std        22.182901\n",
       "min         0.170000\n",
       "25%         4.947500\n",
       "50%         9.000000\n",
       "75%        22.500000\n",
       "max       183.100000\n",
       "Name: Amount, dtype: float64"
      ]
     },
     "execution_count": 92,
     "metadata": {},
     "output_type": "execute_result"
    },
    {
     "data": {
      "text/plain": [
       "2.3908629441624365"
      ]
     },
     "execution_count": 92,
     "metadata": {},
     "output_type": "execute_result"
    }
   ],
   "source": [
    "#  Let's get a more interesting dataset\n",
    "df = pd.read_csv(r'C:\\Users\\Alex Loftus\\Dropbox\\Programming\\Projects\\Jupyter-Notebooks\\Chase-acct-info\\Checking-11-23-2017.CSV')\n",
    "bal = df['Balance']\n",
    "amt = df['Amount']\n",
    "\n",
    "df.head()\n",
    "amt = pd.to_numeric(amt)\n",
    "inc = amt[amt>0]  # All income\n",
    "spn = amt[amt<0].abs()\n",
    "spn = spn[spn<200]  # Spending less than $200\n",
    "spn.head(10)\n",
    "spn.describe()\n",
    "spn[spn<spn.mean()].count() / spn[spn>spn.mean()].count()  # Ratio of spn.count() less than mean to spn.count() greater than mean\n",
    "\n",
    "#  spn = all spending < $200\n",
    "#  inc = all income"
   ]
  },
  {
   "cell_type": "code",
   "execution_count": 93,
   "metadata": {},
   "outputs": [
    {
     "data": {
      "text/plain": [
       "1    20.00\n",
       "2     2.25\n",
       "3     4.99\n",
       "Name: Amount, dtype: float64"
      ]
     },
     "execution_count": 93,
     "metadata": {},
     "output_type": "execute_result"
    },
    {
     "data": {
      "text/plain": [
       "0     6.50\n",
       "1    20.00\n",
       "2     2.25\n",
       "3     4.99\n",
       "4    24.03\n",
       "Name: Amount, dtype: float64"
      ]
     },
     "execution_count": 93,
     "metadata": {},
     "output_type": "execute_result"
    },
    {
     "data": {
      "text/plain": [
       "0    6.651416e+02\n",
       "1    4.851652e+08\n",
       "2    9.487736e+00\n",
       "3    1.469364e+02\n",
       "4    2.729584e+10\n",
       "Name: Amount, dtype: float64"
      ]
     },
     "execution_count": 93,
     "metadata": {},
     "output_type": "execute_result"
    }
   ],
   "source": [
    "#  Play around with using numpy operations on Series\n",
    "spn[[1, 2, 3]]\n",
    "spn.head()\n",
    "np.exp(spn.head())\n",
    "?np.exp"
   ]
  },
  {
   "cell_type": "markdown",
   "metadata": {},
   "source": [
    "### Series is dict-like"
   ]
  },
  {
   "cell_type": "code",
   "execution_count": 94,
   "metadata": {},
   "outputs": [
    {
     "data": {
      "text/plain": [
       "2.25"
      ]
     },
     "execution_count": 94,
     "metadata": {},
     "output_type": "execute_result"
    }
   ],
   "source": [
    "# As in, you can get stuff pretty much just like a dict\n",
    "\n",
    "fspn = spn.head(20)  # First 20 elements of fspn\n",
    "fspn.get(2)"
   ]
  },
  {
   "cell_type": "markdown",
   "metadata": {},
   "source": [
    "### Vectorized operations with Series"
   ]
  },
  {
   "cell_type": "code",
   "execution_count": 95,
   "metadata": {},
   "outputs": [
    {
     "data": {
      "text/plain": [
       "0       6.50\n",
       "1      20.00\n",
       "2       2.25\n",
       "3       4.99\n",
       "4      24.03\n",
       "5       9.50\n",
       "6      17.00\n",
       "7       6.51\n",
       "8       5.82\n",
       "9     108.70\n",
       "10     14.12\n",
       "11      2.25\n",
       "12      3.86\n",
       "13      8.25\n",
       "14     14.50\n",
       "15     82.75\n",
       "17     22.00\n",
       "18     16.29\n",
       "19     12.87\n",
       "22      4.99\n",
       "Name: Amount, dtype: float64"
      ]
     },
     "execution_count": 95,
     "metadata": {},
     "output_type": "execute_result"
    }
   ],
   "source": [
    "fspn"
   ]
  },
  {
   "cell_type": "code",
   "execution_count": 96,
   "metadata": {},
   "outputs": [
    {
     "data": {
      "text/plain": [
       "1    20.00\n",
       "2     2.25\n",
       "3     4.99\n",
       "4    24.03\n",
       "Name: Amount, dtype: float64"
      ]
     },
     "execution_count": 96,
     "metadata": {},
     "output_type": "execute_result"
    },
    {
     "data": {
      "text/plain": [
       "0     6.50\n",
       "1    20.00\n",
       "2     2.25\n",
       "3     4.99\n",
       "4    24.03\n",
       "Name: Amount, dtype: float64"
      ]
     },
     "execution_count": 96,
     "metadata": {},
     "output_type": "execute_result"
    },
    {
     "data": {
      "text/plain": [
       "0      NaN\n",
       "1    40.00\n",
       "2     4.50\n",
       "3     9.98\n",
       "4    48.06\n",
       "Name: Amount, dtype: float64"
      ]
     },
     "execution_count": 96,
     "metadata": {},
     "output_type": "execute_result"
    }
   ],
   "source": [
    "fspn.head()[1:]\n",
    "fspn.head()[:5]\n",
    "fspn.head()[1:] + fspn.head()[:5]  # First comes up NaN, they add at the same index"
   ]
  },
  {
   "cell_type": "markdown",
   "metadata": {
    "collapsed": true
   },
   "source": [
    "### Name attribute"
   ]
  },
  {
   "cell_type": "code",
   "execution_count": 97,
   "metadata": {},
   "outputs": [
    {
     "data": {
      "text/plain": [
       "0       6.50\n",
       "1      20.00\n",
       "2       2.25\n",
       "3       4.99\n",
       "4      24.03\n",
       "5       9.50\n",
       "6      17.00\n",
       "7       6.51\n",
       "8       5.82\n",
       "9     108.70\n",
       "10     14.12\n",
       "11      2.25\n",
       "12      3.86\n",
       "13      8.25\n",
       "14     14.50\n",
       "15     82.75\n",
       "17     22.00\n",
       "18     16.29\n",
       "19     12.87\n",
       "22      4.99\n",
       "Name: First 20 Expenditures, dtype: float64"
      ]
     },
     "execution_count": 97,
     "metadata": {},
     "output_type": "execute_result"
    },
    {
     "data": {
      "text/plain": [
       "'First 20 Expenditures'"
      ]
     },
     "execution_count": 97,
     "metadata": {},
     "output_type": "execute_result"
    },
    {
     "data": {
      "text/plain": [
       "0       6.50\n",
       "1      20.00\n",
       "2       2.25\n",
       "3       4.99\n",
       "4      24.03\n",
       "5       9.50\n",
       "6      17.00\n",
       "7       6.51\n",
       "8       5.82\n",
       "9     108.70\n",
       "10     14.12\n",
       "11      2.25\n",
       "12      3.86\n",
       "13      8.25\n",
       "14     14.50\n",
       "15     82.75\n",
       "17     22.00\n",
       "18     16.29\n",
       "19     12.87\n",
       "22      4.99\n",
       "Name: 1st 20, dtype: float64"
      ]
     },
     "execution_count": 97,
     "metadata": {},
     "output_type": "execute_result"
    },
    {
     "data": {
      "text/plain": [
       "'First 20 Expenditures'"
      ]
     },
     "execution_count": 97,
     "metadata": {},
     "output_type": "execute_result"
    }
   ],
   "source": [
    "fspn = pd.Series(fspn, name='First 20 Expenditures')  # First argument is what's in the series\n",
    "fspn\n",
    "fspn.name  # No () because it's an attribute, not a function call\n",
    "fspn.rename('1st 20')  # Doesn't actively rename the function\n",
    "fspn.name\n",
    "fspn = fspn.rename('1st 20 Expenditures')  # *now* the fspn Series is actually renamed"
   ]
  },
  {
   "cell_type": "markdown",
   "metadata": {
    "collapsed": true
   },
   "source": [
    "## DataFrame "
   ]
  },
  {
   "cell_type": "markdown",
   "metadata": {
    "collapsed": true
   },
   "source": [
    "#### They're just columns of Series"
   ]
  },
  {
   "cell_type": "markdown",
   "metadata": {},
   "source": [
    "## From dict of Series or dicts "
   ]
  },
  {
   "cell_type": "code",
   "execution_count": 98,
   "metadata": {
    "scrolled": false
   },
   "outputs": [
    {
     "data": {
      "text/plain": [
       "a    1.0\n",
       "b    2.0\n",
       "c    3.0\n",
       "dtype: float64"
      ]
     },
     "execution_count": 98,
     "metadata": {},
     "output_type": "execute_result"
    },
    {
     "data": {
      "text/html": [
       "<div>\n",
       "<style>\n",
       "    .dataframe thead tr:only-child th {\n",
       "        text-align: right;\n",
       "    }\n",
       "\n",
       "    .dataframe thead th {\n",
       "        text-align: left;\n",
       "    }\n",
       "\n",
       "    .dataframe tbody tr th {\n",
       "        vertical-align: top;\n",
       "    }\n",
       "</style>\n",
       "<table border=\"1\" class=\"dataframe\">\n",
       "  <thead>\n",
       "    <tr style=\"text-align: right;\">\n",
       "      <th></th>\n",
       "      <th>one</th>\n",
       "      <th>two</th>\n",
       "    </tr>\n",
       "  </thead>\n",
       "  <tbody>\n",
       "    <tr>\n",
       "      <th>a</th>\n",
       "      <td>1.0</td>\n",
       "      <td>1.0</td>\n",
       "    </tr>\n",
       "    <tr>\n",
       "      <th>b</th>\n",
       "      <td>2.0</td>\n",
       "      <td>2.0</td>\n",
       "    </tr>\n",
       "    <tr>\n",
       "      <th>c</th>\n",
       "      <td>3.0</td>\n",
       "      <td>3.0</td>\n",
       "    </tr>\n",
       "    <tr>\n",
       "      <th>d</th>\n",
       "      <td>NaN</td>\n",
       "      <td>4.0</td>\n",
       "    </tr>\n",
       "  </tbody>\n",
       "</table>\n",
       "</div>"
      ],
      "text/plain": [
       "   one  two\n",
       "a  1.0  1.0\n",
       "b  2.0  2.0\n",
       "c  3.0  3.0\n",
       "d  NaN  4.0"
      ]
     },
     "execution_count": 98,
     "metadata": {},
     "output_type": "execute_result"
    }
   ],
   "source": [
    "d = {'one' : pd.Series([1., 2., 3.], index=['a', 'b', 'c']), \n",
    "     'two' : pd.Series([1., 2., 3., 4], index=['a', 'b', 'c', 'd'])}\n",
    "d['one']\n",
    "\n",
    "df2 = pd.DataFrame(d)\n",
    "df2"
   ]
  },
  {
   "cell_type": "code",
   "execution_count": 99,
   "metadata": {},
   "outputs": [
    {
     "data": {
      "text/html": [
       "<div>\n",
       "<style>\n",
       "    .dataframe thead tr:only-child th {\n",
       "        text-align: right;\n",
       "    }\n",
       "\n",
       "    .dataframe thead th {\n",
       "        text-align: left;\n",
       "    }\n",
       "\n",
       "    .dataframe tbody tr th {\n",
       "        vertical-align: top;\n",
       "    }\n",
       "</style>\n",
       "<table border=\"1\" class=\"dataframe\">\n",
       "  <thead>\n",
       "    <tr style=\"text-align: right;\">\n",
       "      <th></th>\n",
       "      <th>one</th>\n",
       "      <th>two</th>\n",
       "    </tr>\n",
       "  </thead>\n",
       "  <tbody>\n",
       "    <tr>\n",
       "      <th>d</th>\n",
       "      <td>NaN</td>\n",
       "      <td>4.0</td>\n",
       "    </tr>\n",
       "    <tr>\n",
       "      <th>b</th>\n",
       "      <td>2.0</td>\n",
       "      <td>2.0</td>\n",
       "    </tr>\n",
       "    <tr>\n",
       "      <th>a</th>\n",
       "      <td>1.0</td>\n",
       "      <td>1.0</td>\n",
       "    </tr>\n",
       "  </tbody>\n",
       "</table>\n",
       "</div>"
      ],
      "text/plain": [
       "   one  two\n",
       "d  NaN  4.0\n",
       "b  2.0  2.0\n",
       "a  1.0  1.0"
      ]
     },
     "execution_count": 99,
     "metadata": {},
     "output_type": "execute_result"
    },
    {
     "data": {
      "text/html": [
       "<div>\n",
       "<style>\n",
       "    .dataframe thead tr:only-child th {\n",
       "        text-align: right;\n",
       "    }\n",
       "\n",
       "    .dataframe thead th {\n",
       "        text-align: left;\n",
       "    }\n",
       "\n",
       "    .dataframe tbody tr th {\n",
       "        vertical-align: top;\n",
       "    }\n",
       "</style>\n",
       "<table border=\"1\" class=\"dataframe\">\n",
       "  <thead>\n",
       "    <tr style=\"text-align: right;\">\n",
       "      <th></th>\n",
       "      <th>two</th>\n",
       "      <th>three</th>\n",
       "    </tr>\n",
       "  </thead>\n",
       "  <tbody>\n",
       "    <tr>\n",
       "      <th>d</th>\n",
       "      <td>4.0</td>\n",
       "      <td>NaN</td>\n",
       "    </tr>\n",
       "    <tr>\n",
       "      <th>b</th>\n",
       "      <td>2.0</td>\n",
       "      <td>NaN</td>\n",
       "    </tr>\n",
       "    <tr>\n",
       "      <th>a</th>\n",
       "      <td>1.0</td>\n",
       "      <td>NaN</td>\n",
       "    </tr>\n",
       "  </tbody>\n",
       "</table>\n",
       "</div>"
      ],
      "text/plain": [
       "   two three\n",
       "d  4.0   NaN\n",
       "b  2.0   NaN\n",
       "a  1.0   NaN"
      ]
     },
     "execution_count": 99,
     "metadata": {},
     "output_type": "execute_result"
    }
   ],
   "source": [
    "# Index and column arguments physically change the DataFrame based on where the indexes/columns were before\n",
    "\n",
    "pd.DataFrame(d, index=['d', 'b', 'a'])\n",
    "pd.DataFrame(d, index=['d', 'b', 'a',], columns=['two', 'three'])"
   ]
  },
  {
   "cell_type": "markdown",
   "metadata": {
    "collapsed": true
   },
   "source": [
    "## A brief break for a Medium article"
   ]
  },
  {
   "cell_type": "markdown",
   "metadata": {
    "collapsed": true
   },
   "source": [
    "#### https://medium.com/dunder-data/selecting-subsets-of-data-in-pandas-6fcd0170be9c\n",
    "\n",
    "\"Selecting subsets of data, pt 1\""
   ]
  },
  {
   "cell_type": "code",
   "execution_count": 100,
   "metadata": {},
   "outputs": [
    {
     "data": {
      "text/plain": [
       "RangeIndex(start=0, stop=1504, step=1)"
      ]
     },
     "execution_count": 100,
     "metadata": {},
     "output_type": "execute_result"
    },
    {
     "data": {
      "text/plain": [
       "Index(['Details', 'Posting Date', 'Description', 'Amount', 'Type', 'Balance',\n",
       "       'Check or Slip #'],\n",
       "      dtype='object')"
      ]
     },
     "execution_count": 100,
     "metadata": {},
     "output_type": "execute_result"
    },
    {
     "data": {
      "text/plain": [
       "numpy.ndarray"
      ]
     },
     "execution_count": 100,
     "metadata": {},
     "output_type": "execute_result"
    }
   ],
   "source": [
    "index = df.index\n",
    "columns = df.columns\n",
    "values = df.values\n",
    "\n",
    "index\n",
    "columns\n",
    "type(values)\n",
    "\n",
    "amt = df['Amount'].abs()\n",
    "amt = amt[amt<200]\n",
    "amt.head()\n",
    "type(amt)\n",
    "\n",
    "df.head()\n",
    "df.columns\n",
    "dpab = df[['Balance', 'Amount']]\n",
    "dpab.index = df['Posting Date']\n",
    "dpab.head()\n",
    "\n",
    "dpab[['Amount']].head()  # Make a single-column DataFrame with [['item']]\n",
    "\n",
    "#dpab.loc[['11/9/2017', '11/10/2017', '11/11/2017', '11/12/2017', '11/13/2017', '11/14/2017']]\n",
    "dpab = dpab.loc[:'9/1/2017']  # dpab now only stretches back to september\n",
    "#dpab[20::10]\n",
    "dpab.loc[:'12/1/2017']\n",
    "\n",
    "\n",
    "\n",
    "\n",
    "\n",
    "\n",
    "\n"
   ]
  }
 ],
 "metadata": {
  "kernelspec": {
   "display_name": "Python 3",
   "language": "python",
   "name": "python3"
  },
  "language_info": {
   "codemirror_mode": {
    "name": "ipython",
    "version": 3
   },
   "file_extension": ".py",
   "mimetype": "text/x-python",
   "name": "python",
   "nbconvert_exporter": "python",
   "pygments_lexer": "ipython3",
   "version": "3.6.3"
  }
 },
 "nbformat": 4,
 "nbformat_minor": 2
}
