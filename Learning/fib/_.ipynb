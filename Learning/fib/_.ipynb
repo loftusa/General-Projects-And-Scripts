{
 "cells": [
  {
   "cell_type": "markdown",
   "metadata": {},
   "source": [
    "# The python way"
   ]
  },
  {
   "cell_type": "code",
   "execution_count": 8,
   "metadata": {},
   "outputs": [],
   "source": [
    "from random import choice\n",
    "from itertools import count, islice\n",
    "\n",
    "random_chromosome = lambda: (choice([0, 1]) for _ in count())\n",
    "random_population = lambda length: (list(islice(random_chromosome(), length)) \n",
    "                                    for _ in count())"
   ]
  },
  {
   "cell_type": "code",
   "execution_count": 19,
   "metadata": {},
   "outputs": [],
   "source": [
    "populations = {length: list(islice(random_population(length), 10))\n",
    "               for length in {5, 10, 20, 50}}"
   ]
  },
  {
   "cell_type": "markdown",
   "metadata": {},
   "source": [
    "- "
   ]
  },
  {
   "cell_type": "code",
   "execution_count": 26,
   "metadata": {},
   "outputs": [
    {
     "data": {
      "text/plain": [
       "[[1, 1, 0, 0, 0],\n",
       " [1, 1, 0, 1, 0],\n",
       " [1, 0, 1, 1, 0],\n",
       " [0, 0, 1, 0, 0],\n",
       " [0, 1, 1, 0, 1],\n",
       " [1, 1, 1, 1, 1],\n",
       " [1, 0, 1, 1, 0],\n",
       " [0, 1, 1, 1, 0],\n",
       " [0, 0, 0, 1, 1],\n",
       " [0, 0, 1, 0, 0]]"
      ]
     },
     "execution_count": 26,
     "metadata": {},
     "output_type": "execute_result"
    }
   ],
   "source": [
    "populations[5]"
   ]
  },
  {
   "cell_type": "code",
   "execution_count": 27,
   "metadata": {},
   "outputs": [],
   "source": [
    "# Figure out fitness: represent fitness as average for each list.\n",
    "def fitness(chromosome):\n",
    "    return sum(chromosome) / len(chromosome)"
   ]
  },
  {
   "cell_type": "code",
   "execution_count": 28,
   "metadata": {},
   "outputs": [
    {
     "data": {
      "text/plain": [
       "0.4"
      ]
     },
     "execution_count": 28,
     "metadata": {},
     "output_type": "execute_result"
    }
   ],
   "source": [
    "fitness(populations[5][0])"
   ]
  },
  {
   "cell_type": "code",
   "execution_count": 29,
   "metadata": {},
   "outputs": [
    {
     "data": {
      "text/plain": [
       "[0.4, 0.6, 0.6, 0.2, 0.6, 1.0, 0.6, 0.6, 0.4, 0.2]"
      ]
     },
     "execution_count": 29,
     "metadata": {},
     "output_type": "execute_result"
    }
   ],
   "source": [
    "[fitness(c) for c in populations[5]]"
   ]
  },
  {
   "cell_type": "code",
   "execution_count": 32,
   "metadata": {},
   "outputs": [],
   "source": [
    "def probabilities(population):\n",
    "    fitnesses = [fitness(c) for c in population]\n",
    "    total_fitness = sum(fitnesses)\n",
    "    return (fitness/total_fitness for fitness in fitnesses)"
   ]
  },
  {
   "cell_type": "code",
   "execution_count": 33,
   "metadata": {},
   "outputs": [
    {
     "data": {
      "text/plain": [
       "[0.07692307692307693,\n",
       " 0.11538461538461538,\n",
       " 0.11538461538461538,\n",
       " 0.038461538461538464,\n",
       " 0.11538461538461538,\n",
       " 0.1923076923076923,\n",
       " 0.11538461538461538,\n",
       " 0.11538461538461538,\n",
       " 0.07692307692307693,\n",
       " 0.038461538461538464]"
      ]
     },
     "execution_count": 33,
     "metadata": {},
     "output_type": "execute_result"
    }
   ],
   "source": [
    "list(probabilities(populations[5]))"
   ]
  },
  {
   "cell_type": "code",
   "execution_count": 56,
   "metadata": {},
   "outputs": [],
   "source": [
    "from random import uniform, randrange\n",
    "from copy import copy\n",
    "\n",
    "def weighted_choice(choices, weights):\n",
    "    totals = [weights[0]]\n",
    "    for weight in weights[1:]:\n",
    "        totals.append(totals[-1] + weight)\n",
    "    threshold = uniform(0, totals[-1])\n",
    "    for choice, total in zip(choices, totals):\n",
    "        if total >= threshold:\n",
    "            return choice\n",
    "    return choice\n",
    "\n",
    "def select(population):\n",
    "    probs = list(probabilities(population))\n",
    "    while True:\n",
    "        x, y = weighted_choice(population, probs), \\\n",
    "               weighted_choice(population, probs)\n",
    "        yield x, y"
   ]
  },
  {
   "cell_type": "code",
   "execution_count": 57,
   "metadata": {},
   "outputs": [
    {
     "data": {
      "text/plain": [
       "'e'"
      ]
     },
     "execution_count": 57,
     "metadata": {},
     "output_type": "execute_result"
    }
   ],
   "source": [
    "weighted_choice('abcde', [0, 1, 0, 1, 1])"
   ]
  },
  {
   "cell_type": "code",
   "execution_count": 58,
   "metadata": {},
   "outputs": [
    {
     "data": {
      "text/plain": [
       "([0, 0, 1, 0, 0], [0, 1, 1, 0, 1])"
      ]
     },
     "execution_count": 58,
     "metadata": {},
     "output_type": "execute_result"
    }
   ],
   "source": [
    "next(select(populations[5]))"
   ]
  },
  {
   "cell_type": "code",
   "execution_count": 59,
   "metadata": {},
   "outputs": [],
   "source": [
    "def mutate(x):\n",
    "    pos = randrange(0, len(x))\n",
    "    z = copy(x)\n",
    "    z[pos] = 0 if z[pos] else 1\n",
    "    return z"
   ]
  },
  {
   "cell_type": "code",
   "execution_count": 60,
   "metadata": {},
   "outputs": [
    {
     "data": {
      "text/plain": [
       "([1, 1, 0, 0, 0], [1, 1, 0, 1, 0])"
      ]
     },
     "execution_count": 60,
     "metadata": {},
     "output_type": "execute_result"
    }
   ],
   "source": [
    "populations[5][0], mutate(populations[5][0])"
   ]
  },
  {
   "cell_type": "code",
   "execution_count": 68,
   "metadata": {},
   "outputs": [],
   "source": [
    "def crossover(x, y):\n",
    "    pos = randrange(0, len(x))\n",
    "    if choice([True, False]):\n",
    "        return x[pos:] + y[:pos]\n",
    "    else:\n",
    "        return y[pos:] + x[:pos]"
   ]
  },
  {
   "cell_type": "code",
   "execution_count": 75,
   "metadata": {},
   "outputs": [
    {
     "data": {
      "text/plain": [
       "([0, 1, 1, 0, 1], [0, 1, 1, 0, 1])"
      ]
     },
     "execution_count": 75,
     "metadata": {},
     "output_type": "execute_result"
    }
   ],
   "source": [
    "x, y = next(select(populations[5]))\n",
    "x, y"
   ]
  },
  {
   "cell_type": "code",
   "execution_count": 76,
   "metadata": {},
   "outputs": [
    {
     "data": {
      "text/plain": [
       "[1, 0, 1, 1, 0]"
      ]
     },
     "execution_count": 76,
     "metadata": {},
     "output_type": "execute_result"
    }
   ],
   "source": [
    "crossover(x, y)"
   ]
  },
  {
   "cell_type": "code",
   "execution_count": 80,
   "metadata": {},
   "outputs": [],
   "source": [
    "def breed(mates, mutation_rate=(1, 10000)):\n",
    "    probs = [True] * mutation_rate[0] + [False] * mutation_rate[-1]\n",
    "    for parents in mates:\n",
    "        child = crossover(*parents)\n",
    "        for _ in (None for _ in range(len(child)) if choice(probs)):\n",
    "            child = mutate(child)\n",
    "        yield child"
   ]
  },
  {
   "cell_type": "code",
   "execution_count": 81,
   "metadata": {},
   "outputs": [
    {
     "data": {
      "text/plain": [
       "[([1, 1, 0, 0, 0], [1, 1, 1, 1, 1]),\n",
       " ([1, 1, 1, 1, 1], [1, 1, 1, 1, 1]),\n",
       " ([0, 1, 1, 1, 0], [0, 1, 1, 1, 0]),\n",
       " ([1, 1, 0, 1, 0], [0, 1, 1, 1, 0]),\n",
       " ([1, 1, 1, 1, 1], [1, 1, 1, 1, 1])]"
      ]
     },
     "execution_count": 81,
     "metadata": {},
     "output_type": "execute_result"
    }
   ],
   "source": [
    "mates = list(islice(select(populations[5]), 5))\n",
    "mates"
   ]
  },
  {
   "cell_type": "code",
   "execution_count": 82,
   "metadata": {},
   "outputs": [
    {
     "data": {
      "text/plain": [
       "[[1, 1, 1, 1, 1],\n",
       " [1, 1, 1, 1, 1],\n",
       " [1, 1, 1, 0, 0],\n",
       " [1, 1, 0, 1, 0],\n",
       " [1, 1, 1, 1, 1]]"
      ]
     },
     "execution_count": 82,
     "metadata": {},
     "output_type": "execute_result"
    }
   ],
   "source": [
    "list(breed(mates))"
   ]
  },
  {
   "cell_type": "code",
   "execution_count": 84,
   "metadata": {},
   "outputs": [
    {
     "name": "stdout",
     "output_type": "stream",
     "text": [
      "CPU times: user 1.83 s, sys: 7.21 ms, total: 1.84 s\n",
      "Wall time: 1.84 s\n"
     ]
    }
   ],
   "source": [
    "%%time\n",
    "\n",
    "NUM_STEPS, POP_SIZE = 100, 100\n",
    "\n",
    "# {5: [steps + runs] }\n",
    "groups = {length: [] for length in {5, 10, 20, 50}}\n",
    "\n",
    "for length, group in groups.items():\n",
    "    population = list(islice(random_population(length), POP_SIZE))\n",
    "    group.append(population)\n",
    "    \n",
    "    for step in range(0, NUM_STEPS):\n",
    "        mates = islice(select(group[-1]), POP_SIZE)\n",
    "        group.append(list(breed(mates)))"
   ]
  },
  {
   "cell_type": "code",
   "execution_count": 181,
   "metadata": {},
   "outputs": [
    {
     "data": {
      "image/png": "[encoded data removed]",
      "text/plain": [
       "<Figure size 432x288 with 1 Axes>"
      ]
     },
     "metadata": {},
     "output_type": "display_data"
    }
   ],
   "source": [
    "for length, group in groups.items():\n",
    "    xs = range(NUM_STEPS+1)\n",
    "    ys = [np.mean([fitness(c) for c in group[step]]) for step in range(NUM_STEPS+1)]\n",
    "    plt.plot(xs, ys, label='bit size={}'.format(length))\n",
    "\n",
    "plt.legend(loc='lower right');"
   ]
  },
  {
   "cell_type": "markdown",
   "metadata": {},
   "source": [
    "# The numpy way"
   ]
  },
  {
   "cell_type": "code",
   "execution_count": 125,
   "metadata": {},
   "outputs": [],
   "source": [
    "import numpy as np\n",
    "\n",
    "from numpy import mean\n",
    "from numpy.random import randint, choice"
   ]
  },
  {
   "cell_type": "code",
   "execution_count": 126,
   "metadata": {},
   "outputs": [
    {
     "data": {
      "text/plain": [
       "array([False, False, False,  True, False])"
      ]
     },
     "execution_count": 126,
     "metadata": {},
     "output_type": "execute_result"
    }
   ],
   "source": [
    "chromosome = randint(0, 2, size=(5,)).astype('bool')\n",
    "chromosome"
   ]
  },
  {
   "cell_type": "code",
   "execution_count": 127,
   "metadata": {},
   "outputs": [],
   "source": [
    "fitness = mean"
   ]
  },
  {
   "cell_type": "code",
   "execution_count": 128,
   "metadata": {},
   "outputs": [
    {
     "data": {
      "text/plain": [
       "array([[ True,  True,  True, False, False],\n",
       "       [False,  True, False, False, False],\n",
       "       [False, False, False,  True,  True],\n",
       "       [ True,  True, False, False, False],\n",
       "       [False,  True,  True,  True,  True],\n",
       "       [False, False, False,  True,  True],\n",
       "       [False, False,  True,  True,  True],\n",
       "       [False,  True,  True, False, False],\n",
       "       [False, False,  True,  True,  True],\n",
       "       [False,  True, False, False,  True]])"
      ]
     },
     "execution_count": 128,
     "metadata": {},
     "output_type": "execute_result"
    }
   ],
   "source": [
    "population = randint(0, 2, size=(10, 5)).astype('bool')\n",
    "population"
   ]
  },
  {
   "cell_type": "code",
   "execution_count": 129,
   "metadata": {},
   "outputs": [],
   "source": [
    "def probabilities(population):\n",
    "    \"\"\" Take mean across axis \"\"\"\n",
    "    fitness = mean(population, axis=1)\n",
    "    return fitness / np.sum(fitness)"
   ]
  },
  {
   "cell_type": "code",
   "execution_count": 132,
   "metadata": {},
   "outputs": [
    {
     "data": {
      "text/plain": [
       "array([0.125     , 0.04166667, 0.08333333, 0.08333333, 0.16666667,\n",
       "       0.08333333, 0.125     , 0.08333333, 0.125     , 0.08333333])"
      ]
     },
     "execution_count": 132,
     "metadata": {},
     "output_type": "execute_result"
    }
   ],
   "source": [
    "probabilities(population)"
   ]
  },
  {
   "cell_type": "code",
   "execution_count": 133,
   "metadata": {},
   "outputs": [
    {
     "data": {
      "text/plain": [
       "array([2, 9])"
      ]
     },
     "execution_count": 133,
     "metadata": {},
     "output_type": "execute_result"
    }
   ],
   "source": [
    "choice(range(0, population.shape[0]), p=probabilities(population), size=2)"
   ]
  },
  {
   "cell_type": "code",
   "execution_count": 135,
   "metadata": {},
   "outputs": [],
   "source": [
    "mates = choice(range(0,population.shape[0]), p=probabilities(population), \n",
    "                 size=(10,2))"
   ]
  },
  {
   "cell_type": "code",
   "execution_count": 136,
   "metadata": {},
   "outputs": [
    {
     "data": {
      "text/plain": [
       "array([[6, 8],\n",
       "       [8, 5],\n",
       "       [3, 0],\n",
       "       [9, 8],\n",
       "       [2, 5],\n",
       "       [0, 9],\n",
       "       [4, 4],\n",
       "       [8, 9],\n",
       "       [1, 0],\n",
       "       [5, 4]])"
      ]
     },
     "execution_count": 136,
     "metadata": {},
     "output_type": "execute_result"
    }
   ],
   "source": [
    "mates"
   ]
  },
  {
   "cell_type": "code",
   "execution_count": 168,
   "metadata": {},
   "outputs": [
    {
     "data": {
      "text/plain": [
       "array([False,  True,  True, False,  True])"
      ]
     },
     "execution_count": 168,
     "metadata": {},
     "output_type": "execute_result"
    }
   ],
   "source": [
    "chromosome[0] ^= True\n",
    "chromosome"
   ]
  },
  {
   "cell_type": "code",
   "execution_count": 151,
   "metadata": {},
   "outputs": [
    {
     "data": {
      "text/plain": [
       "array([ True,  True,  True, False,  True])"
      ]
     },
     "execution_count": 151,
     "metadata": {},
     "output_type": "execute_result"
    }
   ],
   "source": [
    "chromosome[randint(0, population.shape[1])] ^= False\n",
    "chromosome"
   ]
  },
  {
   "cell_type": "code",
   "execution_count": 169,
   "metadata": {},
   "outputs": [
    {
     "data": {
      "text/plain": [
       "(array([ True,  True,  True, False, False]),\n",
       " array([False,  True, False, False, False]))"
      ]
     },
     "execution_count": 169,
     "metadata": {},
     "output_type": "execute_result"
    }
   ],
   "source": [
    "a, b = population[0:2,]\n",
    "a, b"
   ]
  },
  {
   "cell_type": "code",
   "execution_count": 178,
   "metadata": {},
   "outputs": [
    {
     "data": {
      "text/plain": [
       "(0, array([False,  True, False, False, False]))"
      ]
     },
     "execution_count": 178,
     "metadata": {},
     "output_type": "execute_result"
    }
   ],
   "source": [
    "pos = randint(0, a.shape[0])\n",
    "z = np.empty_like(a)\n",
    "z[:pos], z[pos:] = a[:pos], b[pos:]\n",
    "pos, z"
   ]
  },
  {
   "cell_type": "code",
   "execution_count": 180,
   "metadata": {},
   "outputs": [
    {
     "data": {
      "text/plain": [
       "array([[False, False],\n",
       "       [False, False],\n",
       "       [ True,  True],\n",
       "       [False, False],\n",
       "       [ True,  True],\n",
       "       [ True,  True],\n",
       "       [ True,  True],\n",
       "       [False, False],\n",
       "       [ True,  True],\n",
       "       [False,  True]])"
      ]
     },
     "execution_count": 180,
     "metadata": {},
     "output_type": "execute_result"
    }
   ],
   "source": [
    "population[:, 3:6]"
   ]
  }
 ],
 "metadata": {
  "kernelspec": {
   "display_name": "Python 3",
   "language": "python",
   "name": "python3"
  },
  "language_info": {
   "codemirror_mode": {
    "name": "ipython",
    "version": 3
   },
   "file_extension": ".py",
   "mimetype": "text/x-python",
   "name": "python",
   "nbconvert_exporter": "python",
   "pygments_lexer": "ipython3",
   "version": "3.7.1"
  }
 },
 "nbformat": 4,
 "nbformat_minor": 2
}
