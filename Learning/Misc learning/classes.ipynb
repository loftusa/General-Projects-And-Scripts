{
 "cells": [
  {
   "cell_type": "markdown",
   "metadata": {},
   "source": [
    "# Learning how to use classes"
   ]
  },
  {
   "cell_type": "markdown",
   "metadata": {},
   "source": [
    "**Goals:**\n",
    "- Learn how to do everything in a more object-oriented way\n",
    "- Play around with getters and setters\n",
    "- Play around with classmethods\n",
    "- Do something that combines them"
   ]
  },
  {
   "cell_type": "code",
   "execution_count": 60,
   "metadata": {},
   "outputs": [],
   "source": [
    "# Play with getters and setters\n",
    "class Duck():\n",
    "    def __init__(self, input_name):\n",
    "        self.__name = input_name\n",
    "    \n",
    "    @property\n",
    "    def name(self):\n",
    "        print('getter')\n",
    "        return self.__name\n",
    "    @name.setter\n",
    "    def name(self, name):\n",
    "        print('setter')\n",
    "        self.__name = name"
   ]
  },
  {
   "cell_type": "code",
   "execution_count": 62,
   "metadata": {},
   "outputs": [
    {
     "name": "stdout",
     "output_type": "stream",
     "text": [
      "getter\n"
     ]
    },
    {
     "data": {
      "text/plain": [
       "'Alex'"
      ]
     },
     "execution_count": 62,
     "metadata": {},
     "output_type": "execute_result"
    }
   ],
   "source": [
    "f = Duck('Alex')\n",
    "f.name"
   ]
  },
  {
   "cell_type": "code",
   "execution_count": 63,
   "metadata": {},
   "outputs": [
    {
     "name": "stdout",
     "output_type": "stream",
     "text": [
      "setter\n"
     ]
    }
   ],
   "source": [
    "f.name = 'John'"
   ]
  },
  {
   "cell_type": "code",
   "execution_count": 64,
   "metadata": {},
   "outputs": [
    {
     "name": "stdout",
     "output_type": "stream",
     "text": [
      "getter\n"
     ]
    },
    {
     "data": {
      "text/plain": [
       "'John'"
      ]
     },
     "execution_count": 64,
     "metadata": {},
     "output_type": "execute_result"
    }
   ],
   "source": [
    "f.name"
   ]
  },
  {
   "cell_type": "markdown",
   "metadata": {},
   "source": [
    "- A getter is a function with @property above it that retrieves an attribute of an object along with added functionality\n",
    "- A setter is a function with @.. above it that changes an attribute of an object along with added functionality\n",
    "- These are just fancy ways of changing attributes such that changing an attribute also does something else"
   ]
  },
  {
   "cell_type": "code",
   "execution_count": 101,
   "metadata": {},
   "outputs": [],
   "source": [
    "# Make a sphere class with a radius and a computed volume and surface area\n",
    "import numpy as np\n",
    "\n",
    "class Sphere:\n",
    "    def __init__(self, radius):\n",
    "        self.radius = radius\n",
    "        self.surface_area = 4 * np.pi * (self.radius ** 2)\n",
    "        self.volume = 4/3 * np.pi * (self.radius ** 3)"
   ]
  },
  {
   "cell_type": "code",
   "execution_count": 205,
   "metadata": {},
   "outputs": [],
   "source": [
    "# TODO: make a classmethod that counts the number of Sphere objects\n",
    "# TODO: make a classmethod that counts the number of times 'sa' has been called\n",
    "from collections import Counter\n",
    "\n",
    "class Sphere:\n",
    "    cnt = 0\n",
    "    def __init__(self, radius):\n",
    "        self.radius = radius  # Attach a radius attribute to any instance of the Sphere object\n",
    "        \n",
    "    def __repr__(self):  # Change what's echoed to interactive interpreter\n",
    "        return str(self.sa)\n",
    "    \n",
    "    def __str__(self):  # Change what the output is when you call str(self)\n",
    "        return str(self.radius)\n",
    "    \n",
    "    @property\n",
    "    def sa(self):\n",
    "        Sphere.cnt += 1  # Count number of times sa has been called by making a class variable\n",
    "        return 4 * np.pi * (self.radius ** 2)\n",
    "    \n",
    "    @property\n",
    "    def volume(self):\n",
    "        return 4/3 * np.pi * (self.radius ** 3)\n",
    "    \n",
    "    @classmethod\n",
    "    def n_spheres(cls):\n",
    "        return cnt"
   ]
  },
  {
   "cell_type": "code",
   "execution_count": 202,
   "metadata": {},
   "outputs": [
    {
     "data": {
      "text/plain": [
       "4"
      ]
     },
     "execution_count": 202,
     "metadata": {},
     "output_type": "execute_result"
    }
   ],
   "source": [
    "# Return number of sphere objects\n",
    "a = Sphere(1)\n",
    "b = Sphere(2)\n",
    "c = Sphere(3)\n",
    "\n",
    "Sphere.cnt"
   ]
  },
  {
   "cell_type": "code",
   "execution_count": 206,
   "metadata": {},
   "outputs": [],
   "source": [
    "# Make a class called Thing with no contents and print it.\n",
    "\n",
    "class Thing:\n",
    "    pass\n",
    "\n",
    "example = Thing"
   ]
  },
  {
   "cell_type": "code",
   "execution_count": 207,
   "metadata": {},
   "outputs": [
    {
     "name": "stdout",
     "output_type": "stream",
     "text": [
      "<class '__main__.Thing'>\n",
      "<class '__main__.Thing'>\n"
     ]
    }
   ],
   "source": [
    "print(Thing)\n",
    "print(example)"
   ]
  },
  {
   "cell_type": "code",
   "execution_count": 208,
   "metadata": {},
   "outputs": [
    {
     "name": "stdout",
     "output_type": "stream",
     "text": [
      "abc\n"
     ]
    }
   ],
   "source": [
    "# Make a class called Thing2. Assign a value to a class attribute called letters, print letters.\n",
    "\n",
    "class Thing2:\n",
    "    letters = 'abc'\n",
    "\n",
    "print(Thing2.letters)"
   ]
  },
  {
   "cell_type": "code",
   "execution_count": 214,
   "metadata": {},
   "outputs": [],
   "source": [
    "# Make a class called Thing3. Assign 'xyz' to an object attribute called letters. Print letters.\n",
    "\n",
    "class Thing3:\n",
    "    def __init__(self):\n",
    "        self.letters = 'xyz'\n",
    "\n",
    "Thing3.letters  # Returns an error. So if letters is an object attribute, then it'll only exist upon instantiation of a specific Thing3 object."
   ]
  },
  {
   "cell_type": "code",
   "execution_count": 271,
   "metadata": {},
   "outputs": [],
   "source": [
    "# Make a class called Element, with instance attributes name, symbol, and number. Create an object of this class with values 'Hydrogen', 'H', and 1.\n",
    "\n",
    "class Element:\n",
    "    def __init__(self, name, symbol, number):\n",
    "        self.name = name\n",
    "        self.symbol = symbol\n",
    "        self.number = number"
   ]
  },
  {
   "cell_type": "code",
   "execution_count": 273,
   "metadata": {},
   "outputs": [
    {
     "name": "stdout",
     "output_type": "stream",
     "text": [
      "{'name': 'Hydrogen', 'symbol': 'H', 'number': 1}\n",
      "{'name': 'Hydrogen', 'symbol': 'H', 'number': 1}\n"
     ]
    }
   ],
   "source": [
    "# Make a dictionary of properties for a Hydrogen element, instantiate hydrogen as a member of the Element class.\n",
    "\n",
    "hdct = dict((['name', 'Hydrogen'], ['symbol', 'H'], ['number', 1]))  # Dictionaries can be created from tuples of mixed iterables\n",
    "hydrogen = Element(**hdct)  # Dictionary unpacking\n",
    "\n",
    "print(hdct)\n",
    "print(hydrogen.__dict__)"
   ]
  },
  {
   "cell_type": "code",
   "execution_count": 264,
   "metadata": {},
   "outputs": [],
   "source": [
    "# Make a class called Element, with instance attributes name, symbol, and number. Create an object of this class with values 'Hydrogen', 'H', and 1.\n",
    "\n",
    "class Element:\n",
    "    def __init__(self, *args, **kwargs):\n",
    "        for i in args:\n",
    "            print(i)"
   ]
  },
  {
   "cell_type": "code",
   "execution_count": 267,
   "metadata": {},
   "outputs": [
    {
     "name": "stdout",
     "output_type": "stream",
     "text": [
      "a\n",
      "b\n",
      "c\n",
      "d\n"
     ]
    }
   ],
   "source": [
    "a = Element(*l)"
   ]
  },
  {
   "cell_type": "code",
   "execution_count": 355,
   "metadata": {},
   "outputs": [
    {
     "data": {
      "text/plain": [
       "[4, 5, 4, 4]"
      ]
     },
     "execution_count": 355,
     "metadata": {},
     "output_type": "execute_result"
    }
   ],
   "source": [
    "# For the Element class, define a method called dump() that prints the values of the object's attributes. Create the hydrogen object from this new definition, then dump its attributes.\n",
    "\n",
    "# TODO: figure out why this is getting a red error\n",
    "class Element:\n",
    "    def __init__(self, num, *args):\n",
    "        self.num = num\n",
    "        self.args = args\n",
    "        self.squared_args = map(self.Squared, self.args)\n",
    "    \n",
    "    def Squared(self, arg):\n",
    "        return arg ** 2\n",
    "    \n",
    "        \n",
    "f = Element(5, 2, 2, 2)\n",
    "l = list(f.squared_args)\n",
    "l.insert(1, 5)\n",
    "l"
   ]
  },
  {
   "cell_type": "code",
   "execution_count": null,
   "metadata": {},
   "outputs": [],
   "source": []
  }
 ],
 "metadata": {
  "kernelspec": {
   "display_name": "Python 3",
   "language": "python",
   "name": "python3"
  },
  "language_info": {
   "codemirror_mode": {
    "name": "ipython",
    "version": 3
   },
   "file_extension": ".py",
   "mimetype": "text/x-python",
   "name": "python",
   "nbconvert_exporter": "python",
   "pygments_lexer": "ipython3",
   "version": "3.6.6"
  }
 },
 "nbformat": 4,
 "nbformat_minor": 2
}
