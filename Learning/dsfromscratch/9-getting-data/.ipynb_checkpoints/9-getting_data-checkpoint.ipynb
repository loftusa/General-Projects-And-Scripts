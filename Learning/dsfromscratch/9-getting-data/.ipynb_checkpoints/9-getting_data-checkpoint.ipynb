{
 "cells": [
  {
   "cell_type": "markdown",
   "metadata": {},
   "source": [
    "# Getting Data"
   ]
  },
  {
   "cell_type": "markdown",
   "metadata": {},
   "source": [
    "Here's how to get data using python's standard library."
   ]
  },
  {
   "cell_type": "markdown",
   "metadata": {},
   "source": [
    "## stdin and stdout"
   ]
  },
  {
   "cell_type": "code",
   "execution_count": 13,
   "metadata": {},
   "outputs": [],
   "source": [
    "ls = ['a', 'b']\n",
    "a, b = ls"
   ]
  },
  {
   "cell_type": "code",
   "execution_count": 16,
   "metadata": {},
   "outputs": [
    {
     "name": "stdout",
     "output_type": "stream",
     "text": [
      "wrong number of arguments\n"
     ]
    }
   ],
   "source": [
    "# Make a script that reads in lines of text and spits out the ones that match a regular expression\n",
    "# Turn this ipynb file into a python script after I'm done, then test on the command line\n",
    "\n",
    "import sys, re\n",
    "\n",
    "file, *re = sys.argv\n",
    "\n",
    "def read_and_return(file, re):\n",
    "    with open(file, 'r') as f:\n",
    "        for i in f.readlines():\n",
    "            print(i)\n",
    "\n",
    "if len(sys.argv) == 2:\n",
    "    read_and_return(file, re)\n",
    "else:\n",
    "    print('wrong number of arguments')"
   ]
  }
 ],
 "metadata": {
  "kernelspec": {
   "display_name": "Python 3",
   "language": "python",
   "name": "python3"
  },
  "language_info": {
   "codemirror_mode": {
    "name": "ipython",
    "version": 3
   },
   "file_extension": ".py",
   "mimetype": "text/x-python",
   "name": "python",
   "nbconvert_exporter": "python",
   "pygments_lexer": "ipython3",
   "version": "3.7.1"
  }
 },
 "nbformat": 4,
 "nbformat_minor": 2
}
