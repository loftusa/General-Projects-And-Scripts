{
 "cells": [
  {
   "cell_type": "markdown",
   "metadata": {},
   "source": [
    "# Statistics Book Problems: Chapter 1"
   ]
  },
  {
   "cell_type": "markdown",
   "metadata": {},
   "source": [
    "## Problems 1-3, 4b, 5, 8"
   ]
  },
  {
   "cell_type": "code",
   "execution_count": 93,
   "metadata": {
    "collapsed": true
   },
   "outputs": [],
   "source": [
    "#  Import the golden standards\n",
    "import numpy as np\n",
    "import matplotlib.pyplot as plt\n",
    "import pandas as pd\n",
    "%matplotlib inline\n",
    "from IPython.core.interactiveshell import InteractiveShell\n",
    "InteractiveShell.ast_node_interactivity = 'all'"
   ]
  },
  {
   "cell_type": "markdown",
   "metadata": {},
   "source": [
    "#### Let S be the set of all restaurants in Walla Walla, Washington. Assume S contains 140 elementary events. Define F as the set of all French restaurants and assume that F contains 32 elementary events. Define T as the set of restaurants that require men to wear ties and jackets, and assume that T contains 48 elementary events. Assume that 20 of the french restaurants require a tie.\n",
    "\n",
    "#### b. Represent the situation as two contingency tables"
   ]
  },
  {
   "cell_type": "code",
   "execution_count": 94,
   "metadata": {},
   "outputs": [],
   "source": [
    "S = pd.Series((np.ones(140)))  # Total number of restaurants\n",
    "F = pd.Series(np.ones(32))  # Set of french restaurants\n",
    "T = pd.Series(np.ones(48))  # Set of restaurants requiring ties and jackets"
   ]
  },
  {
   "cell_type": "markdown",
   "metadata": {},
   "source": [
    "### Frequency Contingency Table"
   ]
  },
  {
   "cell_type": "code",
   "execution_count": 95,
   "metadata": {
    "scrolled": true
   },
   "outputs": [
    {
     "data": {
      "text/html": [
       "<div>\n",
       "<style>\n",
       "    .dataframe thead tr:only-child th {\n",
       "        text-align: right;\n",
       "    }\n",
       "\n",
       "    .dataframe thead th {\n",
       "        text-align: left;\n",
       "    }\n",
       "\n",
       "    .dataframe tbody tr th {\n",
       "        vertical-align: top;\n",
       "    }\n",
       "</style>\n",
       "<table border=\"1\" class=\"dataframe\">\n",
       "  <thead>\n",
       "    <tr style=\"text-align: right;\">\n",
       "      <th></th>\n",
       "      <th>French</th>\n",
       "      <th>~French</th>\n",
       "      <th>Total</th>\n",
       "    </tr>\n",
       "  </thead>\n",
       "  <tbody>\n",
       "    <tr>\n",
       "      <th>Ties</th>\n",
       "      <td>20</td>\n",
       "      <td>28</td>\n",
       "      <td>48</td>\n",
       "    </tr>\n",
       "    <tr>\n",
       "      <th>~Ties</th>\n",
       "      <td>12</td>\n",
       "      <td>80</td>\n",
       "      <td>92</td>\n",
       "    </tr>\n",
       "    <tr>\n",
       "      <th>Total</th>\n",
       "      <td>32</td>\n",
       "      <td>108</td>\n",
       "      <td>140</td>\n",
       "    </tr>\n",
       "  </tbody>\n",
       "</table>\n",
       "</div>"
      ],
      "text/plain": [
       "       French  ~French  Total\n",
       "Ties       20       28     48\n",
       "~Ties      12       80     92\n",
       "Total      32      108    140"
      ]
     },
     "execution_count": 95,
     "metadata": {},
     "output_type": "execute_result"
    }
   ],
   "source": [
    "frq = pd.DataFrame(index=['Ties', '~Ties', 'Total'], columns = ['French', '~French', 'Total'])\n",
    "\n",
    "S = 140  # Sample space\n",
    "F = 32  # French\n",
    "T = 48  # Ties\n",
    "NF = S - F\n",
    "NT = S - T\n",
    "\n",
    "frq.iloc[2,2] = S  # Total events in sample space\n",
    "frq.iloc[2, 0] = F  # Total french restaurants\n",
    "frq.iloc[2, 1] = S - F  # Total not-french restaurants\n",
    "frq.iloc[0, 2] = T  # Total restaurants with ties\n",
    "frq.iloc[1, 2] = S - T  # Total restaurants that don't care about ties\n",
    "frq['French'] = 20, F-20, F\n",
    "frq['~French'] = T-20, NF-(T-20), NF\n",
    "frq['Total'] = T, NT, S\n",
    "\n",
    "frq"
   ]
  },
  {
   "cell_type": "markdown",
   "metadata": {},
   "source": [
    "### Probability contingency table"
   ]
  },
  {
   "cell_type": "code",
   "execution_count": 96,
   "metadata": {
    "scrolled": true
   },
   "outputs": [
    {
     "data": {
      "text/html": [
       "<div>\n",
       "<style>\n",
       "    .dataframe thead tr:only-child th {\n",
       "        text-align: right;\n",
       "    }\n",
       "\n",
       "    .dataframe thead th {\n",
       "        text-align: left;\n",
       "    }\n",
       "\n",
       "    .dataframe tbody tr th {\n",
       "        vertical-align: top;\n",
       "    }\n",
       "</style>\n",
       "<table border=\"1\" class=\"dataframe\">\n",
       "  <thead>\n",
       "    <tr style=\"text-align: right;\">\n",
       "      <th></th>\n",
       "      <th>French</th>\n",
       "      <th>~French</th>\n",
       "      <th>Total</th>\n",
       "    </tr>\n",
       "  </thead>\n",
       "  <tbody>\n",
       "    <tr>\n",
       "      <th>Ties</th>\n",
       "      <td>0.142857</td>\n",
       "      <td>0.200000</td>\n",
       "      <td>0.342857</td>\n",
       "    </tr>\n",
       "    <tr>\n",
       "      <th>~Ties</th>\n",
       "      <td>0.085714</td>\n",
       "      <td>0.571429</td>\n",
       "      <td>0.657143</td>\n",
       "    </tr>\n",
       "    <tr>\n",
       "      <th>Total</th>\n",
       "      <td>0.228571</td>\n",
       "      <td>0.771429</td>\n",
       "      <td>1.000000</td>\n",
       "    </tr>\n",
       "  </tbody>\n",
       "</table>\n",
       "</div>"
      ],
      "text/plain": [
       "         French   ~French     Total\n",
       "Ties   0.142857  0.200000  0.342857\n",
       "~Ties  0.085714  0.571429  0.657143\n",
       "Total  0.228571  0.771429  1.000000"
      ]
     },
     "execution_count": 96,
     "metadata": {},
     "output_type": "execute_result"
    }
   ],
   "source": [
    "# Computes independent p(all values)\n",
    "\n",
    "prb = frq  # Create a skeleton probability df from frq\n",
    "prb['French'] = prb['French'] / S\n",
    "prb['~French'] = prb['~French'] / S\n",
    "prb['Total'] = prb['Total'] / S\n",
    "\n",
    "prb"
   ]
  },
  {
   "cell_type": "markdown",
   "metadata": {},
   "source": [
    "### Answer questions"
   ]
  },
  {
   "cell_type": "code",
   "execution_count": 104,
   "metadata": {},
   "outputs": [
    {
     "data": {
      "text/plain": [
       "0.22857142857142856"
      ]
     },
     "execution_count": 104,
     "metadata": {},
     "output_type": "execute_result"
    },
    {
     "data": {
      "text/plain": [
       "0.34285714285714286"
      ]
     },
     "execution_count": 104,
     "metadata": {},
     "output_type": "execute_result"
    },
    {
     "data": {
      "text/plain": [
       "0.14285714285714285"
      ]
     },
     "execution_count": 104,
     "metadata": {},
     "output_type": "execute_result"
    },
    {
     "data": {
      "text/plain": [
       "0.42857142857142855"
      ]
     },
     "execution_count": 104,
     "metadata": {},
     "output_type": "execute_result"
    },
    {
     "data": {
      "text/plain": [
       "0.20000000000000001"
      ]
     },
     "execution_count": 104,
     "metadata": {},
     "output_type": "execute_result"
    },
    {
     "data": {
      "text/plain": [
       "0.085714285714285715"
      ]
     },
     "execution_count": 104,
     "metadata": {},
     "output_type": "execute_result"
    },
    {
     "data": {
      "text/plain": [
       "0.85714285714285721"
      ]
     },
     "execution_count": 104,
     "metadata": {},
     "output_type": "execute_result"
    },
    {
     "data": {
      "text/plain": [
       "0.41666666666666663"
      ]
     },
     "execution_count": 104,
     "metadata": {},
     "output_type": "execute_result"
    },
    {
     "data": {
      "text/plain": [
       "0.13043478260869565"
      ]
     },
     "execution_count": 104,
     "metadata": {},
     "output_type": "execute_result"
    },
    {
     "data": {
      "text/plain": [
       "0.58333333333333337"
      ]
     },
     "execution_count": 104,
     "metadata": {},
     "output_type": "execute_result"
    },
    {
     "data": {
      "text/plain": [
       "0.86956521739130432"
      ]
     },
     "execution_count": 104,
     "metadata": {},
     "output_type": "execute_result"
    },
    {
     "data": {
      "text/plain": [
       "0.625"
      ]
     },
     "execution_count": 104,
     "metadata": {},
     "output_type": "execute_result"
    },
    {
     "data": {
      "text/plain": [
       "0.25925925925925924"
      ]
     },
     "execution_count": 104,
     "metadata": {},
     "output_type": "execute_result"
    },
    {
     "data": {
      "text/plain": [
       "0.375"
      ]
     },
     "execution_count": 104,
     "metadata": {},
     "output_type": "execute_result"
    },
    {
     "data": {
      "text/plain": [
       "0.7407407407407407"
      ]
     },
     "execution_count": 104,
     "metadata": {},
     "output_type": "execute_result"
    }
   ],
   "source": [
    "prb.iloc[2,0] #1, p(F)\n",
    "prb.iloc[0,2] #2, p(T)\n",
    "prb.iloc[0,0] #3, p(F and T)\n",
    "(prb.iloc[2,0] + prb.iloc[0,2]) - prb.iloc[0,0]  #4, p(F or T)\n",
    "prb.iloc[0,1] #5, p(~F and T)\n",
    "prb.iloc[1,0] #6, p(F and ~T)\n",
    "(prb.iloc[2,1] + prb.iloc[1,2]) - prb.iloc[1,1]  #7, p(~F or ~T)\n",
    "prb.iloc[0,0] / prb.iloc[0,2]  #8, p(F | T)\n",
    "prb.iloc[1,0] / prb.iloc[1,2]  #9, p(F | ~T)\n",
    "prb.iloc[0,1] / prb.iloc[0,2]  #10, p(~F | T)\n",
    "prb.iloc[1,1] / prb.iloc[1, 2] #11, p(~F | ~T)\n",
    "prb.iloc[0,0] / prb.iloc[2,0]  #12, p(T | F)\n",
    "prb.iloc[0,1] / prb.iloc[2,1]  #13, p(T | ~F)\n",
    "prb.iloc[1,0] / prb.iloc[2,0]  #14, p(~T | F)\n",
    "prb.iloc[1,1] / prb.iloc[2,1]  #15, p(~T | ~F)"
   ]
  },
  {
   "cell_type": "markdown",
   "metadata": {},
   "source": [
    "#### There are 84 passengers on an airliner. Define the following two events:\n",
    "#### F: The person is traveling first class.\n",
    "#### M: The person is male.\n",
    "#### Suppose there are 32 first-class passengers and 30 males. Suppose further that p(F or M) = 52/84."
   ]
  },
  {
   "cell_type": "markdown",
   "metadata": {},
   "source": [
    "### Contingency Table"
   ]
  },
  {
   "cell_type": "code",
   "execution_count": 106,
   "metadata": {},
   "outputs": [
    {
     "data": {
      "text/html": [
       "<div>\n",
       "<style>\n",
       "    .dataframe thead tr:only-child th {\n",
       "        text-align: right;\n",
       "    }\n",
       "\n",
       "    .dataframe thead th {\n",
       "        text-align: left;\n",
       "    }\n",
       "\n",
       "    .dataframe tbody tr th {\n",
       "        vertical-align: top;\n",
       "    }\n",
       "</style>\n",
       "<table border=\"1\" class=\"dataframe\">\n",
       "  <thead>\n",
       "    <tr style=\"text-align: right;\">\n",
       "      <th></th>\n",
       "      <th>Male</th>\n",
       "      <th>~Male</th>\n",
       "      <th>Total</th>\n",
       "    </tr>\n",
       "  </thead>\n",
       "  <tbody>\n",
       "    <tr>\n",
       "      <th>First Class</th>\n",
       "      <td>NaN</td>\n",
       "      <td>NaN</td>\n",
       "      <td>NaN</td>\n",
       "    </tr>\n",
       "    <tr>\n",
       "      <th>~First Class</th>\n",
       "      <td>NaN</td>\n",
       "      <td>NaN</td>\n",
       "      <td>NaN</td>\n",
       "    </tr>\n",
       "    <tr>\n",
       "      <th>Total</th>\n",
       "      <td>NaN</td>\n",
       "      <td>NaN</td>\n",
       "      <td>NaN</td>\n",
       "    </tr>\n",
       "  </tbody>\n",
       "</table>\n",
       "</div>"
      ],
      "text/plain": [
       "             Male ~Male Total\n",
       "First Class   NaN   NaN   NaN\n",
       "~First Class  NaN   NaN   NaN\n",
       "Total         NaN   NaN   NaN"
      ]
     },
     "execution_count": 106,
     "metadata": {},
     "output_type": "execute_result"
    }
   ],
   "source": [
    "dft = pd.DataFrame(index=['First Class', '~First Class', 'Total'], columns=['Male', '~Male', 'Total'])\n",
    "dft"
   ]
  },
  {
   "cell_type": "code",
   "execution_count": 113,
   "metadata": {},
   "outputs": [
    {
     "data": {
      "text/html": [
       "<div>\n",
       "<style>\n",
       "    .dataframe thead tr:only-child th {\n",
       "        text-align: right;\n",
       "    }\n",
       "\n",
       "    .dataframe thead th {\n",
       "        text-align: left;\n",
       "    }\n",
       "\n",
       "    .dataframe tbody tr th {\n",
       "        vertical-align: top;\n",
       "    }\n",
       "</style>\n",
       "<table border=\"1\" class=\"dataframe\">\n",
       "  <thead>\n",
       "    <tr style=\"text-align: right;\">\n",
       "      <th></th>\n",
       "      <th>Male</th>\n",
       "      <th>~Male</th>\n",
       "      <th>Total</th>\n",
       "    </tr>\n",
       "  </thead>\n",
       "  <tbody>\n",
       "    <tr>\n",
       "      <th>First Class</th>\n",
       "      <td>10</td>\n",
       "      <td>22</td>\n",
       "      <td>32</td>\n",
       "    </tr>\n",
       "    <tr>\n",
       "      <th>~First Class</th>\n",
       "      <td>20</td>\n",
       "      <td>32</td>\n",
       "      <td>52</td>\n",
       "    </tr>\n",
       "    <tr>\n",
       "      <th>Total</th>\n",
       "      <td>30</td>\n",
       "      <td>54</td>\n",
       "      <td>84</td>\n",
       "    </tr>\n",
       "  </tbody>\n",
       "</table>\n",
       "</div>"
      ],
      "text/plain": [
       "             Male ~Male Total\n",
       "First Class    10    22    32\n",
       "~First Class   20    32    52\n",
       "Total          30    54    84"
      ]
     },
     "execution_count": 113,
     "metadata": {},
     "output_type": "execute_result"
    }
   ],
   "source": [
    "dft.iloc[2,2] = 84  # Add Total\n",
    "dft.iloc[2,0] = 30\n",
    "dft.iloc[0,2] = 32\n",
    "dft.iloc[1,2] = 84-32\n",
    "dft.iloc[2,1] = 84-30\n",
    "dft.iloc[0,0] = (32+30)-52  # Use general union probability rule to figure out p(M and F)\n",
    "dft.iloc[0,1] = 32-10\n",
    "dft.iloc[1,0] = 30-10\n",
    "dft.iloc[1,1] = 52 - 20\n",
    "\n",
    "dft"
   ]
  }
 ],
 "metadata": {
  "kernelspec": {
   "display_name": "Python 3",
   "language": "python",
   "name": "python3"
  },
  "language_info": {
   "codemirror_mode": {
    "name": "ipython",
    "version": 3
   },
   "file_extension": ".py",
   "mimetype": "text/x-python",
   "name": "python",
   "nbconvert_exporter": "python",
   "pygments_lexer": "ipython3",
   "version": "3.6.3"
  }
 },
 "nbformat": 4,
 "nbformat_minor": 2
}
