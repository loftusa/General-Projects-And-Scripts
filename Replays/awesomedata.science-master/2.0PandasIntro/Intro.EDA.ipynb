{
 "cells": [
  {
   "cell_type": "markdown",
   "metadata": {
    "slideshow": {
     "slide_type": "slide"
    }
   },
   "source": [
    "<img src = \"images/ADS.jpg\" align=center width=300/>\n",
    "\n",
    "\n",
    "\n",
    "# Awesome Data Science\n",
    "\n",
    "### 2.0 Introduction to Pandas for Exploratory Data Analysis\n",
    "\n",
    "\n",
    "\n",
    "\n",
    "##### https://github.com/alfredessa/awesomedata.science\n",
    "\n",
    "##### License: Creative Commons\n",
    "\n",
    "\n",
    "\n",
    "\n"
   ]
  },
  {
   "cell_type": "markdown",
   "metadata": {
    "slideshow": {
     "slide_type": "slide"
    }
   },
   "source": [
    "## John Tukey: Exploratory Data Analysis\n",
    "\n",
    "\n",
    "<img src=\"images/tukey.png\" align=\"left\"/ width=500 alt=\"John Tukey\" title=\"John Tukey\">"
   ]
  },
  {
   "cell_type": "markdown",
   "metadata": {
    "slideshow": {
     "slide_type": "slide"
    }
   },
   "source": [
    "### What is Exploratory Data Analysis?\n",
    "\n",
    "Exploratory Data Analysis emphasizes building intuitions about datasets through interactive data exploration and visualizations to discover new **hypotheses**. \n",
    "\n",
    "By contrast Confirmatory Data Analysis (CDA) applies more formal methods, such as statistical hypothesis testing and model building, to **confirm** our hypotheses. \n",
    "\n"
   ]
  },
  {
   "cell_type": "markdown",
   "metadata": {
    "slideshow": {
     "slide_type": "slide"
    }
   },
   "source": [
    "### Exploratory Data Analysis Objectives\n",
    "\n",
    "- Build *initial* intuitions about the data with visualizations\n",
    "- Suggest *hypotheses* about the causes of observed phenomena\n",
    "- Assess *assumptions* on which statistical inference will be based\n",
    "- Support the *selection* of appropriate statistical tools and techniques\n",
    "- Pose further *questions* for analysis \n",
    "- Provide a basis for further data collection through *experiments* or surveys"
   ]
  },
  {
   "cell_type": "markdown",
   "metadata": {
    "collapsed": true,
    "slideshow": {
     "slide_type": "slide"
    }
   },
   "source": [
    "**Recommendation**: Start the Data Science process with Exploratory Data Analysis!"
   ]
  },
  {
   "cell_type": "markdown",
   "metadata": {
    "slideshow": {
     "slide_type": "slide"
    }
   },
   "source": [
    "### *Dataset*: Life Expectancy\n",
    "\n",
    "We will be using life expectancy data set from the World Bank. The data set contains life expectancy for each country for the years 1960 to 2013. The data set is in the form of a .csv file."
   ]
  },
  {
   "cell_type": "markdown",
   "metadata": {
    "slideshow": {
     "slide_type": "slide"
    }
   },
   "source": [
    "### *Some initial questions for data analysis*\n",
    "\n",
    "1. Did overall life expectancy (LE) increase during the period 1960 - 2013?\n",
    "2. Which countries showed the greatest and least gains in life expectancy?\n",
    "3. What was the distribution of LE in 1960 and did it change?\n",
    "4. Did every country see a steady increase in LE or where there setbacks (e.g. due to war)?"
   ]
  }
 ],
 "metadata": {
  "celltoolbar": "Slideshow",
  "kernelspec": {
   "display_name": "Python 3",
   "language": "python",
   "name": "python3"
  },
  "language_info": {
   "codemirror_mode": {
    "name": "ipython",
    "version": 3
   },
   "file_extension": ".py",
   "mimetype": "text/x-python",
   "name": "python",
   "nbconvert_exporter": "python",
   "pygments_lexer": "ipython3",
   "version": "3.5.1"
  }
 },
 "nbformat": 4,
 "nbformat_minor": 0
}
