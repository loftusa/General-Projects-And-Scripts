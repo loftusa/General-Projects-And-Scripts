{
 "cells": [
  {
   "cell_type": "markdown",
   "metadata": {
    "slideshow": {
     "slide_type": "slide"
    }
   },
   "source": [
    "# 3. Jupyter Notebook\n",
    "---\n",
    "\n",
    "A new notebook can be created from the dashboard by clicking on the Files tab, followed by the **`New dropdown`** button, and then selecting the language of choice for the notebook."
   ]
  },
  {
   "cell_type": "markdown",
   "metadata": {
    "slideshow": {
     "slide_type": "subslide"
    }
   },
   "source": [
    "### Header\n",
    "\n",
    "At the top of the notebook document is a header which contains the notebook title, a menubar, and toolbar. This header remains fixed at the top of the screen, even as the body of the notebook is scrolled. The title can be edited in-place (which renames the notebook file), and the menubar and toolbar contain a variety of actions which control notebook navigation and document structure.\n",
    "\n",
    "<img src=\"images/header.png\" />"
   ]
  },
  {
   "cell_type": "markdown",
   "metadata": {
    "slideshow": {
     "slide_type": "subslide"
    }
   },
   "source": [
    "### Body\n",
    "\n",
    "The body of a notebook is composed of cells. Each cell contains either markdown, code input/output, or raw text. Cells can be included in any order and edited at-will, allowing for a large amount of flexibility for constructing a narrative.\n",
    "\n",
    "- **Markdown cells** - These are used to build a nicely formatted narrative around the code in the document. The majority of this lesson is composed of markdown cells.\n",
    "\n",
    "- **Code cells** - These are used to define the computational code in the document. They have two parts: the *input* editor where the user types the code to be executed, and the *output* region which is the representation of the executed code. Depending on the code, this representation may be a simple scalar value, or something more complex like a plot or an interactive widget.\n",
    "\n",
    "- **Raw cells** - These are used when text needs to be included in raw form, without execution or transformation.\n",
    "\n",
    "<img src=\"images/cells.png\" />"
   ]
  },
  {
   "cell_type": "markdown",
   "metadata": {
    "slideshow": {
     "slide_type": "subslide"
    }
   },
   "source": [
    "#### Modality\n",
    "\n",
    "The notebook user interface is *modal*. This means that the keyboard behaves differently depending upon the current mode of the notebook. A notebook has two modes: **edit** and **command**.\n",
    "\n",
    "**Edit mode** is indicated by a green cell border and a prompt showing in the editor area. When a cell is in edit mode, you can type into the cell, like a normal text editor.\n",
    "\n",
    "<img src=\"images/edit_mode.png\">\n",
    "\n",
    "**Command mode** is indicated by a grey cell border. When in command mode, the structure of the notebook can be modified as a whole, but the text in individual cells cannot be changed. Most importantly, the keyboard is mapped to a set of shortcuts for efficiently performing notebook and cell actions. For example, pressing **`c`** when in command mode, will copy the current cell; no modifier is needed.\n",
    "\n",
    "<img src=\"images/command_mode.png\">\n",
    "\n",
    "<br>\n",
    "<div class=\"alert alert-success\">\n",
    "Enter edit mode by pressing `Enter` or using the mouse to click on a cell's editor area.\n",
    "\n",
    "<p>\n",
    "</div>\n",
    "<div class=\"alert alert-success\">\n",
    "Enter command mode by pressing `Esc` or using the mouse to click *outside* a cell's editor area.\n",
    "\n",
    "<p>\n",
    "</div>\n",
    "<div class=\"alert alert-warning\">\n",
    "Do not attempt to type into a cell when in command mode; unexpected things will happen!\n",
    "\n",
    "<p>\n",
    "</div>"
   ]
  },
  {
   "cell_type": "markdown",
   "metadata": {
    "slideshow": {
     "slide_type": "slide"
    }
   },
   "source": [
    "### Running Code\n",
    "\n",
    "Run a code cell using **`Shift-Enter`** or pressing the <button class='btn btn-default btn-xs'><i class=\"fa fa-step-forward\"></i></button> button in the toolbar above. This executes the cell and puts the cursor in the next cell below, or makes a new cell if the cursor is at the end.  Alternatively:\n",
    "\n",
    "- **`Alt-Enter`** - force the creation of a new cell unconditionally (useful when inserting new content in the middle of an existing notebook).\n",
    "- **`Ctrl-Enter`** - execute the cell and keep the cursor in the same cell (useful for quick experimentation of snippets that don't need to be kept permanently)."
   ]
  },
  {
   "cell_type": "markdown",
   "metadata": {},
   "source": [
    "### Markdown\n",
    "\n",
    "\n",
    "Rich text can added to notebook cells using Markdown - a popular plain text formatting syntax. This allows for authoring rich narratives to support the code in a notebook document."
   ]
  },
  {
   "cell_type": "markdown",
   "metadata": {},
   "source": [
    "*italic text*\n",
    "\n",
    "\n",
    "**bold text**\n",
    "\n",
    "\n",
    "Ordered List:\n",
    "\n",
    "1. First\n",
    "2. Second\n",
    "3. Third\n",
    "\n",
    "\n",
    "Unordered List:\n",
    "* One\n",
    "  - table\n",
    "  - chair\n",
    "* Two\n",
    "  - cat\n",
    "* Three\n",
    "  - dog\n",
    "  \n",
    "\n",
    "Embedded Code:\n",
    "\n",
    "```python\n",
    "def f(x):\n",
    "    \"\"\"a docstring\"\"\"\n",
    "    return x**2\n",
    "```\n",
    "\n",
    "\n",
    "Inline LaTeX:  $e^{i\\pi} + 1 = 0$\n",
    "\n",
    "\n",
    "Block LaTeX:\n",
    "\n",
    "$$e^x=\\sum_{i=0}^\\infty \\frac{1}{i!}x^i$$\n",
    "\n",
    "\n",
    "General HTML:\n",
    "\n",
    "<table>\n",
    "<tr>\n",
    "<th>Header 1</th>\n",
    "<th>Header 2</th>\n",
    "</tr>\n",
    "<tr>\n",
    "<td>row 1, cell 1</td>\n",
    "<td>row 1, cell 2</td>\n",
    "</tr>\n",
    "<tr>\n",
    "<td>row 2, cell 1</td>\n",
    "<td>row 2, cell 2</td>\n",
    "</tr>\n",
    "</table>"
   ]
  }
 ],
 "metadata": {
  "celltoolbar": "Slideshow",
  "kernelspec": {
   "display_name": "Python 3",
   "language": "python",
   "name": "python3"
  },
  "language_info": {
   "codemirror_mode": {
    "name": "ipython",
    "version": 3
   },
   "file_extension": ".py",
   "mimetype": "text/x-python",
   "name": "python",
   "nbconvert_exporter": "python",
   "pygments_lexer": "ipython3",
   "version": "3.5.1"
  }
 },
 "nbformat": 4,
 "nbformat_minor": 0
}
