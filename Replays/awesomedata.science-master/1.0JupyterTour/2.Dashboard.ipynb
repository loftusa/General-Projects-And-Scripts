{
 "cells": [
  {
   "cell_type": "markdown",
   "metadata": {
    "slideshow": {
     "slide_type": "slide"
    }
   },
   "source": [
    "# 2. Jupyter Dashboard\n",
    "---\n",
    "\n",
    "<img src=\"images/cockpit.jpg\" />\n",
    "\n"
   ]
  },
  {
   "cell_type": "markdown",
   "metadata": {
    "slideshow": {
     "slide_type": "subslide"
    }
   },
   "source": [
    "## Dashboard\n",
    "---\n",
    "\n",
    "When you launch the notebook server a browser opens to the Jupyter dashboard. Think of it as the cockpit by which you will control the Jupyter environment. \n",
    "\n",
    "<b>Tabs</b> (upper left):\n",
    "\n",
    " - Files: File explorer to see which existing notebooks and directories are available\n",
    " - Running: Displays active Jupyter processes\n",
    " - Cluster: Manage parallel computing clusters\n",
    "\n",
    "<b>Buttons</b> (upper right):\n",
    "- Create new notebooks, terminal sessions, and text or program files\n",
    "- Upload files from local device\n",
    "\n",
    "\n"
   ]
  },
  {
   "cell_type": "markdown",
   "metadata": {
    "slideshow": {
     "slide_type": "subslide"
    }
   },
   "source": [
    "### Files Tab\n",
    "---\n",
    "\n",
    "The files tab provides an interactive view of the accessible filesystem. The directory root is where the notebook server was started.\n",
    "\n",
    "The top of the files list displays clickable breadcrumbs of the current directory. It is possible to navigate the filesystem by clicking on the breadcrumbs or on the directories displayed in the notebook list.\n",
    "\n",
    "A new notebook can be created by clicking on the **`New`** dropdown button at the top of the list, and selecting the desired language kernel.\n",
    "\n",
    "Notebooks can also be uploaded to the current directory by dragging a notebook file onto the list or by clicking the **`Upload`** button at the top of the list.\n",
    "\n",
    "\n",
    "\n",
    "<img src=\"images/dashboard.png\" />"
   ]
  },
  {
   "cell_type": "markdown",
   "metadata": {
    "slideshow": {
     "slide_type": "subslide"
    }
   },
   "source": [
    "### Running Tab\n",
    "---\n",
    "\n",
    "The running tab displays the currently running notebooks. \n",
    "\n",
    "Each running notebook will have an orange **`Shutdown`** button which can be used to shutdown its associated kernel. Closing the notebook's page is not sufficient to shutdown a kernel.\n",
    "\n",
    "Running terminals are also listed if the notebook server is running on an operating system which supports [PTY](https://en.wikipedia.org/wiki/Pseudoterminal) (Linux/Mac).\n",
    "\n",
    "\n",
    "<img src=\"images/running.png\" />"
   ]
  },
  {
   "cell_type": "markdown",
   "metadata": {
    "slideshow": {
     "slide_type": "subslide"
    }
   },
   "source": [
    "### Clusters Tab\n",
    "---\n",
    "\n",
    "The clusters tab provides a summary view of [IPython Parallel](http://ipyparallel.readthedocs.org/en/latest/) clusters. The IPython Parallel extension must be [installed](https://github.com/ipython/ipyparallel) in order to use this feature.\n",
    "\n",
    "\n",
    "<img src=\"images/clusters.png\" />"
   ]
  },
  {
   "cell_type": "markdown",
   "metadata": {
    "slideshow": {
     "slide_type": "slide"
    }
   },
   "source": [
    "### The Text Editor\n",
    "---\n",
    "\n",
    "From the Jupyter dashboard you can also launch a built-in text editor.\n",
    "\n",
    "\n",
    "The text editor has a header which is similar to that of the notebook's, and includes the document title and a menubar. The syntax highlighting for the text file is determined automatically by the file extension. It can also be set manually via the **`Language`** option in the menubar.\n",
    "\n",
    "<img src=\"images/editor.png\">"
   ]
  },
  {
   "cell_type": "markdown",
   "metadata": {
    "slideshow": {
     "slide_type": "slide"
    }
   },
   "source": [
    "## The Terminal\n",
    "---\n",
    "\n",
    "If the notebook server is run on an operating system which supports PTY (Linux/Mac), then the notebook application will be able to spawn interactive terminal instances. If the operating system does not support PTY (Windows), the terminal feature will not be enabled.\n",
    "\n",
    "A new terminal can be spawned from the dashboard by clicking on the **`Files`** tab, followed by the **`New`** dropdown button, and then selecting **`Terminal`**.\n",
    "\n",
    "The terminal supports all applications which would otherwise run in a PTY, including classical terminal applications like Vim, Nano, and Bash.\n",
    "\n",
    "<img src=\"images\\terminal.png\">"
   ]
  }
 ],
 "metadata": {
  "celltoolbar": "Slideshow",
  "kernelspec": {
   "display_name": "Python 3",
   "language": "python",
   "name": "python3"
  },
  "language_info": {
   "codemirror_mode": {
    "name": "ipython",
    "version": 3
   },
   "file_extension": ".py",
   "mimetype": "text/x-python",
   "name": "python",
   "nbconvert_exporter": "python",
   "pygments_lexer": "ipython3",
   "version": "3.5.1"
  }
 },
 "nbformat": 4,
 "nbformat_minor": 0
}
