{
 "cells": [
  {
   "cell_type": "markdown",
   "metadata": {
    "slideshow": {
     "slide_type": "slide"
    }
   },
   "source": [
    "<img src = \"images/ads.jpg\" align=left > \n",
    "\n",
    "\n",
    "\n",
    "# Awesome Data Science\n",
    "\n",
    "## Jupyter Tour \n",
    "\n"
   ]
  },
  {
   "cell_type": "markdown",
   "metadata": {
    "slideshow": {
     "slide_type": "slide"
    }
   },
   "source": [
    "### Contact, Feedback and Code\n",
    "\n",
    "-- http://awesomedata.science\n",
    "\n",
    "-- https://github/alfredessa\n",
    "\n",
    "-- twitter: @malpaso\n"
   ]
  },
  {
   "cell_type": "markdown",
   "metadata": {
    "slideshow": {
     "slide_type": "slide"
    }
   },
   "source": [
    "## Prerequisite: Basic Python"
   ]
  },
  {
   "cell_type": "markdown",
   "metadata": {
    "slideshow": {
     "slide_type": "slide"
    }
   },
   "source": [
    "#Topics\n",
    "\n",
    "\n",
    "<img src = \"images/jupyter.png\",height=200, width=200, align=left >\n",
    "\n",
    "    1. What is Jupyter? \n",
    "\n",
    "    2. Jupyter Dashboard  \n",
    "\n",
    "    3. Jupyter Notebook  \n",
    "\n",
    "    4. IPython Extensions\n",
    "    \n",
    "    5. Demonstrations\n",
    "\n",
    "\n",
    "        \n",
    "  "
   ]
  },
  {
   "cell_type": "markdown",
   "metadata": {
    "slideshow": {
     "slide_type": "fragment"
    }
   },
   "source": [
    "   "
   ]
  },
  {
   "cell_type": "markdown",
   "metadata": {
    "slideshow": {
     "slide_type": "slide"
    }
   },
   "source": [
    "# 1. What is the Jupyter Notebook?\n",
    "\n",
    "Jupyter is a language-agnostic interactive development environment for scientific computing and data science.   \n",
    "\n"
   ]
  },
  {
   "cell_type": "markdown",
   "metadata": {
    "slideshow": {
     "slide_type": "subslide"
    }
   },
   "source": [
    "# What is the Jupyter Notebook? (cont'd)\n",
    "\n",
    "Jupyter's kernel and messaging architecture now supports different programming languages, including Python, R, Julia and many others.\n",
    "\n",
    "The Jupyter Notebook has three components:\n",
    "\n"
   ]
  },
  {
   "cell_type": "markdown",
   "metadata": {
    "slideshow": {
     "slide_type": "fragment"
    }
   },
   "source": [
    "- **Web application**. A web application for writing and running code interactively and authoring notebooks.\n",
    "\n",
    "- **Kernels**. Backend processes that run code in a specific language and return output back to the web application for display or further computation.\n",
    "\n",
    "- **Notebook documents**. Documents consisting of code, text annotations, images, and video. Each document is stored as a JSON file."
   ]
  },
  {
   "cell_type": "markdown",
   "metadata": {
    "slideshow": {
     "slide_type": "subslide"
    }
   },
   "source": [
    "## Why should I learn Jupyter Notebook?\n",
    "\n",
    "\n",
    "\n",
    "\n"
   ]
  },
  {
   "cell_type": "markdown",
   "metadata": {
    "slideshow": {
     "slide_type": "fragment"
    }
   },
   "source": [
    "### Reason 1\n",
    "\n",
    "It optimizes the workflow for modern scientific computing and data science. \n",
    "\n"
   ]
  },
  {
   "cell_type": "markdown",
   "metadata": {
    "slideshow": {
     "slide_type": "subslide"
    }
   },
   "source": [
    "### For Further Study  - Jim Gray: [The Fourth Paradigm](http://research.microsoft.com/en-us/collaboration/fourthparadigm/)\n",
    "\n",
    "\n",
    "\n",
    "<img src=\"images/paradigms.jpg\">\n",
    "\n",
    "\n",
    "\n"
   ]
  },
  {
   "cell_type": "markdown",
   "metadata": {
    "slideshow": {
     "slide_type": "subslide"
    }
   },
   "source": [
    "<img src=\"images/jim-gray.jpg\", height=300, width=200, align=center>\n",
    " \n",
    ">\"We have to do better at producing tools to support the whole research\n",
    "cycle—from data capture and data curation to data analysis\n",
    "and data visualization.\" ---Jim Gray\n",
    "\n",
    "\n",
    " \n"
   ]
  },
  {
   "cell_type": "markdown",
   "metadata": {
    "slideshow": {
     "slide_type": "subslide"
    }
   },
   "source": [
    "## Why should I learn Jupyter Notebook?\n",
    "\n",
    "### Reason 2 \n",
    "\n"
   ]
  },
  {
   "cell_type": "markdown",
   "metadata": {
    "slideshow": {
     "slide_type": "fragment"
    }
   },
   "source": [
    "The Jupyter environment is at the intersection of innovation in both the scientific computing and data science communities. By staying abreast of advances in Jupyter you will be able to leverage and incorporate innovations far more quickly in your own work.\n",
    "\n",
    "<img src = \"images/intersect.jpeg\" height=750, width=500, align=center>"
   ]
  },
  {
   "cell_type": "markdown",
   "metadata": {
    "slideshow": {
     "slide_type": "subslide"
    }
   },
   "source": [
    "### Who created Jupyter Notebook?\n",
    "\n",
    "Jupyter has evolved from IPython and the IPython Notebook, which were both developed by Fernando Perez, Brian Granger, and their team. \n",
    "\n",
    "A big shout out to Fernando and Brian for their amazing foresight and leadership!\n",
    "\n",
    "\n",
    "<img src=\"images/fernando-and-brian-granger.jpeg\" height=350, width=450 >\n"
   ]
  },
  {
   "cell_type": "markdown",
   "metadata": {
    "slideshow": {
     "slide_type": "slide"
    }
   },
   "source": [
    "## Getting Started\n",
    "\n",
    "Jupyter can be downloaded from the Continuum Analytics web site as part of the Anaconda Python distribution: https://continuum.io\n",
    "\n",
    "Continuum's Anaconda distribution contains most of the Python libraries we will be using for data science."
   ]
  },
  {
   "cell_type": "markdown",
   "metadata": {
    "slideshow": {
     "slide_type": "slide"
    }
   },
   "source": [
    "### Launching Jupyter\n",
    "\n",
    "After you have installed Jupyter, you can launch the notebook environment by typing in a terminal shell:\n",
    "\n",
    "<code>$ jupyter notebook </code>"
   ]
  },
  {
   "cell_type": "markdown",
   "metadata": {
    "slideshow": {
     "slide_type": "slide"
    }
   },
   "source": [
    "# 5. IPython Extensions\n",
    "\n",
    "<img src=\"images/hyperspace.png\">"
   ]
  },
  {
   "cell_type": "markdown",
   "metadata": {
    "collapsed": true,
    "slideshow": {
     "slide_type": "subslide"
    }
   },
   "source": [
    "# 5. IPython Extensions\n",
    "\n",
    "IPython is a command shell for interactive computing in Python. Some of the interactive extensions to Python:\n",
    "\n",
    "- Help\n",
    "- Tab Completion\n",
    "- Magic Commands (Line, Cell)\n",
    "- Shell Commands\n",
    "- Passing values to and from command shell\n",
    "\n",
    "    "
   ]
  }
 ],
 "metadata": {
  "celltoolbar": "Slideshow",
  "kernelspec": {
   "display_name": "Python 3",
   "language": "python",
   "name": "python3"
  },
  "language_info": {
   "codemirror_mode": {
    "name": "ipython",
    "version": 3
   },
   "file_extension": ".py",
   "mimetype": "text/x-python",
   "name": "python",
   "nbconvert_exporter": "python",
   "pygments_lexer": "ipython3",
   "version": "3.5.1"
  }
 },
 "nbformat": 4,
 "nbformat_minor": 0
}
