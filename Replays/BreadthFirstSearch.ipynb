{
 "cells": [
  {
   "cell_type": "markdown",
   "metadata": {},
   "source": [
    "# Breadth first search"
   ]
  },
  {
   "cell_type": "code",
   "execution_count": 29,
   "metadata": {},
   "outputs": [],
   "source": [
    "from queue import Queue\n",
    "import math\n",
    "import unittest"
   ]
  },
  {
   "cell_type": "code",
   "execution_count": 30,
   "metadata": {},
   "outputs": [],
   "source": [
    "class GraphNode:\n",
    "    def __init__(self, value):\n",
    "        self.value = value\n",
    "        self.parent = None\n",
    "        self.discovered = False\n",
    "        self.distance = 0\n",
    "\n",
    "        \n",
    "class Graph:\n",
    "    \"\"\"\n",
    "    Graph is a collection of GraphNode objects represented by \n",
    "    an array of vertices and an adjacency list of edges.\n",
    "    \"\"\"\n",
    "    \n",
    "    def __init__(self, vertexEdges):\n",
    "        \"\"\"\n",
    "        vertexEdges is an ordered list of sets\n",
    "        of the form VertexEdges[vertexIndex] = {adjacentVertexIndices}.\n",
    "        The length of VertexEdges is the number of vertices.\n",
    "        \"\"\"\n",
    "        \n",
    "        self.vertices = []\n",
    "        self.adjacencyList = vertexEdges\n",
    "        # Populate vertices\n",
    "        for vertexIndex in range(len(vertexEdges)):\n",
    "            self.vertices.append(GraphNode(vertexIndex))\n",
    "            "
   ]
  },
  {
   "cell_type": "code",
   "execution_count": 41,
   "metadata": {},
   "outputs": [
    {
     "data": {
      "text/plain": [
       "1"
      ]
     },
     "execution_count": 41,
     "metadata": {},
     "output_type": "execute_result"
    }
   ],
   "source": [
    "a = []\n",
    "a.insert(0, 1)\n",
    "a.insert(0, 2)\n"
   ]
  },
  {
   "cell_type": "code",
   "execution_count": 28,
   "metadata": {},
   "outputs": [],
   "source": [
    "class ListQueue:\n",
    "    \"\"\"Simple queue object that stores elements in an accessible list\"\"\"\n",
    "    \n",
    "    def __init__(self):\n",
    "        self.elements = []\n",
    "        \n",
    "    def __len__(self):\n",
    "        return len(self.elements)\n",
    "    \n",
    "    def put(self, newItem):\n",
    "        self.elements.insert(0, newItem)\n",
    "        \n",
    "    def get(self):\n",
    "        return self.elements.pop()\n",
    "    \n",
    "    def empty(self):\n",
    "        return len(self.elements) == 0"
   ]
  },
  {
   "cell_type": "markdown",
   "metadata": {},
   "source": [
    "## Subroutines"
   ]
  },
  {
   "cell_type": "code",
   "execution_count": null,
   "metadata": {},
   "outputs": [],
   "source": [
    "def reset_graph(graph):\n",
    "    # Set all vertices in graph to default un"
   ]
  }
 ],
 "metadata": {
  "kernelspec": {
   "display_name": "Python 3",
   "language": "python",
   "name": "python3"
  },
  "language_info": {
   "codemirror_mode": {
    "name": "ipython",
    "version": 3
   },
   "file_extension": ".py",
   "mimetype": "text/x-python",
   "name": "python",
   "nbconvert_exporter": "python",
   "pygments_lexer": "ipython3",
   "version": "3.6.6"
  }
 },
 "nbformat": 4,
 "nbformat_minor": 2
}
