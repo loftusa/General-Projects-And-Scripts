{
 "cells": [
  {
   "cell_type": "code",
   "execution_count": 1,
   "metadata": {
    "collapsed": true
   },
   "outputs": [],
   "source": [
    "import pandas as pd\n",
    "import numpy as np\n",
    "import matplotlib.pyplot as plt\n",
    "%matplotlib inline\n",
    "from IPython.core.interactiveshell import InteractiveShell\n",
    "InteractiveShell.ast_node_interactivity = \"all\""
   ]
  },
  {
   "cell_type": "code",
   "execution_count": 6,
   "metadata": {},
   "outputs": [],
   "source": [
    "df = pd.read_csv(r'C:\\Users\\Alex Loftus\\Dropbox\\Programming\\Projects\\Jupyter-Notebooks\\Analyses\\Chase-acct-info\\Checking-11-23-2017.CSV')"
   ]
  },
  {
   "cell_type": "code",
   "execution_count": 9,
   "metadata": {},
   "outputs": [
    {
     "data": {
      "text/html": [
       "<div>\n",
       "<style>\n",
       "    .dataframe thead tr:only-child th {\n",
       "        text-align: right;\n",
       "    }\n",
       "\n",
       "    .dataframe thead th {\n",
       "        text-align: left;\n",
       "    }\n",
       "\n",
       "    .dataframe tbody tr th {\n",
       "        vertical-align: top;\n",
       "    }\n",
       "</style>\n",
       "<table border=\"1\" class=\"dataframe\">\n",
       "  <thead>\n",
       "    <tr style=\"text-align: right;\">\n",
       "      <th></th>\n",
       "      <th>Details</th>\n",
       "      <th>Posting Date</th>\n",
       "      <th>Description</th>\n",
       "      <th>Amount</th>\n",
       "      <th>Type</th>\n",
       "      <th>Balance</th>\n",
       "      <th>Check or Slip #</th>\n",
       "    </tr>\n",
       "  </thead>\n",
       "  <tbody>\n",
       "    <tr>\n",
       "      <th>0</th>\n",
       "      <td>DEBIT</td>\n",
       "      <td>12/19/2017</td>\n",
       "      <td>POS DEBIT                UNICORN/NARWHAL      ...</td>\n",
       "      <td>-6.50</td>\n",
       "      <td>MISC_DEBIT</td>\n",
       "      <td></td>\n",
       "      <td>NaN</td>\n",
       "    </tr>\n",
       "    <tr>\n",
       "      <th>1</th>\n",
       "      <td>DEBIT</td>\n",
       "      <td>12/19/2017</td>\n",
       "      <td>POS DEBIT                UNICORN/NARWHAL      ...</td>\n",
       "      <td>-20.00</td>\n",
       "      <td>MISC_DEBIT</td>\n",
       "      <td></td>\n",
       "      <td>NaN</td>\n",
       "    </tr>\n",
       "    <tr>\n",
       "      <th>2</th>\n",
       "      <td>DEBIT</td>\n",
       "      <td>12/18/2017</td>\n",
       "      <td>PAYPAL           INST XFER  PARKMOBILE      WE...</td>\n",
       "      <td>-2.25</td>\n",
       "      <td>ACH_DEBIT</td>\n",
       "      <td>1099.82</td>\n",
       "      <td>NaN</td>\n",
       "    </tr>\n",
       "    <tr>\n",
       "      <th>3</th>\n",
       "      <td>DEBIT</td>\n",
       "      <td>12/18/2017</td>\n",
       "      <td>PAYPAL           INST XFER  XSOLLA          WE...</td>\n",
       "      <td>-4.99</td>\n",
       "      <td>ACH_DEBIT</td>\n",
       "      <td>1102.07</td>\n",
       "      <td>NaN</td>\n",
       "    </tr>\n",
       "    <tr>\n",
       "      <th>4</th>\n",
       "      <td>DEBIT</td>\n",
       "      <td>12/18/2017</td>\n",
       "      <td>FRED MEYE FRED MEYER 0 BELLINGHAM WA         1...</td>\n",
       "      <td>-24.03</td>\n",
       "      <td>DEBIT_CARD</td>\n",
       "      <td>1107.06</td>\n",
       "      <td>NaN</td>\n",
       "    </tr>\n",
       "    <tr>\n",
       "      <th>5</th>\n",
       "      <td>DEBIT</td>\n",
       "      <td>12/18/2017</td>\n",
       "      <td>THE ROYAL INN BELLINGHAM WA                  1...</td>\n",
       "      <td>-9.50</td>\n",
       "      <td>DEBIT_CARD</td>\n",
       "      <td>1131.09</td>\n",
       "      <td>NaN</td>\n",
       "    </tr>\n",
       "    <tr>\n",
       "      <th>6</th>\n",
       "      <td>DEBIT</td>\n",
       "      <td>12/18/2017</td>\n",
       "      <td>PEL MENI BELLINGHAM WA                       1...</td>\n",
       "      <td>-17.00</td>\n",
       "      <td>DEBIT_CARD</td>\n",
       "      <td>1140.59</td>\n",
       "      <td>NaN</td>\n",
       "    </tr>\n",
       "    <tr>\n",
       "      <th>7</th>\n",
       "      <td>DEBIT</td>\n",
       "      <td>12/18/2017</td>\n",
       "      <td>AUNTIE ANNES FERNDALE WA                     1...</td>\n",
       "      <td>-6.51</td>\n",
       "      <td>DEBIT_CARD</td>\n",
       "      <td>1157.59</td>\n",
       "      <td>NaN</td>\n",
       "    </tr>\n",
       "    <tr>\n",
       "      <th>8</th>\n",
       "      <td>DEBIT</td>\n",
       "      <td>12/18/2017</td>\n",
       "      <td>ARAMARK ZOES BOOKSIDE B BELLINGHAM WA        1...</td>\n",
       "      <td>-5.82</td>\n",
       "      <td>DEBIT_CARD</td>\n",
       "      <td>1164.1</td>\n",
       "      <td>NaN</td>\n",
       "    </tr>\n",
       "    <tr>\n",
       "      <th>9</th>\n",
       "      <td>DEBIT</td>\n",
       "      <td>12/18/2017</td>\n",
       "      <td>SECOND TIME AROUND COMP BELLINGHAM WA        1...</td>\n",
       "      <td>-108.70</td>\n",
       "      <td>DEBIT_CARD</td>\n",
       "      <td>1169.92</td>\n",
       "      <td>NaN</td>\n",
       "    </tr>\n",
       "    <tr>\n",
       "      <th>10</th>\n",
       "      <td>DEBIT</td>\n",
       "      <td>12/15/2017</td>\n",
       "      <td>GAMESTOP #4331 1 BELLI BELLINGHAM WA 621444  1...</td>\n",
       "      <td>-14.12</td>\n",
       "      <td>DEBIT_CARD</td>\n",
       "      <td>1278.62</td>\n",
       "      <td>NaN</td>\n",
       "    </tr>\n",
       "    <tr>\n",
       "      <th>11</th>\n",
       "      <td>DEBIT</td>\n",
       "      <td>12/14/2017</td>\n",
       "      <td>PAYPAL           INST XFER  PARKMOBILE      WE...</td>\n",
       "      <td>-2.25</td>\n",
       "      <td>ACH_DEBIT</td>\n",
       "      <td>1292.74</td>\n",
       "      <td>NaN</td>\n",
       "    </tr>\n",
       "    <tr>\n",
       "      <th>12</th>\n",
       "      <td>DEBIT</td>\n",
       "      <td>12/14/2017</td>\n",
       "      <td>ARAMARK VIKING UNION CA BELLINGHAM WA        1...</td>\n",
       "      <td>-3.86</td>\n",
       "      <td>DEBIT_CARD</td>\n",
       "      <td>1294.99</td>\n",
       "      <td>NaN</td>\n",
       "    </tr>\n",
       "    <tr>\n",
       "      <th>13</th>\n",
       "      <td>DEBIT</td>\n",
       "      <td>12/13/2017</td>\n",
       "      <td>PAYPAL           INST XFER  PARKMOBILE      WE...</td>\n",
       "      <td>-8.25</td>\n",
       "      <td>ACH_DEBIT</td>\n",
       "      <td>1298.85</td>\n",
       "      <td>NaN</td>\n",
       "    </tr>\n",
       "    <tr>\n",
       "      <th>14</th>\n",
       "      <td>DEBIT</td>\n",
       "      <td>12/13/2017</td>\n",
       "      <td>PAYPAL           INST XFER  FANDANGOMED     WE...</td>\n",
       "      <td>-14.50</td>\n",
       "      <td>ACH_DEBIT</td>\n",
       "      <td>1307.1</td>\n",
       "      <td>NaN</td>\n",
       "    </tr>\n",
       "    <tr>\n",
       "      <th>15</th>\n",
       "      <td>DEBIT</td>\n",
       "      <td>12/13/2017</td>\n",
       "      <td>FRED MEYE FRED MEYER 0 BELLINGHAM WA         1...</td>\n",
       "      <td>-82.75</td>\n",
       "      <td>DEBIT_CARD</td>\n",
       "      <td>1321.6</td>\n",
       "      <td>NaN</td>\n",
       "    </tr>\n",
       "    <tr>\n",
       "      <th>16</th>\n",
       "      <td>CREDIT</td>\n",
       "      <td>12/13/2017</td>\n",
       "      <td>RAISER,LLC       EDI PAYMNT 34WMZPD2QEOEUX1 CC...</td>\n",
       "      <td>6.58</td>\n",
       "      <td>ACH_CREDIT</td>\n",
       "      <td>1404.35</td>\n",
       "      <td>NaN</td>\n",
       "    </tr>\n",
       "    <tr>\n",
       "      <th>17</th>\n",
       "      <td>DEBIT</td>\n",
       "      <td>12/12/2017</td>\n",
       "      <td>WWU EMARKETS 360-650-3720 WA                 1...</td>\n",
       "      <td>-22.00</td>\n",
       "      <td>DEBIT_CARD</td>\n",
       "      <td>1397.77</td>\n",
       "      <td>NaN</td>\n",
       "    </tr>\n",
       "    <tr>\n",
       "      <th>18</th>\n",
       "      <td>DEBIT</td>\n",
       "      <td>12/12/2017</td>\n",
       "      <td>APL* ITUNES.COM/BILL 866-712-7753 CA         1...</td>\n",
       "      <td>-16.29</td>\n",
       "      <td>DEBIT_CARD</td>\n",
       "      <td>1419.77</td>\n",
       "      <td>NaN</td>\n",
       "    </tr>\n",
       "    <tr>\n",
       "      <th>19</th>\n",
       "      <td>DEBIT</td>\n",
       "      <td>12/12/2017</td>\n",
       "      <td>ARAMARK ZOES BOOKSIDE B BELLINGHAM WA        1...</td>\n",
       "      <td>-12.87</td>\n",
       "      <td>DEBIT_CARD</td>\n",
       "      <td>1436.06</td>\n",
       "      <td>NaN</td>\n",
       "    </tr>\n",
       "  </tbody>\n",
       "</table>\n",
       "</div>"
      ],
      "text/plain": [
       "   Details Posting Date                                        Description  \\\n",
       "0    DEBIT   12/19/2017  POS DEBIT                UNICORN/NARWHAL      ...   \n",
       "1    DEBIT   12/19/2017  POS DEBIT                UNICORN/NARWHAL      ...   \n",
       "2    DEBIT   12/18/2017  PAYPAL           INST XFER  PARKMOBILE      WE...   \n",
       "3    DEBIT   12/18/2017  PAYPAL           INST XFER  XSOLLA          WE...   \n",
       "4    DEBIT   12/18/2017  FRED MEYE FRED MEYER 0 BELLINGHAM WA         1...   \n",
       "5    DEBIT   12/18/2017  THE ROYAL INN BELLINGHAM WA                  1...   \n",
       "6    DEBIT   12/18/2017  PEL MENI BELLINGHAM WA                       1...   \n",
       "7    DEBIT   12/18/2017  AUNTIE ANNES FERNDALE WA                     1...   \n",
       "8    DEBIT   12/18/2017  ARAMARK ZOES BOOKSIDE B BELLINGHAM WA        1...   \n",
       "9    DEBIT   12/18/2017  SECOND TIME AROUND COMP BELLINGHAM WA        1...   \n",
       "10   DEBIT   12/15/2017  GAMESTOP #4331 1 BELLI BELLINGHAM WA 621444  1...   \n",
       "11   DEBIT   12/14/2017  PAYPAL           INST XFER  PARKMOBILE      WE...   \n",
       "12   DEBIT   12/14/2017  ARAMARK VIKING UNION CA BELLINGHAM WA        1...   \n",
       "13   DEBIT   12/13/2017  PAYPAL           INST XFER  PARKMOBILE      WE...   \n",
       "14   DEBIT   12/13/2017  PAYPAL           INST XFER  FANDANGOMED     WE...   \n",
       "15   DEBIT   12/13/2017  FRED MEYE FRED MEYER 0 BELLINGHAM WA         1...   \n",
       "16  CREDIT   12/13/2017  RAISER,LLC       EDI PAYMNT 34WMZPD2QEOEUX1 CC...   \n",
       "17   DEBIT   12/12/2017  WWU EMARKETS 360-650-3720 WA                 1...   \n",
       "18   DEBIT   12/12/2017  APL* ITUNES.COM/BILL 866-712-7753 CA         1...   \n",
       "19   DEBIT   12/12/2017  ARAMARK ZOES BOOKSIDE B BELLINGHAM WA        1...   \n",
       "\n",
       "    Amount        Type  Balance  Check or Slip #  \n",
       "0    -6.50  MISC_DEBIT                       NaN  \n",
       "1   -20.00  MISC_DEBIT                       NaN  \n",
       "2    -2.25   ACH_DEBIT  1099.82              NaN  \n",
       "3    -4.99   ACH_DEBIT  1102.07              NaN  \n",
       "4   -24.03  DEBIT_CARD  1107.06              NaN  \n",
       "5    -9.50  DEBIT_CARD  1131.09              NaN  \n",
       "6   -17.00  DEBIT_CARD  1140.59              NaN  \n",
       "7    -6.51  DEBIT_CARD  1157.59              NaN  \n",
       "8    -5.82  DEBIT_CARD   1164.1              NaN  \n",
       "9  -108.70  DEBIT_CARD  1169.92              NaN  \n",
       "10  -14.12  DEBIT_CARD  1278.62              NaN  \n",
       "11   -2.25   ACH_DEBIT  1292.74              NaN  \n",
       "12   -3.86  DEBIT_CARD  1294.99              NaN  \n",
       "13   -8.25   ACH_DEBIT  1298.85              NaN  \n",
       "14  -14.50   ACH_DEBIT   1307.1              NaN  \n",
       "15  -82.75  DEBIT_CARD   1321.6              NaN  \n",
       "16    6.58  ACH_CREDIT  1404.35              NaN  \n",
       "17  -22.00  DEBIT_CARD  1397.77              NaN  \n",
       "18  -16.29  DEBIT_CARD  1419.77              NaN  \n",
       "19  -12.87  DEBIT_CARD  1436.06              NaN  "
      ]
     },
     "execution_count": 9,
     "metadata": {},
     "output_type": "execute_result"
    }
   ],
   "source": [
    "df.head(20)"
   ]
  },
  {
   "cell_type": "code",
   "execution_count": 23,
   "metadata": {},
   "outputs": [
    {
     "data": {
      "text/plain": [
       "count     19.000000\n",
       "mean      19.784211\n",
       "std       27.910406\n",
       "min        2.250000\n",
       "25%        6.160000\n",
       "50%        9.500000\n",
       "75%       18.500000\n",
       "max      108.700000\n",
       "Name: Amount, dtype: float64"
      ]
     },
     "execution_count": 23,
     "metadata": {},
     "output_type": "execute_result"
    }
   ],
   "source": [
    "df['Amount'][0:19].abs().describe()"
   ]
  },
  {
   "cell_type": "code",
   "execution_count": null,
   "metadata": {
    "collapsed": true
   },
   "outputs": [],
   "source": [
    "df = df.set_index('Posting Date')"
   ]
  },
  {
   "cell_type": "code",
   "execution_count": 34,
   "metadata": {},
   "outputs": [
    {
     "data": {
      "text/plain": [
       "<matplotlib.axes._subplots.AxesSubplot at 0x2a386ad9898>"
      ]
     },
     "execution_count": 34,
     "metadata": {},
     "output_type": "execute_result"
    },
    {
     "data": {
      "image/png": "[encoded data removed]",
      "text/plain": [
       "<matplotlib.figure.Figure at 0x2a386af1ef0>"
      ]
     },
     "metadata": {},
     "output_type": "display_data"
    }
   ],
   "source": [
    "amt = df['Amount'][0:30]\n",
    "amt[amt < 0].abs().plot(kind='bar')"
   ]
  },
  {
   "cell_type": "code",
   "execution_count": 36,
   "metadata": {},
   "outputs": [
    {
     "data": {
      "text/plain": [
       "-178.8"
      ]
     },
     "execution_count": 36,
     "metadata": {},
     "output_type": "execute_result"
    }
   ],
   "source": [
    "df.loc['12/18/2017']['Amount'].sum()"
   ]
  },
  {
   "cell_type": "code",
   "execution_count": 8,
   "metadata": {},
   "outputs": [
    {
     "data": {
      "text/html": [
       "<div>\n",
       "<style>\n",
       "    .dataframe thead tr:only-child th {\n",
       "        text-align: right;\n",
       "    }\n",
       "\n",
       "    .dataframe thead th {\n",
       "        text-align: left;\n",
       "    }\n",
       "\n",
       "    .dataframe tbody tr th {\n",
       "        vertical-align: top;\n",
       "    }\n",
       "</style>\n",
       "<table border=\"1\" class=\"dataframe\">\n",
       "  <thead>\n",
       "    <tr style=\"text-align: right;\">\n",
       "      <th></th>\n",
       "      <th>Amount</th>\n",
       "      <th>Balance</th>\n",
       "    </tr>\n",
       "  </thead>\n",
       "  <tbody>\n",
       "    <tr>\n",
       "      <th>0</th>\n",
       "      <td>-38.05</td>\n",
       "      <td></td>\n",
       "    </tr>\n",
       "    <tr>\n",
       "      <th>1</th>\n",
       "      <td>-20.21</td>\n",
       "      <td></td>\n",
       "    </tr>\n",
       "    <tr>\n",
       "      <th>2</th>\n",
       "      <td>-16.31</td>\n",
       "      <td></td>\n",
       "    </tr>\n",
       "    <tr>\n",
       "      <th>3</th>\n",
       "      <td>1150.00</td>\n",
       "      <td></td>\n",
       "    </tr>\n",
       "    <tr>\n",
       "      <th>4</th>\n",
       "      <td>-14.82</td>\n",
       "      <td>223.04</td>\n",
       "    </tr>\n",
       "  </tbody>\n",
       "</table>\n",
       "</div>"
      ],
      "text/plain": [
       "    Amount Balance\n",
       "0   -38.05        \n",
       "1   -20.21        \n",
       "2   -16.31        \n",
       "3  1150.00        \n",
       "4   -14.82  223.04"
      ]
     },
     "execution_count": 8,
     "metadata": {},
     "output_type": "execute_result"
    }
   ],
   "source": [
    "df[['Amount', 'Balance']].head()"
   ]
  },
  {
   "cell_type": "code",
   "execution_count": 9,
   "metadata": {},
   "outputs": [
    {
     "data": {
      "text/plain": [
       "Details                                                        DEBIT\n",
       "Posting Date                                              11/24/2017\n",
       "Description        POS DEBIT                ELSEVIER USD ECOMM   ...\n",
       "Amount                                                        -38.05\n",
       "Type                                                      MISC_DEBIT\n",
       "Balance                                                             \n",
       "Check or Slip #                                                  NaN\n",
       "Name: 0, dtype: object"
      ]
     },
     "execution_count": 9,
     "metadata": {},
     "output_type": "execute_result"
    }
   ],
   "source": [
    "df.loc[0]"
   ]
  },
  {
   "cell_type": "code",
   "execution_count": 65,
   "metadata": {},
   "outputs": [
    {
     "data": {
      "text/plain": [
       "count    1354.000000\n",
       "mean       19.639173\n",
       "std        31.808883\n",
       "min         0.170000\n",
       "25%         4.950000\n",
       "50%         9.015000\n",
       "75%        22.987500\n",
       "max       321.430000\n",
       "Name: Amount, dtype: float64"
      ]
     },
     "execution_count": 65,
     "metadata": {},
     "output_type": "execute_result"
    }
   ],
   "source": [
    "bal = df['Balance']\n",
    "amt = df['Amount']\n",
    "a = bal[4:21]\n",
    "b = amt[4:21]\n",
    "\n",
    "amt = pd.to_numeric(amt)\n",
    "a = pd.to_numeric(a)\n",
    "b = pd.to_numeric(b)\n",
    "\n",
    "amt2 = amt[amt<0].abs()\n",
    "amt2[amt2 < 400].describe()"
   ]
  },
  {
   "cell_type": "code",
   "execution_count": 72,
   "metadata": {},
   "outputs": [
    {
     "data": {
      "text/plain": [
       "1499    2555.61\n",
       "1500     2568.3\n",
       "1501    2580.48\n",
       "1502    2582.98\n",
       "1503    2592.73\n",
       "Name: Balance, dtype: object"
      ]
     },
     "execution_count": 72,
     "metadata": {},
     "output_type": "execute_result"
    }
   ],
   "source": [
    "bal.tail()"
   ]
  },
  {
   "cell_type": "code",
   "execution_count": 52,
   "metadata": {},
   "outputs": [
    {
     "data": {
      "text/plain": [
       "(-75.150000000000006, 1578.1500000000001, -74.549999999999997, 1565.55)"
      ]
     },
     "execution_count": 52,
     "metadata": {},
     "output_type": "execute_result"
    },
    {
     "data": {
      "image/png": "[encoded data removed]",
      "text/plain": [
       "<matplotlib.figure.Figure at 0x27cd502acc0>"
      ]
     },
     "metadata": {},
     "output_type": "display_data"
    }
   ],
   "source": [
    "plt.plot(bal)"
   ]
  }
 ],
 "metadata": {
  "kernelspec": {
   "display_name": "Python 3",
   "language": "python",
   "name": "python3"
  },
  "language_info": {
   "codemirror_mode": {
    "name": "ipython",
    "version": 3
   },
   "file_extension": ".py",
   "mimetype": "text/x-python",
   "name": "python",
   "nbconvert_exporter": "python",
   "pygments_lexer": "ipython3",
   "version": "3.6.3"
  }
 },
 "nbformat": 4,
 "nbformat_minor": 2
}
