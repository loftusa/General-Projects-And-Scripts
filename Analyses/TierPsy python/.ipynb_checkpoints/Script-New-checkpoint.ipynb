{
 "cells": [
  {
   "cell_type": "markdown",
   "metadata": {},
   "source": [
    "# New script"
   ]
  },
  {
   "cell_type": "code",
   "execution_count": 72,
   "metadata": {},
   "outputs": [],
   "source": [
    "import pandas as pd\n",
    "import numpy as np\n",
    "import matplotlib.pyplot as plt\n",
    "import os\n",
    "from pathlib import Path\n",
    "%matplotlib inline"
   ]
  },
  {
   "cell_type": "markdown",
   "metadata": {},
   "source": [
    "End goal: Output a well-formatted Excel document with whatever parameters you want, which has all of the feat_manual data for an entire folder well-organized and concatanated."
   ]
  },
  {
   "cell_type": "code",
   "execution_count": 98,
   "metadata": {},
   "outputs": [
    {
     "data": {
      "text/html": [
       "<div>\n",
       "<style scoped>\n",
       "    .dataframe tbody tr th:only-of-type {\n",
       "        vertical-align: middle;\n",
       "    }\n",
       "\n",
       "    .dataframe tbody tr th {\n",
       "        vertical-align: top;\n",
       "    }\n",
       "\n",
       "    .dataframe thead th {\n",
       "        text-align: right;\n",
       "    }\n",
       "</style>\n",
       "<table border=\"1\" class=\"dataframe\">\n",
       "  <thead>\n",
       "    <tr style=\"text-align: right;\">\n",
       "      <th></th>\n",
       "      <th>unpaired</th>\n",
       "      <th>strain</th>\n",
       "      <th>worm_index</th>\n",
       "      <th>timeframe</th>\n",
       "      <th>motion_mode</th>\n",
       "    </tr>\n",
       "  </thead>\n",
       "  <tbody>\n",
       "    <tr>\n",
       "      <th>0</th>\n",
       "      <td>True</td>\n",
       "      <td>unc43</td>\n",
       "      <td>1</td>\n",
       "      <td>1</td>\n",
       "      <td>1</td>\n",
       "    </tr>\n",
       "    <tr>\n",
       "      <th>1</th>\n",
       "      <td>True</td>\n",
       "      <td>n2</td>\n",
       "      <td>1</td>\n",
       "      <td>2</td>\n",
       "      <td>1</td>\n",
       "    </tr>\n",
       "    <tr>\n",
       "      <th>2</th>\n",
       "      <td>False</td>\n",
       "      <td>n2</td>\n",
       "      <td>2</td>\n",
       "      <td>1</td>\n",
       "      <td>0</td>\n",
       "    </tr>\n",
       "    <tr>\n",
       "      <th>3</th>\n",
       "      <td>False</td>\n",
       "      <td>unc43</td>\n",
       "      <td>2</td>\n",
       "      <td>2</td>\n",
       "      <td>0</td>\n",
       "    </tr>\n",
       "  </tbody>\n",
       "</table>\n",
       "</div>"
      ],
      "text/plain": [
       "   unpaired strain  worm_index  timeframe  motion_mode\n",
       "0      True  unc43           1          1            1\n",
       "1      True     n2           1          2            1\n",
       "2     False     n2           2          1            0\n",
       "3     False  unc43           2          2            0"
      ]
     },
     "execution_count": 98,
     "metadata": {},
     "output_type": "execute_result"
    }
   ],
   "source": [
    "# End goal\n",
    "example_df = pd.DataFrame({'unpaired': [True, True, False, False], 'strain': ['unc43', 'n2', 'n2', 'unc43'], 'worm_index': [1, 1, 2, 2], 'timeframe': [1, 2, 1, 2], 'motion_mode': [1, 1, 0, 0]}, columns=['unpaired', 'strain', 'worm_index', 'timeframe', 'motion_mode'])\n",
    "example_df"
   ]
  },
  {
   "cell_type": "code",
   "execution_count": 62,
   "metadata": {},
   "outputs": [],
   "source": [
    "# This will retrieve data from a single feat_manual file.\n",
    "\n",
    "class WormParser:\n",
    "    '''\n",
    "    Takes in a set of HDF5 files, parses them to be all neat and tidy, and is able to then send them to Excel.\n",
    "    \n",
    "    Parameters\n",
    "    ----------\n",
    "    file_location : Location of the file to be grabbed.\n",
    "    '''\n",
    "    \n",
    "    def __init__(self, file_location):\n",
    "        self.time = get_worm_data(file_location)\n",
    "        self.means = get_worm_data(file_location, feat_time=False)\n",
    "        self.cwd = os.getcwd()\n",
    "\n",
    "    def get_worm_data(self, file, feat_time=True):\n",
    "        '''\n",
    "        Return a dataframe from a specific HDF5 file, either features_timeseries or features_means\n",
    "\n",
    "        Parameters\n",
    "        ----------\n",
    "        file_location : string, location of file we're getting the dataframe from\n",
    "        feat_time : True if we want features_timeseries, false if we want features_manual\n",
    "        \n",
    "        Returns\n",
    "        -------\n",
    "        dataframe : DataFrame with the information from that part of the HDF file.\n",
    "        \n",
    "        '''\n",
    "\n",
    "        f = pd.HDFStore(file)\n",
    "        if feat_time:\n",
    "            return f.get('features_timeseries')\n",
    "        else:\n",
    "            return f.get('features_means')\n",
    "       \n",
    "        \n",
    "    def parse_worm_data(self, data):\n",
    "        '''\n",
    "        Takes an input dataframe and reorganizes it.\n",
    "        '''\n",
    "        pass\n",
    "    \n",
    "    def send_to_excel(self, name, output_location=''):\n",
    "        '''\n",
    "        Send the current two means and timeseries dataframes to excel, with each set of data being on its own sheet.\n",
    "\n",
    "        Parameters\n",
    "        ----------\n",
    "        name : string, the name of the excel file\n",
    "        output_location : string, where you want the file to be saved. Default is the current working directory.\n",
    "        \n",
    "        '''\n",
    "        \n",
    "        if not output_location:\n",
    "            output_location = self.cwd\n",
    "        writer = pd.ExcelWriter('{}\\\\{}.xlsx'.format(output_location, name))\n",
    "        self.time.to_excel(writer, sheet_name='timeseries', index=False)\n",
    "        self.means.to_excel(writer, sheet_name='means', index=False)\n",
    "        writer.save()"
   ]
  },
  {
   "cell_type": "code",
   "execution_count": 63,
   "metadata": {},
   "outputs": [],
   "source": [
    "file = r\"Z:\\Associative Conditioning Behavior Videos_2017 to 2018\\Alex Loftus - Put your videos here\\Psychfest\\feat_manual_files\\unc-43 paired\\2.16.18 VC1052 Paired ARL 1min Post_feat_manual.hdf5\"\n",
    "f = WormParser(file)"
   ]
  },
  {
   "cell_type": "markdown",
   "metadata": {},
   "source": [
    "## Example folder"
   ]
  },
  {
   "cell_type": "code",
   "execution_count": 77,
   "metadata": {},
   "outputs": [],
   "source": [
    "exf = Path(r'Z:\\Associative Conditioning Behavior Videos_2017 to 2018\\Alex Loftus - Put your videos here\\Psychfest\\feat_manual_files\\unc-43 paired')"
   ]
  },
  {
   "cell_type": "code",
   "execution_count": 93,
   "metadata": {},
   "outputs": [
    {
     "data": {
      "text/plain": [
       "WindowsPath('Z:/Associative Conditioning Behavior Videos_2017 to 2018/Alex Loftus - Put your videos here/Psychfest/feat_manual_files/unc-43 paired/2.16.18 VC1052 Paired ARL 1min Post_feat_manual.hdf5')"
      ]
     },
     "execution_count": 93,
     "metadata": {},
     "output_type": "execute_result"
    }
   ],
   "source": []
  }
 ],
 "metadata": {
  "kernelspec": {
   "display_name": "Python 3",
   "language": "python",
   "name": "python3"
  },
  "language_info": {
   "codemirror_mode": {
    "name": "ipython",
    "version": 3
   },
   "file_extension": ".py",
   "mimetype": "text/x-python",
   "name": "python",
   "nbconvert_exporter": "python",
   "pygments_lexer": "ipython3",
   "version": "3.6.4"
  }
 },
 "nbformat": 4,
 "nbformat_minor": 2
}
